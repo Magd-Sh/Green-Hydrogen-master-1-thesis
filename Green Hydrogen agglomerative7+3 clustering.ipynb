{
 "cells": [
  {
   "cell_type": "code",
   "execution_count": 256,
   "id": "f1169d2a-da01-4d1f-acf4-aad630cc11eb",
   "metadata": {},
   "outputs": [],
   "source": [
    "import numpy as np\n",
    "import pandas as pd\n",
    "\n",
    "from sklearn.cluster import AgglomerativeClustering\n",
    "from sklearn.metrics import silhouette_score\n",
    "from sklearn.preprocessing import StandardScaler\n",
    "from sklearn.decomposition import PCA\n",
    "from scipy.cluster.hierarchy import dendrogram\n",
    "\n",
    "\n",
    "\n",
    "import matplotlib.pyplot as plt\n",
    "import seaborn as sns"
   ]
  },
  {
   "cell_type": "code",
   "execution_count": 257,
   "id": "c69a0844-cc37-4aaa-9644-e1ecf13390d4",
   "metadata": {},
   "outputs": [
    {
     "data": {
      "text/html": [
       "<div>\n",
       "<style scoped>\n",
       "    .dataframe tbody tr th:only-of-type {\n",
       "        vertical-align: middle;\n",
       "    }\n",
       "\n",
       "    .dataframe tbody tr th {\n",
       "        vertical-align: top;\n",
       "    }\n",
       "\n",
       "    .dataframe thead th {\n",
       "        text-align: right;\n",
       "    }\n",
       "</style>\n",
       "<table border=\"1\" class=\"dataframe\">\n",
       "  <thead>\n",
       "    <tr style=\"text-align: right;\">\n",
       "      <th></th>\n",
       "      <th>Country</th>\n",
       "      <th>Status</th>\n",
       "      <th>Sector</th>\n",
       "      <th>Programme</th>\n",
       "      <th>Instrument_type</th>\n",
       "      <th>Policy_side</th>\n",
       "      <th>Amount_USD_mn</th>\n",
       "      <th>Duration_yrs</th>\n",
       "      <th>Description</th>\n",
       "    </tr>\n",
       "  </thead>\n",
       "  <tbody>\n",
       "    <tr>\n",
       "      <th>0</th>\n",
       "      <td>Australia</td>\n",
       "      <td>In force</td>\n",
       "      <td>Hubs</td>\n",
       "      <td>Regional Hydrogen Hubs Programme</td>\n",
       "      <td>Grant</td>\n",
       "      <td>Pull</td>\n",
       "      <td>324.0</td>\n",
       "      <td>NaN</td>\n",
       "      <td>AUD 490 m (USD 324 m) for seven H₂ hubs (up to...</td>\n",
       "    </tr>\n",
       "    <tr>\n",
       "      <th>1</th>\n",
       "      <td>Australia</td>\n",
       "      <td>Announced</td>\n",
       "      <td>Electrolyser manufacturing</td>\n",
       "      <td>National Reconstruction Fund – H₂ equipment debt</td>\n",
       "      <td>Loan/guarantee</td>\n",
       "      <td>Push</td>\n",
       "      <td>2000.0</td>\n",
       "      <td>NaN</td>\n",
       "      <td>Finance in the form of debt, equity and guaran...</td>\n",
       "    </tr>\n",
       "    <tr>\n",
       "      <th>2</th>\n",
       "      <td>Australia</td>\n",
       "      <td>Announced</td>\n",
       "      <td>Industry</td>\n",
       "      <td>Future Made in Australia programme</td>\n",
       "      <td>Tax credit</td>\n",
       "      <td>Push</td>\n",
       "      <td>10000.0</td>\n",
       "      <td>17 years</td>\n",
       "      <td>AUD 2/kg (USD 1.3/kg) incentive for up to 10 y...</td>\n",
       "    </tr>\n",
       "    <tr>\n",
       "      <th>3</th>\n",
       "      <td>Australia</td>\n",
       "      <td>In force</td>\n",
       "      <td>Industry</td>\n",
       "      <td>the Australian Headstart programme</td>\n",
       "      <td>CfD</td>\n",
       "      <td>Pull</td>\n",
       "      <td>2600.0</td>\n",
       "      <td>10 years</td>\n",
       "      <td>For projects with a cumulative electrolyser ca...</td>\n",
       "    </tr>\n",
       "    <tr>\n",
       "      <th>4</th>\n",
       "      <td>Australia</td>\n",
       "      <td>Announced</td>\n",
       "      <td>Industry</td>\n",
       "      <td>Future Made in Australia Innovation Fund</td>\n",
       "      <td>Grant</td>\n",
       "      <td>Push</td>\n",
       "      <td>1200.0</td>\n",
       "      <td>20 years</td>\n",
       "      <td>Includes “green” metals and low-carbon liquid ...</td>\n",
       "    </tr>\n",
       "  </tbody>\n",
       "</table>\n",
       "</div>"
      ],
      "text/plain": [
       "     Country     Status                       Sector  \\\n",
       "0  Australia   In force                         Hubs   \n",
       "1  Australia  Announced  Electrolyser manufacturing    \n",
       "2  Australia  Announced                     Industry   \n",
       "3  Australia   In force                     Industry   \n",
       "4  Australia  Announced                     Industry   \n",
       "\n",
       "                                          Programme Instrument_type  \\\n",
       "0                  Regional Hydrogen Hubs Programme           Grant   \n",
       "1  National Reconstruction Fund – H₂ equipment debt  Loan/guarantee   \n",
       "2                Future Made in Australia programme      Tax credit   \n",
       "3                the Australian Headstart programme             CfD   \n",
       "4          Future Made in Australia Innovation Fund           Grant   \n",
       "\n",
       "  Policy_side  Amount_USD_mn Duration_yrs  \\\n",
       "0        Pull          324.0          NaN   \n",
       "1        Push         2000.0          NaN   \n",
       "2        Push        10000.0     17 years   \n",
       "3        Pull         2600.0    10 years    \n",
       "4        Push         1200.0     20 years   \n",
       "\n",
       "                                         Description  \n",
       "0  AUD 490 m (USD 324 m) for seven H₂ hubs (up to...  \n",
       "1  Finance in the form of debt, equity and guaran...  \n",
       "2  AUD 2/kg (USD 1.3/kg) incentive for up to 10 y...  \n",
       "3  For projects with a cumulative electrolyser ca...  \n",
       "4  Includes “green” metals and low-carbon liquid ...  "
      ]
     },
     "execution_count": 257,
     "metadata": {},
     "output_type": "execute_result"
    }
   ],
   "source": [
    "gh = pd.read_excel('/Users/majdshamashan/Desktop/Thesis/green_h2_policy_2024.xlsx')\n",
    "gh.head()"
   ]
  },
  {
   "cell_type": "code",
   "execution_count": 258,
   "id": "aaa27d0d-6567-4e80-8a84-41669b0307ad",
   "metadata": {},
   "outputs": [],
   "source": [
    "gh_subset = gh.dropna(subset=['Amount_USD_mn'], axis=0).reset_index(drop=True)"
   ]
  },
  {
   "cell_type": "code",
   "execution_count": 259,
   "id": "6f66a686-e426-441b-a928-1590f1dccb19",
   "metadata": {},
   "outputs": [],
   "source": [
    "gh_subset.replace({'Instrument_type':{'Grant ': 'Grant'}}, inplace=True)\n"
   ]
  },
  {
   "cell_type": "code",
   "execution_count": 260,
   "id": "f98357a2-17d5-480e-87c7-c45442298ba4",
   "metadata": {},
   "outputs": [],
   "source": [
    "gh_dummies = pd.get_dummies(gh_subset, drop_first=True, columns=['Status', 'Policy_side', 'Instrument_type'])"
   ]
  },
  {
   "cell_type": "code",
   "execution_count": 261,
   "id": "c2625f8a-f5cb-49e0-bbe7-ecd0040384f1",
   "metadata": {},
   "outputs": [],
   "source": [
    "cols_to_convert = ['Status_In force', 'Policy_side_Push', 'Instrument_type_Competitive bidding',\n",
    "                   'Instrument_type_Grant', 'Instrument_type_Loan/guarantee', 'Instrument_type_Tax credit']\n",
    "\n",
    "gh_dummies[cols_to_convert] = gh_dummies[cols_to_convert].astype(int)"
   ]
  },
  {
   "cell_type": "code",
   "execution_count": 262,
   "id": "f284bcf1-628f-4922-896a-f0ad9b2efb1d",
   "metadata": {},
   "outputs": [],
   "source": [
    "X = gh_dummies.drop(columns=['Country', 'Sector', 'Programme', 'Description', 'Duration_yrs'])"
   ]
  },
  {
   "cell_type": "code",
   "execution_count": 263,
   "id": "043441b2-6506-468b-bf2f-0b99dbb69048",
   "metadata": {},
   "outputs": [
    {
     "data": {
      "text/html": [
       "<div>\n",
       "<style scoped>\n",
       "    .dataframe tbody tr th:only-of-type {\n",
       "        vertical-align: middle;\n",
       "    }\n",
       "\n",
       "    .dataframe tbody tr th {\n",
       "        vertical-align: top;\n",
       "    }\n",
       "\n",
       "    .dataframe thead th {\n",
       "        text-align: right;\n",
       "    }\n",
       "</style>\n",
       "<table border=\"1\" class=\"dataframe\">\n",
       "  <thead>\n",
       "    <tr style=\"text-align: right;\">\n",
       "      <th></th>\n",
       "      <th>Amount_USD_mn</th>\n",
       "      <th>Status_In force</th>\n",
       "      <th>Policy_side_Push</th>\n",
       "      <th>Instrument_type_Competitive bidding</th>\n",
       "      <th>Instrument_type_Grant</th>\n",
       "      <th>Instrument_type_Loan/guarantee</th>\n",
       "      <th>Instrument_type_Tax credit</th>\n",
       "    </tr>\n",
       "  </thead>\n",
       "  <tbody>\n",
       "    <tr>\n",
       "      <th>0</th>\n",
       "      <td>324.0</td>\n",
       "      <td>1</td>\n",
       "      <td>0</td>\n",
       "      <td>0</td>\n",
       "      <td>1</td>\n",
       "      <td>0</td>\n",
       "      <td>0</td>\n",
       "    </tr>\n",
       "    <tr>\n",
       "      <th>1</th>\n",
       "      <td>2000.0</td>\n",
       "      <td>0</td>\n",
       "      <td>1</td>\n",
       "      <td>0</td>\n",
       "      <td>0</td>\n",
       "      <td>1</td>\n",
       "      <td>0</td>\n",
       "    </tr>\n",
       "    <tr>\n",
       "      <th>2</th>\n",
       "      <td>10000.0</td>\n",
       "      <td>0</td>\n",
       "      <td>1</td>\n",
       "      <td>0</td>\n",
       "      <td>0</td>\n",
       "      <td>0</td>\n",
       "      <td>1</td>\n",
       "    </tr>\n",
       "    <tr>\n",
       "      <th>3</th>\n",
       "      <td>2600.0</td>\n",
       "      <td>1</td>\n",
       "      <td>0</td>\n",
       "      <td>0</td>\n",
       "      <td>0</td>\n",
       "      <td>0</td>\n",
       "      <td>0</td>\n",
       "    </tr>\n",
       "    <tr>\n",
       "      <th>4</th>\n",
       "      <td>1200.0</td>\n",
       "      <td>0</td>\n",
       "      <td>1</td>\n",
       "      <td>0</td>\n",
       "      <td>1</td>\n",
       "      <td>0</td>\n",
       "      <td>0</td>\n",
       "    </tr>\n",
       "  </tbody>\n",
       "</table>\n",
       "</div>"
      ],
      "text/plain": [
       "   Amount_USD_mn  Status_In force  Policy_side_Push  \\\n",
       "0          324.0                1                 0   \n",
       "1         2000.0                0                 1   \n",
       "2        10000.0                0                 1   \n",
       "3         2600.0                1                 0   \n",
       "4         1200.0                0                 1   \n",
       "\n",
       "   Instrument_type_Competitive bidding  Instrument_type_Grant  \\\n",
       "0                                    0                      1   \n",
       "1                                    0                      0   \n",
       "2                                    0                      0   \n",
       "3                                    0                      0   \n",
       "4                                    0                      1   \n",
       "\n",
       "   Instrument_type_Loan/guarantee  Instrument_type_Tax credit  \n",
       "0                               0                           0  \n",
       "1                               1                           0  \n",
       "2                               0                           1  \n",
       "3                               0                           0  \n",
       "4                               0                           0  "
      ]
     },
     "execution_count": 263,
     "metadata": {},
     "output_type": "execute_result"
    }
   ],
   "source": [
    "X.head()"
   ]
  },
  {
   "cell_type": "code",
   "execution_count": 264,
   "id": "c107b7e1-c92f-44c6-80a6-27c9968f6bb1",
   "metadata": {},
   "outputs": [],
   "source": [
    "X_scaled = StandardScaler().fit_transform(X)"
   ]
  },
  {
   "cell_type": "code",
   "execution_count": 265,
   "id": "5c3a06f0-3d68-40ff-81d8-91d14210ce4a",
   "metadata": {},
   "outputs": [
    {
     "data": {
      "text/html": [
       "<div>\n",
       "<style scoped>\n",
       "    .dataframe tbody tr th:only-of-type {\n",
       "        vertical-align: middle;\n",
       "    }\n",
       "\n",
       "    .dataframe tbody tr th {\n",
       "        vertical-align: top;\n",
       "    }\n",
       "\n",
       "    .dataframe thead th {\n",
       "        text-align: right;\n",
       "    }\n",
       "</style>\n",
       "<table border=\"1\" class=\"dataframe\">\n",
       "  <thead>\n",
       "    <tr style=\"text-align: right;\">\n",
       "      <th></th>\n",
       "      <th>0</th>\n",
       "      <th>1</th>\n",
       "      <th>2</th>\n",
       "      <th>3</th>\n",
       "      <th>4</th>\n",
       "      <th>5</th>\n",
       "      <th>6</th>\n",
       "    </tr>\n",
       "  </thead>\n",
       "  <tbody>\n",
       "    <tr>\n",
       "      <th>0</th>\n",
       "      <td>-0.424718</td>\n",
       "      <td>0.612372</td>\n",
       "      <td>-1.747178</td>\n",
       "      <td>-0.363803</td>\n",
       "      <td>0.693375</td>\n",
       "      <td>-0.234082</td>\n",
       "      <td>-0.263523</td>\n",
       "    </tr>\n",
       "    <tr>\n",
       "      <th>1</th>\n",
       "      <td>-0.083242</td>\n",
       "      <td>-1.632993</td>\n",
       "      <td>0.572351</td>\n",
       "      <td>-0.363803</td>\n",
       "      <td>-1.442221</td>\n",
       "      <td>4.272002</td>\n",
       "      <td>-0.263523</td>\n",
       "    </tr>\n",
       "    <tr>\n",
       "      <th>2</th>\n",
       "      <td>1.546717</td>\n",
       "      <td>-1.632993</td>\n",
       "      <td>0.572351</td>\n",
       "      <td>-0.363803</td>\n",
       "      <td>-1.442221</td>\n",
       "      <td>-0.234082</td>\n",
       "      <td>3.794733</td>\n",
       "    </tr>\n",
       "    <tr>\n",
       "      <th>3</th>\n",
       "      <td>0.039005</td>\n",
       "      <td>0.612372</td>\n",
       "      <td>-1.747178</td>\n",
       "      <td>-0.363803</td>\n",
       "      <td>-1.442221</td>\n",
       "      <td>-0.234082</td>\n",
       "      <td>-0.263523</td>\n",
       "    </tr>\n",
       "    <tr>\n",
       "      <th>4</th>\n",
       "      <td>-0.246238</td>\n",
       "      <td>-1.632993</td>\n",
       "      <td>0.572351</td>\n",
       "      <td>-0.363803</td>\n",
       "      <td>0.693375</td>\n",
       "      <td>-0.234082</td>\n",
       "      <td>-0.263523</td>\n",
       "    </tr>\n",
       "    <tr>\n",
       "      <th>...</th>\n",
       "      <td>...</td>\n",
       "      <td>...</td>\n",
       "      <td>...</td>\n",
       "      <td>...</td>\n",
       "      <td>...</td>\n",
       "      <td>...</td>\n",
       "      <td>...</td>\n",
       "    </tr>\n",
       "    <tr>\n",
       "      <th>72</th>\n",
       "      <td>-0.478710</td>\n",
       "      <td>0.612372</td>\n",
       "      <td>0.572351</td>\n",
       "      <td>-0.363803</td>\n",
       "      <td>0.693375</td>\n",
       "      <td>-0.234082</td>\n",
       "      <td>-0.263523</td>\n",
       "    </tr>\n",
       "    <tr>\n",
       "      <th>73</th>\n",
       "      <td>-0.486656</td>\n",
       "      <td>0.612372</td>\n",
       "      <td>0.572351</td>\n",
       "      <td>-0.363803</td>\n",
       "      <td>0.693375</td>\n",
       "      <td>-0.234082</td>\n",
       "      <td>-0.263523</td>\n",
       "    </tr>\n",
       "    <tr>\n",
       "      <th>74</th>\n",
       "      <td>-0.488592</td>\n",
       "      <td>0.612372</td>\n",
       "      <td>0.572351</td>\n",
       "      <td>-0.363803</td>\n",
       "      <td>0.693375</td>\n",
       "      <td>-0.234082</td>\n",
       "      <td>-0.263523</td>\n",
       "    </tr>\n",
       "    <tr>\n",
       "      <th>75</th>\n",
       "      <td>-0.488694</td>\n",
       "      <td>0.612372</td>\n",
       "      <td>0.572351</td>\n",
       "      <td>-0.363803</td>\n",
       "      <td>0.693375</td>\n",
       "      <td>-0.234082</td>\n",
       "      <td>-0.263523</td>\n",
       "    </tr>\n",
       "    <tr>\n",
       "      <th>76</th>\n",
       "      <td>3.584165</td>\n",
       "      <td>0.612372</td>\n",
       "      <td>0.572351</td>\n",
       "      <td>-0.363803</td>\n",
       "      <td>-1.442221</td>\n",
       "      <td>-0.234082</td>\n",
       "      <td>3.794733</td>\n",
       "    </tr>\n",
       "  </tbody>\n",
       "</table>\n",
       "<p>77 rows × 7 columns</p>\n",
       "</div>"
      ],
      "text/plain": [
       "           0         1         2         3         4         5         6\n",
       "0  -0.424718  0.612372 -1.747178 -0.363803  0.693375 -0.234082 -0.263523\n",
       "1  -0.083242 -1.632993  0.572351 -0.363803 -1.442221  4.272002 -0.263523\n",
       "2   1.546717 -1.632993  0.572351 -0.363803 -1.442221 -0.234082  3.794733\n",
       "3   0.039005  0.612372 -1.747178 -0.363803 -1.442221 -0.234082 -0.263523\n",
       "4  -0.246238 -1.632993  0.572351 -0.363803  0.693375 -0.234082 -0.263523\n",
       "..       ...       ...       ...       ...       ...       ...       ...\n",
       "72 -0.478710  0.612372  0.572351 -0.363803  0.693375 -0.234082 -0.263523\n",
       "73 -0.486656  0.612372  0.572351 -0.363803  0.693375 -0.234082 -0.263523\n",
       "74 -0.488592  0.612372  0.572351 -0.363803  0.693375 -0.234082 -0.263523\n",
       "75 -0.488694  0.612372  0.572351 -0.363803  0.693375 -0.234082 -0.263523\n",
       "76  3.584165  0.612372  0.572351 -0.363803 -1.442221 -0.234082  3.794733\n",
       "\n",
       "[77 rows x 7 columns]"
      ]
     },
     "execution_count": 265,
     "metadata": {},
     "output_type": "execute_result"
    }
   ],
   "source": [
    "test = pd.DataFrame(X_scaled)\n",
    "test"
   ]
  },
  {
   "cell_type": "code",
   "execution_count": 266,
   "id": "d3ab2ed0-8477-4a0f-b9a5-ac74937d9d08",
   "metadata": {},
   "outputs": [
    {
     "data": {
      "text/plain": [
       "'\\nnum_clusters = [i for i in range(2, 13)]\\n\\ndef agglomerative_sil(num_clusters, x_vals):\\n    \"\"\"\\n    Accepts as arguments list of ints and data array. \\n    Fits an agglomerative clustering model where k = each value in the list of ints.\\n    Calculates a silhouette score for each k value. \\n    Returns each k-value\\'s silhouette score appended to a list.\\n    \"\"\"\\n    sil_score = []\\n    for num in num_clusters:\\n        aggc = AgglomerativeClustering(n_clusters=num)\\n        aggc.fit(x_vals)\\n        sil_score.append(silhouette_score(x_vals, aggc.labels_))\\n\\n    return sil_score\\n\\n\\nsil_score = agglomerative_sil(num_clusters, X_scaled)\\nsil_score\\n'"
      ]
     },
     "execution_count": 266,
     "metadata": {},
     "output_type": "execute_result"
    }
   ],
   "source": [
    "'''\n",
    "num_clusters = [i for i in range(2, 13)]\n",
    "\n",
    "def agglomerative_sil(num_clusters, x_vals):\n",
    "    \"\"\"\n",
    "    Accepts as arguments list of ints and data array. \n",
    "    Fits an agglomerative clustering model where k = each value in the list of ints.\n",
    "    Calculates a silhouette score for each k value. \n",
    "    Returns each k-value's silhouette score appended to a list.\n",
    "    \"\"\"\n",
    "    sil_score = []\n",
    "    for num in num_clusters:\n",
    "        aggc = AgglomerativeClustering(n_clusters=num)\n",
    "        aggc.fit(x_vals)\n",
    "        sil_score.append(silhouette_score(x_vals, aggc.labels_))\n",
    "\n",
    "    return sil_score\n",
    "\n",
    "\n",
    "sil_score = agglomerative_sil(num_clusters, X_scaled)\n",
    "sil_score\n",
    "'''"
   ]
  },
  {
   "cell_type": "code",
   "execution_count": 267,
   "id": "2c832809-7c2c-4413-8d9d-035451c12f49",
   "metadata": {},
   "outputs": [
    {
     "data": {
      "text/plain": [
       "\"\\nplot = sns.lineplot(x=num_clusters, y=sil_score, marker='o')\\nplot.set_xlabel('Number of clusters');\\nplot.set_ylabel('Silhouette score');\\n\""
      ]
     },
     "execution_count": 267,
     "metadata": {},
     "output_type": "execute_result"
    }
   ],
   "source": [
    "'''\n",
    "plot = sns.lineplot(x=num_clusters, y=sil_score, marker='o')\n",
    "plot.set_xlabel('Number of clusters');\n",
    "plot.set_ylabel('Silhouette score');\n",
    "'''"
   ]
  },
  {
   "cell_type": "code",
   "execution_count": 268,
   "id": "38865a8c-c0ec-4d1c-a95b-c6e347b5d32b",
   "metadata": {},
   "outputs": [],
   "source": [
    "#agglomerative7 = AgglomerativeClustering(n_clusters=7, compute_distances=True)\n",
    "#agglomerative7.fit(X_scaled)"
   ]
  },
  {
   "cell_type": "code",
   "execution_count": 269,
   "id": "266cc3bd-9200-4f97-98af-c038f53b334c",
   "metadata": {},
   "outputs": [],
   "source": [
    "#print('Unique labels:', np.unique(agglomerative7.labels_))"
   ]
  },
  {
   "cell_type": "code",
   "execution_count": 270,
   "id": "d30a208a-e36a-4e2e-ba66-0e32a31bb4e3",
   "metadata": {},
   "outputs": [],
   "source": [
    "#gh_subset['cluster7'] = agglomerative7.labels_"
   ]
  },
  {
   "cell_type": "code",
   "execution_count": 271,
   "id": "5d1ee9d0-b3c9-41a0-85aa-6d0509cc8804",
   "metadata": {},
   "outputs": [
    {
     "data": {
      "text/html": [
       "<div>\n",
       "<style scoped>\n",
       "    .dataframe tbody tr th:only-of-type {\n",
       "        vertical-align: middle;\n",
       "    }\n",
       "\n",
       "    .dataframe tbody tr th {\n",
       "        vertical-align: top;\n",
       "    }\n",
       "\n",
       "    .dataframe thead th {\n",
       "        text-align: right;\n",
       "    }\n",
       "</style>\n",
       "<table border=\"1\" class=\"dataframe\">\n",
       "  <thead>\n",
       "    <tr style=\"text-align: right;\">\n",
       "      <th></th>\n",
       "      <th>Country</th>\n",
       "      <th>Status</th>\n",
       "      <th>Sector</th>\n",
       "      <th>Programme</th>\n",
       "      <th>Instrument_type</th>\n",
       "      <th>Policy_side</th>\n",
       "      <th>Amount_USD_mn</th>\n",
       "      <th>Duration_yrs</th>\n",
       "      <th>Description</th>\n",
       "    </tr>\n",
       "  </thead>\n",
       "  <tbody>\n",
       "    <tr>\n",
       "      <th>0</th>\n",
       "      <td>Australia</td>\n",
       "      <td>In force</td>\n",
       "      <td>Hubs</td>\n",
       "      <td>Regional Hydrogen Hubs Programme</td>\n",
       "      <td>Grant</td>\n",
       "      <td>Pull</td>\n",
       "      <td>324.0</td>\n",
       "      <td>NaN</td>\n",
       "      <td>AUD 490 m (USD 324 m) for seven H₂ hubs (up to...</td>\n",
       "    </tr>\n",
       "    <tr>\n",
       "      <th>1</th>\n",
       "      <td>Australia</td>\n",
       "      <td>Announced</td>\n",
       "      <td>Electrolyser manufacturing</td>\n",
       "      <td>National Reconstruction Fund – H₂ equipment debt</td>\n",
       "      <td>Loan/guarantee</td>\n",
       "      <td>Push</td>\n",
       "      <td>2000.0</td>\n",
       "      <td>NaN</td>\n",
       "      <td>Finance in the form of debt, equity and guaran...</td>\n",
       "    </tr>\n",
       "    <tr>\n",
       "      <th>2</th>\n",
       "      <td>Australia</td>\n",
       "      <td>Announced</td>\n",
       "      <td>Industry</td>\n",
       "      <td>Future Made in Australia programme</td>\n",
       "      <td>Tax credit</td>\n",
       "      <td>Push</td>\n",
       "      <td>10000.0</td>\n",
       "      <td>17 years</td>\n",
       "      <td>AUD 2/kg (USD 1.3/kg) incentive for up to 10 y...</td>\n",
       "    </tr>\n",
       "    <tr>\n",
       "      <th>3</th>\n",
       "      <td>Australia</td>\n",
       "      <td>In force</td>\n",
       "      <td>Industry</td>\n",
       "      <td>the Australian Headstart programme</td>\n",
       "      <td>CfD</td>\n",
       "      <td>Pull</td>\n",
       "      <td>2600.0</td>\n",
       "      <td>10 years</td>\n",
       "      <td>For projects with a cumulative electrolyser ca...</td>\n",
       "    </tr>\n",
       "    <tr>\n",
       "      <th>4</th>\n",
       "      <td>Australia</td>\n",
       "      <td>Announced</td>\n",
       "      <td>Industry</td>\n",
       "      <td>Future Made in Australia Innovation Fund</td>\n",
       "      <td>Grant</td>\n",
       "      <td>Push</td>\n",
       "      <td>1200.0</td>\n",
       "      <td>20 years</td>\n",
       "      <td>Includes “green” metals and low-carbon liquid ...</td>\n",
       "    </tr>\n",
       "  </tbody>\n",
       "</table>\n",
       "</div>"
      ],
      "text/plain": [
       "     Country     Status                       Sector  \\\n",
       "0  Australia   In force                         Hubs   \n",
       "1  Australia  Announced  Electrolyser manufacturing    \n",
       "2  Australia  Announced                     Industry   \n",
       "3  Australia   In force                     Industry   \n",
       "4  Australia  Announced                     Industry   \n",
       "\n",
       "                                          Programme Instrument_type  \\\n",
       "0                  Regional Hydrogen Hubs Programme           Grant   \n",
       "1  National Reconstruction Fund – H₂ equipment debt  Loan/guarantee   \n",
       "2                Future Made in Australia programme      Tax credit   \n",
       "3                the Australian Headstart programme             CfD   \n",
       "4          Future Made in Australia Innovation Fund           Grant   \n",
       "\n",
       "  Policy_side  Amount_USD_mn Duration_yrs  \\\n",
       "0        Pull          324.0          NaN   \n",
       "1        Push         2000.0          NaN   \n",
       "2        Push        10000.0     17 years   \n",
       "3        Pull         2600.0    10 years    \n",
       "4        Push         1200.0     20 years   \n",
       "\n",
       "                                         Description  \n",
       "0  AUD 490 m (USD 324 m) for seven H₂ hubs (up to...  \n",
       "1  Finance in the form of debt, equity and guaran...  \n",
       "2  AUD 2/kg (USD 1.3/kg) incentive for up to 10 y...  \n",
       "3  For projects with a cumulative electrolyser ca...  \n",
       "4  Includes “green” metals and low-carbon liquid ...  "
      ]
     },
     "execution_count": 271,
     "metadata": {},
     "output_type": "execute_result"
    }
   ],
   "source": [
    "gh_subset.head()"
   ]
  },
  {
   "cell_type": "code",
   "execution_count": 272,
   "id": "2663b955-24b2-41db-963e-eadab554b8e8",
   "metadata": {},
   "outputs": [
    {
     "data": {
      "text/plain": [
       "\"'\\npca = PCA(n_components=2)\\nreduced_data = pca.fit_transform(X_scaled)  \\n\\nlabels = agglomerative7.labels_\\n\\n# Plot\\nplt.figure(figsize=(8, 6))\\nax = sns.scatterplot(x=reduced_data[:, 0], y=reduced_data[:, 1], hue=labels, palette='tab10', s=70)\\nplt.title('Agglomerative Clustering (k=7) - PCA Projection')\\nplt.xlabel('Principal Component 1')\\nplt.ylabel('Principal Component 2')\\nplt.legend(title='Cluster')\\nax.figure.set_facecolor('#e6e6e6')\\n\\nplt.grid(True)\\nplt.show()\\n\""
      ]
     },
     "execution_count": 272,
     "metadata": {},
     "output_type": "execute_result"
    }
   ],
   "source": [
    "''''\n",
    "pca = PCA(n_components=2)\n",
    "reduced_data = pca.fit_transform(X_scaled)  \n",
    "\n",
    "labels = agglomerative7.labels_\n",
    "\n",
    "# Plot\n",
    "plt.figure(figsize=(8, 6))\n",
    "ax = sns.scatterplot(x=reduced_data[:, 0], y=reduced_data[:, 1], hue=labels, palette='tab10', s=70)\n",
    "plt.title('Agglomerative Clustering (k=7) - PCA Projection')\n",
    "plt.xlabel('Principal Component 1')\n",
    "plt.ylabel('Principal Component 2')\n",
    "plt.legend(title='Cluster')\n",
    "ax.figure.set_facecolor('#e6e6e6')\n",
    "\n",
    "plt.grid(True)\n",
    "plt.show()\n",
    "'''"
   ]
  },
  {
   "cell_type": "code",
   "execution_count": 273,
   "id": "9ebdebcd-4442-4f68-81f2-2ac87e4eea6a",
   "metadata": {},
   "outputs": [],
   "source": [
    "#gh_subset.groupby(by=['cluster7', 'Instrument_type']).size()"
   ]
  },
  {
   "cell_type": "code",
   "execution_count": 274,
   "id": "1f453347-2bb1-48ce-af60-d2f282535629",
   "metadata": {},
   "outputs": [],
   "source": [
    "#gh_subset.groupby(by=['cluster7', 'Instrument_type', 'Policy_side']).size()"
   ]
  },
  {
   "cell_type": "code",
   "execution_count": 275,
   "id": "e06a0e21-a00f-40b0-ab39-247782a9eaae",
   "metadata": {},
   "outputs": [
    {
     "data": {
      "text/plain": [
       "'\\'\\nmodel = agglomerative7\\n\\ndef create_linkage_matrix(model):\\n    counts = [0] * model.children_.shape[0]\\n    n_samples = len(model.labels_)\\n    \\n    for i, merge in enumerate(model.children_):\\n        current_count = 0\\n        for child_idx in merge:\\n            if child_idx < n_samples:\\n                current_count += 1  # original observation\\n            else:\\n                current_count += counts[child_idx - n_samples]\\n        counts[i] = current_count\\n\\n    linkage_matrix = np.column_stack([\\n        model.children_,\\n        model.distances_,\\n        counts\\n    ]).astype(float)\\n\\n    return linkage_matrix\\n\\nlinkage_matrix = create_linkage_matrix(model)\\n\\nplt.figure(figsize=(12, 6))\\ndendrogram(linkage_matrix, truncate_mode=\\'lastp\\', p=30)\\nplt.title(\"Dendrogram from AgglomerativeClustering model\")\\nplt.axhline(y=8, color=\\'red\\', linestyle=\\'--\\', label=\\'5-cluster cut\\') \\nplt.xlabel(\"Cluster\")\\nplt.ylabel(\"Distance\")\\n\\nplt.show()\\n'"
      ]
     },
     "execution_count": 275,
     "metadata": {},
     "output_type": "execute_result"
    }
   ],
   "source": [
    "''''\n",
    "model = agglomerative7\n",
    "\n",
    "def create_linkage_matrix(model):\n",
    "    counts = [0] * model.children_.shape[0]\n",
    "    n_samples = len(model.labels_)\n",
    "    \n",
    "    for i, merge in enumerate(model.children_):\n",
    "        current_count = 0\n",
    "        for child_idx in merge:\n",
    "            if child_idx < n_samples:\n",
    "                current_count += 1  # original observation\n",
    "            else:\n",
    "                current_count += counts[child_idx - n_samples]\n",
    "        counts[i] = current_count\n",
    "\n",
    "    linkage_matrix = np.column_stack([\n",
    "        model.children_,\n",
    "        model.distances_,\n",
    "        counts\n",
    "    ]).astype(float)\n",
    "\n",
    "    return linkage_matrix\n",
    "\n",
    "linkage_matrix = create_linkage_matrix(model)\n",
    "\n",
    "plt.figure(figsize=(12, 6))\n",
    "dendrogram(linkage_matrix, truncate_mode='lastp', p=30)\n",
    "plt.title(\"Dendrogram from AgglomerativeClustering model\")\n",
    "plt.axhline(y=8, color='red', linestyle='--', label='5-cluster cut') \n",
    "plt.xlabel(\"Cluster\")\n",
    "plt.ylabel(\"Distance\")\n",
    "\n",
    "plt.show()\n",
    "'''"
   ]
  },
  {
   "cell_type": "code",
   "execution_count": 276,
   "id": "6938b802-f733-4502-beb6-79fa526793fe",
   "metadata": {},
   "outputs": [],
   "source": [
    "#grouped_cluster = gh_subset.groupby(by=['cluster7','Instrument_type','Policy_side']).size().reset_index(name='Count')"
   ]
  },
  {
   "cell_type": "code",
   "execution_count": 277,
   "id": "1473f21e-d893-4585-a4a5-50f314b63739",
   "metadata": {},
   "outputs": [],
   "source": [
    "#grouped_cluster = gh_subset.groupby(by=['cluster3','Instrument_type','Policy_side']).size().reset_index(name='Count')"
   ]
  },
  {
   "cell_type": "code",
   "execution_count": 347,
   "id": "eb8e7b07-4a92-4fdc-815b-2749f0839d25",
   "metadata": {
    "scrolled": true
   },
   "outputs": [
    {
     "data": {
      "text/html": [
       "<div>\n",
       "<style scoped>\n",
       "    .dataframe tbody tr th:only-of-type {\n",
       "        vertical-align: middle;\n",
       "    }\n",
       "\n",
       "    .dataframe tbody tr th {\n",
       "        vertical-align: top;\n",
       "    }\n",
       "\n",
       "    .dataframe thead th {\n",
       "        text-align: right;\n",
       "    }\n",
       "</style>\n",
       "<table border=\"1\" class=\"dataframe\">\n",
       "  <thead>\n",
       "    <tr style=\"text-align: right;\">\n",
       "      <th></th>\n",
       "      <th>cluster3</th>\n",
       "      <th>Instrument_type</th>\n",
       "      <th>Country</th>\n",
       "      <th>Count</th>\n",
       "    </tr>\n",
       "  </thead>\n",
       "  <tbody>\n",
       "    <tr>\n",
       "      <th>0</th>\n",
       "      <td>0</td>\n",
       "      <td>CfD</td>\n",
       "      <td>Australia</td>\n",
       "      <td>1</td>\n",
       "    </tr>\n",
       "    <tr>\n",
       "      <th>1</th>\n",
       "      <td>0</td>\n",
       "      <td>CfD</td>\n",
       "      <td>France</td>\n",
       "      <td>1</td>\n",
       "    </tr>\n",
       "    <tr>\n",
       "      <th>2</th>\n",
       "      <td>0</td>\n",
       "      <td>CfD</td>\n",
       "      <td>Germany</td>\n",
       "      <td>2</td>\n",
       "    </tr>\n",
       "    <tr>\n",
       "      <th>3</th>\n",
       "      <td>0</td>\n",
       "      <td>CfD</td>\n",
       "      <td>Japan</td>\n",
       "      <td>1</td>\n",
       "    </tr>\n",
       "    <tr>\n",
       "      <th>4</th>\n",
       "      <td>0</td>\n",
       "      <td>CfD</td>\n",
       "      <td>Portugal</td>\n",
       "      <td>1</td>\n",
       "    </tr>\n",
       "    <tr>\n",
       "      <th>5</th>\n",
       "      <td>0</td>\n",
       "      <td>CfD</td>\n",
       "      <td>UK</td>\n",
       "      <td>1</td>\n",
       "    </tr>\n",
       "    <tr>\n",
       "      <th>6</th>\n",
       "      <td>0</td>\n",
       "      <td>Competitive bidding</td>\n",
       "      <td>Austria</td>\n",
       "      <td>1</td>\n",
       "    </tr>\n",
       "    <tr>\n",
       "      <th>7</th>\n",
       "      <td>0</td>\n",
       "      <td>Competitive bidding</td>\n",
       "      <td>Canada</td>\n",
       "      <td>1</td>\n",
       "    </tr>\n",
       "    <tr>\n",
       "      <th>8</th>\n",
       "      <td>0</td>\n",
       "      <td>Competitive bidding</td>\n",
       "      <td>Denmark</td>\n",
       "      <td>1</td>\n",
       "    </tr>\n",
       "    <tr>\n",
       "      <th>9</th>\n",
       "      <td>0</td>\n",
       "      <td>Competitive bidding</td>\n",
       "      <td>European Commission</td>\n",
       "      <td>1</td>\n",
       "    </tr>\n",
       "    <tr>\n",
       "      <th>10</th>\n",
       "      <td>0</td>\n",
       "      <td>Competitive bidding</td>\n",
       "      <td>Germany</td>\n",
       "      <td>1</td>\n",
       "    </tr>\n",
       "    <tr>\n",
       "      <th>11</th>\n",
       "      <td>0</td>\n",
       "      <td>Competitive bidding</td>\n",
       "      <td>India</td>\n",
       "      <td>1</td>\n",
       "    </tr>\n",
       "    <tr>\n",
       "      <th>12</th>\n",
       "      <td>0</td>\n",
       "      <td>Competitive bidding</td>\n",
       "      <td>Netherlands</td>\n",
       "      <td>1</td>\n",
       "    </tr>\n",
       "    <tr>\n",
       "      <th>13</th>\n",
       "      <td>0</td>\n",
       "      <td>Competitive bidding</td>\n",
       "      <td>Oman</td>\n",
       "      <td>1</td>\n",
       "    </tr>\n",
       "    <tr>\n",
       "      <th>14</th>\n",
       "      <td>0</td>\n",
       "      <td>Competitive bidding</td>\n",
       "      <td>Spain</td>\n",
       "      <td>1</td>\n",
       "    </tr>\n",
       "    <tr>\n",
       "      <th>15</th>\n",
       "      <td>0</td>\n",
       "      <td>Grant</td>\n",
       "      <td>Australia</td>\n",
       "      <td>1</td>\n",
       "    </tr>\n",
       "    <tr>\n",
       "      <th>16</th>\n",
       "      <td>0</td>\n",
       "      <td>Grant</td>\n",
       "      <td>Chile</td>\n",
       "      <td>1</td>\n",
       "    </tr>\n",
       "    <tr>\n",
       "      <th>17</th>\n",
       "      <td>0</td>\n",
       "      <td>Grant</td>\n",
       "      <td>Germany</td>\n",
       "      <td>1</td>\n",
       "    </tr>\n",
       "    <tr>\n",
       "      <th>18</th>\n",
       "      <td>0</td>\n",
       "      <td>Grant</td>\n",
       "      <td>India</td>\n",
       "      <td>1</td>\n",
       "    </tr>\n",
       "    <tr>\n",
       "      <th>19</th>\n",
       "      <td>0</td>\n",
       "      <td>Grant</td>\n",
       "      <td>Japan</td>\n",
       "      <td>1</td>\n",
       "    </tr>\n",
       "    <tr>\n",
       "      <th>20</th>\n",
       "      <td>0</td>\n",
       "      <td>Grant</td>\n",
       "      <td>Netherlands</td>\n",
       "      <td>1</td>\n",
       "    </tr>\n",
       "    <tr>\n",
       "      <th>21</th>\n",
       "      <td>0</td>\n",
       "      <td>Loan/guarantee</td>\n",
       "      <td>Australia</td>\n",
       "      <td>1</td>\n",
       "    </tr>\n",
       "    <tr>\n",
       "      <th>22</th>\n",
       "      <td>0</td>\n",
       "      <td>Loan/guarantee</td>\n",
       "      <td>Canada</td>\n",
       "      <td>1</td>\n",
       "    </tr>\n",
       "    <tr>\n",
       "      <th>23</th>\n",
       "      <td>0</td>\n",
       "      <td>Loan/guarantee</td>\n",
       "      <td>Chile</td>\n",
       "      <td>1</td>\n",
       "    </tr>\n",
       "    <tr>\n",
       "      <th>24</th>\n",
       "      <td>0</td>\n",
       "      <td>Loan/guarantee</td>\n",
       "      <td>Poland</td>\n",
       "      <td>1</td>\n",
       "    </tr>\n",
       "    <tr>\n",
       "      <th>25</th>\n",
       "      <td>1</td>\n",
       "      <td>Grant</td>\n",
       "      <td>Australia</td>\n",
       "      <td>1</td>\n",
       "    </tr>\n",
       "    <tr>\n",
       "      <th>26</th>\n",
       "      <td>1</td>\n",
       "      <td>Grant</td>\n",
       "      <td>Chile</td>\n",
       "      <td>1</td>\n",
       "    </tr>\n",
       "    <tr>\n",
       "      <th>27</th>\n",
       "      <td>1</td>\n",
       "      <td>Grant</td>\n",
       "      <td>China</td>\n",
       "      <td>1</td>\n",
       "    </tr>\n",
       "    <tr>\n",
       "      <th>28</th>\n",
       "      <td>1</td>\n",
       "      <td>Grant</td>\n",
       "      <td>European Commission</td>\n",
       "      <td>4</td>\n",
       "    </tr>\n",
       "    <tr>\n",
       "      <th>29</th>\n",
       "      <td>1</td>\n",
       "      <td>Grant</td>\n",
       "      <td>Finland</td>\n",
       "      <td>1</td>\n",
       "    </tr>\n",
       "    <tr>\n",
       "      <th>30</th>\n",
       "      <td>1</td>\n",
       "      <td>Grant</td>\n",
       "      <td>France</td>\n",
       "      <td>1</td>\n",
       "    </tr>\n",
       "    <tr>\n",
       "      <th>31</th>\n",
       "      <td>1</td>\n",
       "      <td>Grant</td>\n",
       "      <td>Germany</td>\n",
       "      <td>1</td>\n",
       "    </tr>\n",
       "    <tr>\n",
       "      <th>32</th>\n",
       "      <td>1</td>\n",
       "      <td>Grant</td>\n",
       "      <td>India</td>\n",
       "      <td>1</td>\n",
       "    </tr>\n",
       "    <tr>\n",
       "      <th>33</th>\n",
       "      <td>1</td>\n",
       "      <td>Grant</td>\n",
       "      <td>India</td>\n",
       "      <td>4</td>\n",
       "    </tr>\n",
       "    <tr>\n",
       "      <th>34</th>\n",
       "      <td>1</td>\n",
       "      <td>Grant</td>\n",
       "      <td>Italy</td>\n",
       "      <td>5</td>\n",
       "    </tr>\n",
       "    <tr>\n",
       "      <th>35</th>\n",
       "      <td>1</td>\n",
       "      <td>Grant</td>\n",
       "      <td>Japan</td>\n",
       "      <td>1</td>\n",
       "    </tr>\n",
       "    <tr>\n",
       "      <th>36</th>\n",
       "      <td>1</td>\n",
       "      <td>Grant</td>\n",
       "      <td>Lithuania</td>\n",
       "      <td>1</td>\n",
       "    </tr>\n",
       "    <tr>\n",
       "      <th>37</th>\n",
       "      <td>1</td>\n",
       "      <td>Grant</td>\n",
       "      <td>Netherlands</td>\n",
       "      <td>4</td>\n",
       "    </tr>\n",
       "    <tr>\n",
       "      <th>38</th>\n",
       "      <td>1</td>\n",
       "      <td>Grant</td>\n",
       "      <td>Norway</td>\n",
       "      <td>1</td>\n",
       "    </tr>\n",
       "    <tr>\n",
       "      <th>39</th>\n",
       "      <td>1</td>\n",
       "      <td>Grant</td>\n",
       "      <td>Poland</td>\n",
       "      <td>1</td>\n",
       "    </tr>\n",
       "    <tr>\n",
       "      <th>40</th>\n",
       "      <td>1</td>\n",
       "      <td>Grant</td>\n",
       "      <td>Spain</td>\n",
       "      <td>4</td>\n",
       "    </tr>\n",
       "    <tr>\n",
       "      <th>41</th>\n",
       "      <td>1</td>\n",
       "      <td>Grant</td>\n",
       "      <td>Sweden</td>\n",
       "      <td>1</td>\n",
       "    </tr>\n",
       "    <tr>\n",
       "      <th>42</th>\n",
       "      <td>1</td>\n",
       "      <td>Grant</td>\n",
       "      <td>UK</td>\n",
       "      <td>4</td>\n",
       "    </tr>\n",
       "    <tr>\n",
       "      <th>43</th>\n",
       "      <td>1</td>\n",
       "      <td>Grant</td>\n",
       "      <td>United States</td>\n",
       "      <td>9</td>\n",
       "    </tr>\n",
       "    <tr>\n",
       "      <th>44</th>\n",
       "      <td>2</td>\n",
       "      <td>Tax credit</td>\n",
       "      <td>Australia</td>\n",
       "      <td>1</td>\n",
       "    </tr>\n",
       "    <tr>\n",
       "      <th>45</th>\n",
       "      <td>2</td>\n",
       "      <td>Tax credit</td>\n",
       "      <td>Brazil</td>\n",
       "      <td>1</td>\n",
       "    </tr>\n",
       "    <tr>\n",
       "      <th>46</th>\n",
       "      <td>2</td>\n",
       "      <td>Tax credit</td>\n",
       "      <td>Canada</td>\n",
       "      <td>1</td>\n",
       "    </tr>\n",
       "    <tr>\n",
       "      <th>47</th>\n",
       "      <td>2</td>\n",
       "      <td>Tax credit</td>\n",
       "      <td>United States</td>\n",
       "      <td>2</td>\n",
       "    </tr>\n",
       "  </tbody>\n",
       "</table>\n",
       "</div>"
      ],
      "text/plain": [
       "   cluster3      Instrument_type              Country  Count\n",
       "0         0                  CfD            Australia      1\n",
       "1         0                  CfD               France      1\n",
       "2         0                  CfD              Germany      2\n",
       "3         0                  CfD                Japan      1\n",
       "4         0                  CfD             Portugal      1\n",
       "5         0                  CfD                   UK      1\n",
       "6         0  Competitive bidding              Austria      1\n",
       "7         0  Competitive bidding               Canada      1\n",
       "8         0  Competitive bidding              Denmark      1\n",
       "9         0  Competitive bidding  European Commission      1\n",
       "10        0  Competitive bidding              Germany      1\n",
       "11        0  Competitive bidding                India      1\n",
       "12        0  Competitive bidding          Netherlands      1\n",
       "13        0  Competitive bidding                 Oman      1\n",
       "14        0  Competitive bidding                Spain      1\n",
       "15        0                Grant            Australia      1\n",
       "16        0                Grant                Chile      1\n",
       "17        0                Grant              Germany      1\n",
       "18        0                Grant                India      1\n",
       "19        0                Grant                Japan      1\n",
       "20        0                Grant          Netherlands      1\n",
       "21        0       Loan/guarantee            Australia      1\n",
       "22        0       Loan/guarantee               Canada      1\n",
       "23        0       Loan/guarantee                Chile      1\n",
       "24        0       Loan/guarantee               Poland      1\n",
       "25        1                Grant            Australia      1\n",
       "26        1                Grant                Chile      1\n",
       "27        1                Grant                China      1\n",
       "28        1                Grant  European Commission      4\n",
       "29        1                Grant              Finland      1\n",
       "30        1                Grant               France      1\n",
       "31        1                Grant              Germany      1\n",
       "32        1                Grant                India      1\n",
       "33        1                Grant               India       4\n",
       "34        1                Grant                Italy      5\n",
       "35        1                Grant                Japan      1\n",
       "36        1                Grant           Lithuania       1\n",
       "37        1                Grant          Netherlands      4\n",
       "38        1                Grant               Norway      1\n",
       "39        1                Grant               Poland      1\n",
       "40        1                Grant                Spain      4\n",
       "41        1                Grant               Sweden      1\n",
       "42        1                Grant                   UK      4\n",
       "43        1                Grant        United States      9\n",
       "44        2           Tax credit            Australia      1\n",
       "45        2           Tax credit               Brazil      1\n",
       "46        2           Tax credit               Canada      1\n",
       "47        2           Tax credit        United States      2"
      ]
     },
     "execution_count": 347,
     "metadata": {},
     "output_type": "execute_result"
    }
   ],
   "source": [
    "grouped_cluster2 = gh_subset.groupby(by=['cluster3','Instrument_type','Country']).size().reset_index(name='Count')\n",
    "grouped_cluster2"
   ]
  },
  {
   "cell_type": "code",
   "execution_count": 278,
   "id": "5801c46c-2b82-40b6-909a-d0ec7283c0d8",
   "metadata": {},
   "outputs": [
    {
     "data": {
      "text/plain": [
       "\"'\\nax = (gh_subset\\n      .groupby(['cluster7', 'Instrument_type'])\\n      .size()\\n      .plot.bar(title='Clusters differentiated by instrument',\\n                figsize=(8, 5),\\n                ylabel='Size',\\n                xlabel='(Cluster, Instrument)'))\\n\\nax.figure.set_facecolor('#e6e6e6')\\n\\nfor bar in ax.patches:\\n    height = bar.get_height()\\n    ax.annotate(f'{int(height)}',                  \\n                (bar.get_x() + bar.get_width()/2,  \\n                 height),                          \\n                ha='center', va='bottom',\\n                fontsize=9, )\\nplt.xticks(rotation=90)\\n\\nplt.show()\\n\""
      ]
     },
     "execution_count": 278,
     "metadata": {},
     "output_type": "execute_result"
    }
   ],
   "source": [
    "''''\n",
    "ax = (gh_subset\n",
    "      .groupby(['cluster7', 'Instrument_type'])\n",
    "      .size()\n",
    "      .plot.bar(title='Clusters differentiated by instrument',\n",
    "                figsize=(8, 5),\n",
    "                ylabel='Size',\n",
    "                xlabel='(Cluster, Instrument)'))\n",
    "\n",
    "ax.figure.set_facecolor('#e6e6e6')\n",
    "\n",
    "for bar in ax.patches:\n",
    "    height = bar.get_height()\n",
    "    ax.annotate(f'{int(height)}',                  \n",
    "                (bar.get_x() + bar.get_width()/2,  \n",
    "                 height),                          \n",
    "                ha='center', va='bottom',\n",
    "                fontsize=9, )\n",
    "plt.xticks(rotation=90)\n",
    "\n",
    "plt.show()\n",
    "'''"
   ]
  },
  {
   "cell_type": "code",
   "execution_count": 279,
   "id": "31acb076-d22e-483b-ab39-1d0058c54d25",
   "metadata": {},
   "outputs": [
    {
     "data": {
      "text/plain": [
       "'\\'\\ngrouped_cluster[\\'Cluster_Status\\'] = grouped_cluster.apply(\\n    lambda row: f\"({row[\\'cluster7\\']}, {row[\\'Policy_side\\']})\", axis=1\\n)\\n\\n# Step 2: Plot using Seaborn\\nplt.figure(figsize=(8, 6))\\nax = sns.barplot(\\n    data=grouped_cluster,\\n    x=\\'Cluster_Status\\',\\n    y=\\'Count\\',\\n    hue=\\'Instrument_type\\'\\n)\\nplt.title(\"Clusters differentiated by instrument and status\")\\nplt.ylabel(\"Size\")\\nplt.xlabel(\"(Cluster, Status)\")\\nplt.xticks(rotation=45)\\nplt.legend(title=\\'Instrument\\')\\nax.figure.set_facecolor(\\'#e6e6e6\\')\\nplt.tight_layout()\\nplt.show()\\n'"
      ]
     },
     "execution_count": 279,
     "metadata": {},
     "output_type": "execute_result"
    }
   ],
   "source": [
    "''''\n",
    "grouped_cluster['Cluster_Status'] = grouped_cluster.apply(\n",
    "    lambda row: f\"({row['cluster7']}, {row['Policy_side']})\", axis=1\n",
    ")\n",
    "\n",
    "# Step 2: Plot using Seaborn\n",
    "plt.figure(figsize=(8, 6))\n",
    "ax = sns.barplot(\n",
    "    data=grouped_cluster,\n",
    "    x='Cluster_Status',\n",
    "    y='Count',\n",
    "    hue='Instrument_type'\n",
    ")\n",
    "plt.title(\"Clusters differentiated by instrument and status\")\n",
    "plt.ylabel(\"Size\")\n",
    "plt.xlabel(\"(Cluster, Status)\")\n",
    "plt.xticks(rotation=45)\n",
    "plt.legend(title='Instrument')\n",
    "ax.figure.set_facecolor('#e6e6e6')\n",
    "plt.tight_layout()\n",
    "plt.show()\n",
    "'''"
   ]
  },
  {
   "cell_type": "code",
   "execution_count": 369,
   "id": "92f92aa7-6181-41a8-90c4-9a0ee6f068ec",
   "metadata": {},
   "outputs": [
    {
     "data": {
      "text/html": [
       "<div>\n",
       "<style scoped>\n",
       "    .dataframe tbody tr th:only-of-type {\n",
       "        vertical-align: middle;\n",
       "    }\n",
       "\n",
       "    .dataframe tbody tr th {\n",
       "        vertical-align: top;\n",
       "    }\n",
       "\n",
       "    .dataframe thead th {\n",
       "        text-align: right;\n",
       "    }\n",
       "</style>\n",
       "<table border=\"1\" class=\"dataframe\">\n",
       "  <thead>\n",
       "    <tr style=\"text-align: right;\">\n",
       "      <th></th>\n",
       "      <th>Country</th>\n",
       "      <th>Status</th>\n",
       "      <th>Sector</th>\n",
       "      <th>Programme</th>\n",
       "      <th>Instrument_type</th>\n",
       "      <th>Policy_side</th>\n",
       "      <th>Amount_USD_mn</th>\n",
       "      <th>Duration_yrs</th>\n",
       "      <th>Description</th>\n",
       "      <th>cluster3</th>\n",
       "    </tr>\n",
       "  </thead>\n",
       "  <tbody>\n",
       "    <tr>\n",
       "      <th>0</th>\n",
       "      <td>Australia</td>\n",
       "      <td>In force</td>\n",
       "      <td>Hubs</td>\n",
       "      <td>Regional Hydrogen Hubs Programme</td>\n",
       "      <td>Grant</td>\n",
       "      <td>Pull</td>\n",
       "      <td>324.0</td>\n",
       "      <td>NaN</td>\n",
       "      <td>AUD 490 m (USD 324 m) for seven H₂ hubs (up to...</td>\n",
       "      <td>0</td>\n",
       "    </tr>\n",
       "    <tr>\n",
       "      <th>1</th>\n",
       "      <td>Australia</td>\n",
       "      <td>Announced</td>\n",
       "      <td>Electrolyser manufacturing</td>\n",
       "      <td>National Reconstruction Fund – H₂ equipment debt</td>\n",
       "      <td>Loan/guarantee</td>\n",
       "      <td>Push</td>\n",
       "      <td>2000.0</td>\n",
       "      <td>NaN</td>\n",
       "      <td>Finance in the form of debt, equity and guaran...</td>\n",
       "      <td>0</td>\n",
       "    </tr>\n",
       "    <tr>\n",
       "      <th>2</th>\n",
       "      <td>Australia</td>\n",
       "      <td>Announced</td>\n",
       "      <td>Industry</td>\n",
       "      <td>Future Made in Australia programme</td>\n",
       "      <td>Tax credit</td>\n",
       "      <td>Push</td>\n",
       "      <td>10000.0</td>\n",
       "      <td>17 years</td>\n",
       "      <td>AUD 2/kg (USD 1.3/kg) incentive for up to 10 y...</td>\n",
       "      <td>2</td>\n",
       "    </tr>\n",
       "    <tr>\n",
       "      <th>3</th>\n",
       "      <td>Australia</td>\n",
       "      <td>In force</td>\n",
       "      <td>Industry</td>\n",
       "      <td>the Australian Headstart programme</td>\n",
       "      <td>CfD</td>\n",
       "      <td>Pull</td>\n",
       "      <td>2600.0</td>\n",
       "      <td>10 years</td>\n",
       "      <td>For projects with a cumulative electrolyser ca...</td>\n",
       "      <td>0</td>\n",
       "    </tr>\n",
       "    <tr>\n",
       "      <th>4</th>\n",
       "      <td>Australia</td>\n",
       "      <td>Announced</td>\n",
       "      <td>Industry</td>\n",
       "      <td>Future Made in Australia Innovation Fund</td>\n",
       "      <td>Grant</td>\n",
       "      <td>Push</td>\n",
       "      <td>1200.0</td>\n",
       "      <td>20 years</td>\n",
       "      <td>Includes “green” metals and low-carbon liquid ...</td>\n",
       "      <td>1</td>\n",
       "    </tr>\n",
       "  </tbody>\n",
       "</table>\n",
       "</div>"
      ],
      "text/plain": [
       "     Country     Status                       Sector  \\\n",
       "0  Australia   In force                         Hubs   \n",
       "1  Australia  Announced  Electrolyser manufacturing    \n",
       "2  Australia  Announced                     Industry   \n",
       "3  Australia   In force                     Industry   \n",
       "4  Australia  Announced                     Industry   \n",
       "\n",
       "                                          Programme Instrument_type  \\\n",
       "0                  Regional Hydrogen Hubs Programme           Grant   \n",
       "1  National Reconstruction Fund – H₂ equipment debt  Loan/guarantee   \n",
       "2                Future Made in Australia programme      Tax credit   \n",
       "3                the Australian Headstart programme             CfD   \n",
       "4          Future Made in Australia Innovation Fund           Grant   \n",
       "\n",
       "  Policy_side  Amount_USD_mn Duration_yrs  \\\n",
       "0        Pull          324.0          NaN   \n",
       "1        Push         2000.0          NaN   \n",
       "2        Push        10000.0     17 years   \n",
       "3        Pull         2600.0    10 years    \n",
       "4        Push         1200.0     20 years   \n",
       "\n",
       "                                         Description cluster3  \n",
       "0  AUD 490 m (USD 324 m) for seven H₂ hubs (up to...        0  \n",
       "1  Finance in the form of debt, equity and guaran...        0  \n",
       "2  AUD 2/kg (USD 1.3/kg) incentive for up to 10 y...        2  \n",
       "3  For projects with a cumulative electrolyser ca...        0  \n",
       "4  Includes “green” metals and low-carbon liquid ...        1  "
      ]
     },
     "execution_count": 369,
     "metadata": {},
     "output_type": "execute_result"
    }
   ],
   "source": [
    "gh_subset.head()"
   ]
  },
  {
   "cell_type": "code",
   "execution_count": 280,
   "id": "6bdaa54d-bfad-4e81-85ed-0b0479c977de",
   "metadata": {},
   "outputs": [],
   "source": [
    "gh.replace({'Instrument_type':{'Grant ':'Grant'}}, inplace=True)\n"
   ]
  },
  {
   "cell_type": "code",
   "execution_count": 281,
   "id": "d00409fa-a23e-4834-acdf-a6df6fa15ae7",
   "metadata": {},
   "outputs": [
    {
     "data": {
      "text/plain": [
       "\"'\\nkeys_list = ['Country', 'Sector', 'Status', 'Programme', 'Instrument_type', 'Policy_side',\\n            'Amount_USD_mn', 'Duration_yrs', 'Description']\\n\\nouter2 = pd.merge(gh, gh_subset, on=keys_list, how='outer')\\nouter2\\n\""
      ]
     },
     "execution_count": 281,
     "metadata": {},
     "output_type": "execute_result"
    }
   ],
   "source": [
    "''''\n",
    "keys_list = ['Country', 'Sector', 'Status', 'Programme', 'Instrument_type', 'Policy_side',\n",
    "            'Amount_USD_mn', 'Duration_yrs', 'Description']\n",
    "\n",
    "outer2 = pd.merge(gh, gh_subset, on=keys_list, how='outer')\n",
    "outer2\n",
    "'''"
   ]
  },
  {
   "cell_type": "code",
   "execution_count": 282,
   "id": "ea14d5b7-0886-4e37-a061-7d3a9b79698d",
   "metadata": {},
   "outputs": [],
   "source": [
    "#outer2['cluster7'] = outer2['cluster7'].astype('Int64')\n",
    "#outer2"
   ]
  },
  {
   "cell_type": "code",
   "execution_count": 283,
   "id": "32caa903-71d8-476a-a156-8b1e45a33fe9",
   "metadata": {},
   "outputs": [],
   "source": [
    "#outer2 = outer2.iloc[:, [0,1,2,3,4,5,6,7,9,8]]\n",
    "#outer2"
   ]
  },
  {
   "cell_type": "code",
   "execution_count": 284,
   "id": "d836f29e-9918-4ca3-a8fe-73adf30e2480",
   "metadata": {},
   "outputs": [],
   "source": [
    "#outer2.to_excel('/Users/majdshamashan/Desktop/Thesis/green_h2_policy_2024(2).xlsx', index=False)"
   ]
  },
  {
   "cell_type": "code",
   "execution_count": 285,
   "id": "38380d0d-6a7c-48d3-bb6c-f55873499745",
   "metadata": {},
   "outputs": [],
   "source": [
    "#outer2['cluster7'].unique()"
   ]
  },
  {
   "cell_type": "code",
   "execution_count": 286,
   "id": "5809a4d7-f3ff-4563-990c-8f1efc605040",
   "metadata": {},
   "outputs": [
    {
     "data": {
      "text/html": [
       "<style>#sk-container-id-3 {\n",
       "  /* Definition of color scheme common for light and dark mode */\n",
       "  --sklearn-color-text: black;\n",
       "  --sklearn-color-line: gray;\n",
       "  /* Definition of color scheme for unfitted estimators */\n",
       "  --sklearn-color-unfitted-level-0: #fff5e6;\n",
       "  --sklearn-color-unfitted-level-1: #f6e4d2;\n",
       "  --sklearn-color-unfitted-level-2: #ffe0b3;\n",
       "  --sklearn-color-unfitted-level-3: chocolate;\n",
       "  /* Definition of color scheme for fitted estimators */\n",
       "  --sklearn-color-fitted-level-0: #f0f8ff;\n",
       "  --sklearn-color-fitted-level-1: #d4ebff;\n",
       "  --sklearn-color-fitted-level-2: #b3dbfd;\n",
       "  --sklearn-color-fitted-level-3: cornflowerblue;\n",
       "\n",
       "  /* Specific color for light theme */\n",
       "  --sklearn-color-text-on-default-background: var(--sg-text-color, var(--theme-code-foreground, var(--jp-content-font-color1, black)));\n",
       "  --sklearn-color-background: var(--sg-background-color, var(--theme-background, var(--jp-layout-color0, white)));\n",
       "  --sklearn-color-border-box: var(--sg-text-color, var(--theme-code-foreground, var(--jp-content-font-color1, black)));\n",
       "  --sklearn-color-icon: #696969;\n",
       "\n",
       "  @media (prefers-color-scheme: dark) {\n",
       "    /* Redefinition of color scheme for dark theme */\n",
       "    --sklearn-color-text-on-default-background: var(--sg-text-color, var(--theme-code-foreground, var(--jp-content-font-color1, white)));\n",
       "    --sklearn-color-background: var(--sg-background-color, var(--theme-background, var(--jp-layout-color0, #111)));\n",
       "    --sklearn-color-border-box: var(--sg-text-color, var(--theme-code-foreground, var(--jp-content-font-color1, white)));\n",
       "    --sklearn-color-icon: #878787;\n",
       "  }\n",
       "}\n",
       "\n",
       "#sk-container-id-3 {\n",
       "  color: var(--sklearn-color-text);\n",
       "}\n",
       "\n",
       "#sk-container-id-3 pre {\n",
       "  padding: 0;\n",
       "}\n",
       "\n",
       "#sk-container-id-3 input.sk-hidden--visually {\n",
       "  border: 0;\n",
       "  clip: rect(1px 1px 1px 1px);\n",
       "  clip: rect(1px, 1px, 1px, 1px);\n",
       "  height: 1px;\n",
       "  margin: -1px;\n",
       "  overflow: hidden;\n",
       "  padding: 0;\n",
       "  position: absolute;\n",
       "  width: 1px;\n",
       "}\n",
       "\n",
       "#sk-container-id-3 div.sk-dashed-wrapped {\n",
       "  border: 1px dashed var(--sklearn-color-line);\n",
       "  margin: 0 0.4em 0.5em 0.4em;\n",
       "  box-sizing: border-box;\n",
       "  padding-bottom: 0.4em;\n",
       "  background-color: var(--sklearn-color-background);\n",
       "}\n",
       "\n",
       "#sk-container-id-3 div.sk-container {\n",
       "  /* jupyter's `normalize.less` sets `[hidden] { display: none; }`\n",
       "     but bootstrap.min.css set `[hidden] { display: none !important; }`\n",
       "     so we also need the `!important` here to be able to override the\n",
       "     default hidden behavior on the sphinx rendered scikit-learn.org.\n",
       "     See: https://github.com/scikit-learn/scikit-learn/issues/21755 */\n",
       "  display: inline-block !important;\n",
       "  position: relative;\n",
       "}\n",
       "\n",
       "#sk-container-id-3 div.sk-text-repr-fallback {\n",
       "  display: none;\n",
       "}\n",
       "\n",
       "div.sk-parallel-item,\n",
       "div.sk-serial,\n",
       "div.sk-item {\n",
       "  /* draw centered vertical line to link estimators */\n",
       "  background-image: linear-gradient(var(--sklearn-color-text-on-default-background), var(--sklearn-color-text-on-default-background));\n",
       "  background-size: 2px 100%;\n",
       "  background-repeat: no-repeat;\n",
       "  background-position: center center;\n",
       "}\n",
       "\n",
       "/* Parallel-specific style estimator block */\n",
       "\n",
       "#sk-container-id-3 div.sk-parallel-item::after {\n",
       "  content: \"\";\n",
       "  width: 100%;\n",
       "  border-bottom: 2px solid var(--sklearn-color-text-on-default-background);\n",
       "  flex-grow: 1;\n",
       "}\n",
       "\n",
       "#sk-container-id-3 div.sk-parallel {\n",
       "  display: flex;\n",
       "  align-items: stretch;\n",
       "  justify-content: center;\n",
       "  background-color: var(--sklearn-color-background);\n",
       "  position: relative;\n",
       "}\n",
       "\n",
       "#sk-container-id-3 div.sk-parallel-item {\n",
       "  display: flex;\n",
       "  flex-direction: column;\n",
       "}\n",
       "\n",
       "#sk-container-id-3 div.sk-parallel-item:first-child::after {\n",
       "  align-self: flex-end;\n",
       "  width: 50%;\n",
       "}\n",
       "\n",
       "#sk-container-id-3 div.sk-parallel-item:last-child::after {\n",
       "  align-self: flex-start;\n",
       "  width: 50%;\n",
       "}\n",
       "\n",
       "#sk-container-id-3 div.sk-parallel-item:only-child::after {\n",
       "  width: 0;\n",
       "}\n",
       "\n",
       "/* Serial-specific style estimator block */\n",
       "\n",
       "#sk-container-id-3 div.sk-serial {\n",
       "  display: flex;\n",
       "  flex-direction: column;\n",
       "  align-items: center;\n",
       "  background-color: var(--sklearn-color-background);\n",
       "  padding-right: 1em;\n",
       "  padding-left: 1em;\n",
       "}\n",
       "\n",
       "\n",
       "/* Toggleable style: style used for estimator/Pipeline/ColumnTransformer box that is\n",
       "clickable and can be expanded/collapsed.\n",
       "- Pipeline and ColumnTransformer use this feature and define the default style\n",
       "- Estimators will overwrite some part of the style using the `sk-estimator` class\n",
       "*/\n",
       "\n",
       "/* Pipeline and ColumnTransformer style (default) */\n",
       "\n",
       "#sk-container-id-3 div.sk-toggleable {\n",
       "  /* Default theme specific background. It is overwritten whether we have a\n",
       "  specific estimator or a Pipeline/ColumnTransformer */\n",
       "  background-color: var(--sklearn-color-background);\n",
       "}\n",
       "\n",
       "/* Toggleable label */\n",
       "#sk-container-id-3 label.sk-toggleable__label {\n",
       "  cursor: pointer;\n",
       "  display: block;\n",
       "  width: 100%;\n",
       "  margin-bottom: 0;\n",
       "  padding: 0.5em;\n",
       "  box-sizing: border-box;\n",
       "  text-align: center;\n",
       "}\n",
       "\n",
       "#sk-container-id-3 label.sk-toggleable__label-arrow:before {\n",
       "  /* Arrow on the left of the label */\n",
       "  content: \"▸\";\n",
       "  float: left;\n",
       "  margin-right: 0.25em;\n",
       "  color: var(--sklearn-color-icon);\n",
       "}\n",
       "\n",
       "#sk-container-id-3 label.sk-toggleable__label-arrow:hover:before {\n",
       "  color: var(--sklearn-color-text);\n",
       "}\n",
       "\n",
       "/* Toggleable content - dropdown */\n",
       "\n",
       "#sk-container-id-3 div.sk-toggleable__content {\n",
       "  max-height: 0;\n",
       "  max-width: 0;\n",
       "  overflow: hidden;\n",
       "  text-align: left;\n",
       "  /* unfitted */\n",
       "  background-color: var(--sklearn-color-unfitted-level-0);\n",
       "}\n",
       "\n",
       "#sk-container-id-3 div.sk-toggleable__content.fitted {\n",
       "  /* fitted */\n",
       "  background-color: var(--sklearn-color-fitted-level-0);\n",
       "}\n",
       "\n",
       "#sk-container-id-3 div.sk-toggleable__content pre {\n",
       "  margin: 0.2em;\n",
       "  border-radius: 0.25em;\n",
       "  color: var(--sklearn-color-text);\n",
       "  /* unfitted */\n",
       "  background-color: var(--sklearn-color-unfitted-level-0);\n",
       "}\n",
       "\n",
       "#sk-container-id-3 div.sk-toggleable__content.fitted pre {\n",
       "  /* unfitted */\n",
       "  background-color: var(--sklearn-color-fitted-level-0);\n",
       "}\n",
       "\n",
       "#sk-container-id-3 input.sk-toggleable__control:checked~div.sk-toggleable__content {\n",
       "  /* Expand drop-down */\n",
       "  max-height: 200px;\n",
       "  max-width: 100%;\n",
       "  overflow: auto;\n",
       "}\n",
       "\n",
       "#sk-container-id-3 input.sk-toggleable__control:checked~label.sk-toggleable__label-arrow:before {\n",
       "  content: \"▾\";\n",
       "}\n",
       "\n",
       "/* Pipeline/ColumnTransformer-specific style */\n",
       "\n",
       "#sk-container-id-3 div.sk-label input.sk-toggleable__control:checked~label.sk-toggleable__label {\n",
       "  color: var(--sklearn-color-text);\n",
       "  background-color: var(--sklearn-color-unfitted-level-2);\n",
       "}\n",
       "\n",
       "#sk-container-id-3 div.sk-label.fitted input.sk-toggleable__control:checked~label.sk-toggleable__label {\n",
       "  background-color: var(--sklearn-color-fitted-level-2);\n",
       "}\n",
       "\n",
       "/* Estimator-specific style */\n",
       "\n",
       "/* Colorize estimator box */\n",
       "#sk-container-id-3 div.sk-estimator input.sk-toggleable__control:checked~label.sk-toggleable__label {\n",
       "  /* unfitted */\n",
       "  background-color: var(--sklearn-color-unfitted-level-2);\n",
       "}\n",
       "\n",
       "#sk-container-id-3 div.sk-estimator.fitted input.sk-toggleable__control:checked~label.sk-toggleable__label {\n",
       "  /* fitted */\n",
       "  background-color: var(--sklearn-color-fitted-level-2);\n",
       "}\n",
       "\n",
       "#sk-container-id-3 div.sk-label label.sk-toggleable__label,\n",
       "#sk-container-id-3 div.sk-label label {\n",
       "  /* The background is the default theme color */\n",
       "  color: var(--sklearn-color-text-on-default-background);\n",
       "}\n",
       "\n",
       "/* On hover, darken the color of the background */\n",
       "#sk-container-id-3 div.sk-label:hover label.sk-toggleable__label {\n",
       "  color: var(--sklearn-color-text);\n",
       "  background-color: var(--sklearn-color-unfitted-level-2);\n",
       "}\n",
       "\n",
       "/* Label box, darken color on hover, fitted */\n",
       "#sk-container-id-3 div.sk-label.fitted:hover label.sk-toggleable__label.fitted {\n",
       "  color: var(--sklearn-color-text);\n",
       "  background-color: var(--sklearn-color-fitted-level-2);\n",
       "}\n",
       "\n",
       "/* Estimator label */\n",
       "\n",
       "#sk-container-id-3 div.sk-label label {\n",
       "  font-family: monospace;\n",
       "  font-weight: bold;\n",
       "  display: inline-block;\n",
       "  line-height: 1.2em;\n",
       "}\n",
       "\n",
       "#sk-container-id-3 div.sk-label-container {\n",
       "  text-align: center;\n",
       "}\n",
       "\n",
       "/* Estimator-specific */\n",
       "#sk-container-id-3 div.sk-estimator {\n",
       "  font-family: monospace;\n",
       "  border: 1px dotted var(--sklearn-color-border-box);\n",
       "  border-radius: 0.25em;\n",
       "  box-sizing: border-box;\n",
       "  margin-bottom: 0.5em;\n",
       "  /* unfitted */\n",
       "  background-color: var(--sklearn-color-unfitted-level-0);\n",
       "}\n",
       "\n",
       "#sk-container-id-3 div.sk-estimator.fitted {\n",
       "  /* fitted */\n",
       "  background-color: var(--sklearn-color-fitted-level-0);\n",
       "}\n",
       "\n",
       "/* on hover */\n",
       "#sk-container-id-3 div.sk-estimator:hover {\n",
       "  /* unfitted */\n",
       "  background-color: var(--sklearn-color-unfitted-level-2);\n",
       "}\n",
       "\n",
       "#sk-container-id-3 div.sk-estimator.fitted:hover {\n",
       "  /* fitted */\n",
       "  background-color: var(--sklearn-color-fitted-level-2);\n",
       "}\n",
       "\n",
       "/* Specification for estimator info (e.g. \"i\" and \"?\") */\n",
       "\n",
       "/* Common style for \"i\" and \"?\" */\n",
       "\n",
       ".sk-estimator-doc-link,\n",
       "a:link.sk-estimator-doc-link,\n",
       "a:visited.sk-estimator-doc-link {\n",
       "  float: right;\n",
       "  font-size: smaller;\n",
       "  line-height: 1em;\n",
       "  font-family: monospace;\n",
       "  background-color: var(--sklearn-color-background);\n",
       "  border-radius: 1em;\n",
       "  height: 1em;\n",
       "  width: 1em;\n",
       "  text-decoration: none !important;\n",
       "  margin-left: 1ex;\n",
       "  /* unfitted */\n",
       "  border: var(--sklearn-color-unfitted-level-1) 1pt solid;\n",
       "  color: var(--sklearn-color-unfitted-level-1);\n",
       "}\n",
       "\n",
       ".sk-estimator-doc-link.fitted,\n",
       "a:link.sk-estimator-doc-link.fitted,\n",
       "a:visited.sk-estimator-doc-link.fitted {\n",
       "  /* fitted */\n",
       "  border: var(--sklearn-color-fitted-level-1) 1pt solid;\n",
       "  color: var(--sklearn-color-fitted-level-1);\n",
       "}\n",
       "\n",
       "/* On hover */\n",
       "div.sk-estimator:hover .sk-estimator-doc-link:hover,\n",
       ".sk-estimator-doc-link:hover,\n",
       "div.sk-label-container:hover .sk-estimator-doc-link:hover,\n",
       ".sk-estimator-doc-link:hover {\n",
       "  /* unfitted */\n",
       "  background-color: var(--sklearn-color-unfitted-level-3);\n",
       "  color: var(--sklearn-color-background);\n",
       "  text-decoration: none;\n",
       "}\n",
       "\n",
       "div.sk-estimator.fitted:hover .sk-estimator-doc-link.fitted:hover,\n",
       ".sk-estimator-doc-link.fitted:hover,\n",
       "div.sk-label-container:hover .sk-estimator-doc-link.fitted:hover,\n",
       ".sk-estimator-doc-link.fitted:hover {\n",
       "  /* fitted */\n",
       "  background-color: var(--sklearn-color-fitted-level-3);\n",
       "  color: var(--sklearn-color-background);\n",
       "  text-decoration: none;\n",
       "}\n",
       "\n",
       "/* Span, style for the box shown on hovering the info icon */\n",
       ".sk-estimator-doc-link span {\n",
       "  display: none;\n",
       "  z-index: 9999;\n",
       "  position: relative;\n",
       "  font-weight: normal;\n",
       "  right: .2ex;\n",
       "  padding: .5ex;\n",
       "  margin: .5ex;\n",
       "  width: min-content;\n",
       "  min-width: 20ex;\n",
       "  max-width: 50ex;\n",
       "  color: var(--sklearn-color-text);\n",
       "  box-shadow: 2pt 2pt 4pt #999;\n",
       "  /* unfitted */\n",
       "  background: var(--sklearn-color-unfitted-level-0);\n",
       "  border: .5pt solid var(--sklearn-color-unfitted-level-3);\n",
       "}\n",
       "\n",
       ".sk-estimator-doc-link.fitted span {\n",
       "  /* fitted */\n",
       "  background: var(--sklearn-color-fitted-level-0);\n",
       "  border: var(--sklearn-color-fitted-level-3);\n",
       "}\n",
       "\n",
       ".sk-estimator-doc-link:hover span {\n",
       "  display: block;\n",
       "}\n",
       "\n",
       "/* \"?\"-specific style due to the `<a>` HTML tag */\n",
       "\n",
       "#sk-container-id-3 a.estimator_doc_link {\n",
       "  float: right;\n",
       "  font-size: 1rem;\n",
       "  line-height: 1em;\n",
       "  font-family: monospace;\n",
       "  background-color: var(--sklearn-color-background);\n",
       "  border-radius: 1rem;\n",
       "  height: 1rem;\n",
       "  width: 1rem;\n",
       "  text-decoration: none;\n",
       "  /* unfitted */\n",
       "  color: var(--sklearn-color-unfitted-level-1);\n",
       "  border: var(--sklearn-color-unfitted-level-1) 1pt solid;\n",
       "}\n",
       "\n",
       "#sk-container-id-3 a.estimator_doc_link.fitted {\n",
       "  /* fitted */\n",
       "  border: var(--sklearn-color-fitted-level-1) 1pt solid;\n",
       "  color: var(--sklearn-color-fitted-level-1);\n",
       "}\n",
       "\n",
       "/* On hover */\n",
       "#sk-container-id-3 a.estimator_doc_link:hover {\n",
       "  /* unfitted */\n",
       "  background-color: var(--sklearn-color-unfitted-level-3);\n",
       "  color: var(--sklearn-color-background);\n",
       "  text-decoration: none;\n",
       "}\n",
       "\n",
       "#sk-container-id-3 a.estimator_doc_link.fitted:hover {\n",
       "  /* fitted */\n",
       "  background-color: var(--sklearn-color-fitted-level-3);\n",
       "}\n",
       "</style><div id=\"sk-container-id-3\" class=\"sk-top-container\"><div class=\"sk-text-repr-fallback\"><pre>AgglomerativeClustering(compute_distances=True, n_clusters=3)</pre><b>In a Jupyter environment, please rerun this cell to show the HTML representation or trust the notebook. <br />On GitHub, the HTML representation is unable to render, please try loading this page with nbviewer.org.</b></div><div class=\"sk-container\" hidden><div class=\"sk-item\"><div class=\"sk-estimator fitted sk-toggleable\"><input class=\"sk-toggleable__control sk-hidden--visually\" id=\"sk-estimator-id-3\" type=\"checkbox\" checked><label for=\"sk-estimator-id-3\" class=\"sk-toggleable__label fitted sk-toggleable__label-arrow fitted\">&nbsp;&nbsp;AgglomerativeClustering<a class=\"sk-estimator-doc-link fitted\" rel=\"noreferrer\" target=\"_blank\" href=\"https://scikit-learn.org/1.4/modules/generated/sklearn.cluster.AgglomerativeClustering.html\">?<span>Documentation for AgglomerativeClustering</span></a><span class=\"sk-estimator-doc-link fitted\">i<span>Fitted</span></span></label><div class=\"sk-toggleable__content fitted\"><pre>AgglomerativeClustering(compute_distances=True, n_clusters=3)</pre></div> </div></div></div></div>"
      ],
      "text/plain": [
       "AgglomerativeClustering(compute_distances=True, n_clusters=3)"
      ]
     },
     "execution_count": 286,
     "metadata": {},
     "output_type": "execute_result"
    }
   ],
   "source": [
    "# Clustering with K = 3 \n",
    "agglomerative3 = AgglomerativeClustering(n_clusters=3, compute_distances=True)\n",
    "agglomerative3.fit(X_scaled)"
   ]
  },
  {
   "cell_type": "code",
   "execution_count": 287,
   "id": "311900f0-e801-4eab-9a1e-d020de78a3fc",
   "metadata": {},
   "outputs": [
    {
     "name": "stdout",
     "output_type": "stream",
     "text": [
      "Unique labels: [0 1 2]\n"
     ]
    }
   ],
   "source": [
    "print('Unique labels:', np.unique(agglomerative3.labels_))"
   ]
  },
  {
   "cell_type": "code",
   "execution_count": 288,
   "id": "355243f4-05df-460b-972e-118bf5debae1",
   "metadata": {
    "scrolled": true
   },
   "outputs": [
    {
     "data": {
      "text/html": [
       "<div>\n",
       "<style scoped>\n",
       "    .dataframe tbody tr th:only-of-type {\n",
       "        vertical-align: middle;\n",
       "    }\n",
       "\n",
       "    .dataframe tbody tr th {\n",
       "        vertical-align: top;\n",
       "    }\n",
       "\n",
       "    .dataframe thead th {\n",
       "        text-align: right;\n",
       "    }\n",
       "</style>\n",
       "<table border=\"1\" class=\"dataframe\">\n",
       "  <thead>\n",
       "    <tr style=\"text-align: right;\">\n",
       "      <th></th>\n",
       "      <th>Country</th>\n",
       "      <th>Status</th>\n",
       "      <th>Sector</th>\n",
       "      <th>Programme</th>\n",
       "      <th>Instrument_type</th>\n",
       "      <th>Policy_side</th>\n",
       "      <th>Amount_USD_mn</th>\n",
       "      <th>Duration_yrs</th>\n",
       "      <th>Description</th>\n",
       "      <th>cluster3</th>\n",
       "    </tr>\n",
       "  </thead>\n",
       "  <tbody>\n",
       "    <tr>\n",
       "      <th>0</th>\n",
       "      <td>Australia</td>\n",
       "      <td>In force</td>\n",
       "      <td>Hubs</td>\n",
       "      <td>Regional Hydrogen Hubs Programme</td>\n",
       "      <td>Grant</td>\n",
       "      <td>Pull</td>\n",
       "      <td>324.0</td>\n",
       "      <td>NaN</td>\n",
       "      <td>AUD 490 m (USD 324 m) for seven H₂ hubs (up to...</td>\n",
       "      <td>0</td>\n",
       "    </tr>\n",
       "    <tr>\n",
       "      <th>1</th>\n",
       "      <td>Australia</td>\n",
       "      <td>Announced</td>\n",
       "      <td>Electrolyser manufacturing</td>\n",
       "      <td>National Reconstruction Fund – H₂ equipment debt</td>\n",
       "      <td>Loan/guarantee</td>\n",
       "      <td>Push</td>\n",
       "      <td>2000.0</td>\n",
       "      <td>NaN</td>\n",
       "      <td>Finance in the form of debt, equity and guaran...</td>\n",
       "      <td>0</td>\n",
       "    </tr>\n",
       "    <tr>\n",
       "      <th>2</th>\n",
       "      <td>Australia</td>\n",
       "      <td>Announced</td>\n",
       "      <td>Industry</td>\n",
       "      <td>Future Made in Australia programme</td>\n",
       "      <td>Tax credit</td>\n",
       "      <td>Push</td>\n",
       "      <td>10000.0</td>\n",
       "      <td>17 years</td>\n",
       "      <td>AUD 2/kg (USD 1.3/kg) incentive for up to 10 y...</td>\n",
       "      <td>2</td>\n",
       "    </tr>\n",
       "    <tr>\n",
       "      <th>3</th>\n",
       "      <td>Australia</td>\n",
       "      <td>In force</td>\n",
       "      <td>Industry</td>\n",
       "      <td>the Australian Headstart programme</td>\n",
       "      <td>CfD</td>\n",
       "      <td>Pull</td>\n",
       "      <td>2600.0</td>\n",
       "      <td>10 years</td>\n",
       "      <td>For projects with a cumulative electrolyser ca...</td>\n",
       "      <td>0</td>\n",
       "    </tr>\n",
       "    <tr>\n",
       "      <th>4</th>\n",
       "      <td>Australia</td>\n",
       "      <td>Announced</td>\n",
       "      <td>Industry</td>\n",
       "      <td>Future Made in Australia Innovation Fund</td>\n",
       "      <td>Grant</td>\n",
       "      <td>Push</td>\n",
       "      <td>1200.0</td>\n",
       "      <td>20 years</td>\n",
       "      <td>Includes “green” metals and low-carbon liquid ...</td>\n",
       "      <td>1</td>\n",
       "    </tr>\n",
       "  </tbody>\n",
       "</table>\n",
       "</div>"
      ],
      "text/plain": [
       "     Country     Status                       Sector  \\\n",
       "0  Australia   In force                         Hubs   \n",
       "1  Australia  Announced  Electrolyser manufacturing    \n",
       "2  Australia  Announced                     Industry   \n",
       "3  Australia   In force                     Industry   \n",
       "4  Australia  Announced                     Industry   \n",
       "\n",
       "                                          Programme Instrument_type  \\\n",
       "0                  Regional Hydrogen Hubs Programme           Grant   \n",
       "1  National Reconstruction Fund – H₂ equipment debt  Loan/guarantee   \n",
       "2                Future Made in Australia programme      Tax credit   \n",
       "3                the Australian Headstart programme             CfD   \n",
       "4          Future Made in Australia Innovation Fund           Grant   \n",
       "\n",
       "  Policy_side  Amount_USD_mn Duration_yrs  \\\n",
       "0        Pull          324.0          NaN   \n",
       "1        Push         2000.0          NaN   \n",
       "2        Push        10000.0     17 years   \n",
       "3        Pull         2600.0    10 years    \n",
       "4        Push         1200.0     20 years   \n",
       "\n",
       "                                         Description  cluster3  \n",
       "0  AUD 490 m (USD 324 m) for seven H₂ hubs (up to...         0  \n",
       "1  Finance in the form of debt, equity and guaran...         0  \n",
       "2  AUD 2/kg (USD 1.3/kg) incentive for up to 10 y...         2  \n",
       "3  For projects with a cumulative electrolyser ca...         0  \n",
       "4  Includes “green” metals and low-carbon liquid ...         1  "
      ]
     },
     "execution_count": 288,
     "metadata": {},
     "output_type": "execute_result"
    }
   ],
   "source": [
    "gh_subset['cluster3'] = agglomerative3.labels_\n",
    "gh_subset.head()"
   ]
  },
  {
   "cell_type": "code",
   "execution_count": 367,
   "id": "86ca4f37-ee7e-49fa-9b37-976cf4d9ad8c",
   "metadata": {},
   "outputs": [
    {
     "data": {
      "image/png": "[encoded data removed]",
      "text/plain": [
       "<Figure size 800x600 with 1 Axes>"
      ]
     },
     "metadata": {},
     "output_type": "display_data"
    }
   ],
   "source": [
    "\n",
    "pca = PCA(n_components=2)\n",
    "reduced_data = pca.fit_transform(X_scaled)  \n",
    "\n",
    "labels = agglomerative3.labels_\n",
    "\n",
    "# Plot\n",
    "plt.figure(figsize=(8, 6))\n",
    "ax = sns.scatterplot(x=reduced_data[:, 0], y=reduced_data[:, 1], hue=labels, palette='tab10', s=70)\n",
    "plt.title('Agglomerative Clustering (k=3) - PCA Projection')\n",
    "plt.xlabel('Principal Component 1')\n",
    "plt.ylabel('Principal Component 2')\n",
    "plt.legend(title='Cluster')\n",
    "ax.figure.set_facecolor('#e6e6e6')\n",
    "\n",
    "plt.grid(True)\n",
    "plt.show()\n"
   ]
  },
  {
   "cell_type": "code",
   "execution_count": 290,
   "id": "a5689a49-7cd3-410e-854e-f38db0056227",
   "metadata": {},
   "outputs": [
    {
     "data": {
      "text/plain": [
       "cluster3  Instrument_type    \n",
       "0         CfD                     7\n",
       "          Competitive bidding     9\n",
       "          Grant                   6\n",
       "          Loan/guarantee          4\n",
       "1         Grant                  46\n",
       "2         Tax credit              5\n",
       "dtype: int64"
      ]
     },
     "execution_count": 290,
     "metadata": {},
     "output_type": "execute_result"
    }
   ],
   "source": [
    "gh_subset.groupby(by=['cluster3', 'Instrument_type']).size()"
   ]
  },
  {
   "cell_type": "code",
   "execution_count": 291,
   "id": "203bac07-eaed-4e6a-9f25-c352d68a2d69",
   "metadata": {},
   "outputs": [
    {
     "data": {
      "text/plain": [
       "cluster3  Instrument_type      Policy_side\n",
       "0         CfD                  Pull            7\n",
       "          Competitive bidding  Pull            5\n",
       "                               Push            4\n",
       "          Grant                Pull            6\n",
       "          Loan/guarantee       Pull            1\n",
       "                               Push            3\n",
       "1         Grant                Push           46\n",
       "2         Tax credit           Push            5\n",
       "dtype: int64"
      ]
     },
     "execution_count": 291,
     "metadata": {},
     "output_type": "execute_result"
    }
   ],
   "source": [
    "gh_subset.groupby(by=['cluster3', 'Instrument_type', 'Policy_side']).size()"
   ]
  },
  {
   "cell_type": "code",
   "execution_count": 292,
   "id": "0274e8a9-5827-42d0-aafb-38e6770b9023",
   "metadata": {},
   "outputs": [
    {
     "data": {
      "text/plain": [
       "cluster3  Country            \n",
       "0         Australia              3\n",
       "          Austria                1\n",
       "          Canada                 2\n",
       "          Chile                  2\n",
       "          Denmark                1\n",
       "          European Commission    1\n",
       "          France                 1\n",
       "          Germany                4\n",
       "          India                  2\n",
       "          Japan                  2\n",
       "          Netherlands            2\n",
       "          Oman                   1\n",
       "          Poland                 1\n",
       "          Portugal               1\n",
       "          Spain                  1\n",
       "          UK                     1\n",
       "1         Australia              1\n",
       "          Chile                  1\n",
       "          China                  1\n",
       "          European Commission    4\n",
       "          Finland                1\n",
       "          France                 1\n",
       "          Germany                1\n",
       "          India                  1\n",
       "          India                  4\n",
       "          Italy                  5\n",
       "          Japan                  1\n",
       "          Lithuania              1\n",
       "          Netherlands            4\n",
       "          Norway                 1\n",
       "          Poland                 1\n",
       "          Spain                  4\n",
       "          Sweden                 1\n",
       "          UK                     4\n",
       "          United States          9\n",
       "2         Australia              1\n",
       "          Brazil                 1\n",
       "          Canada                 1\n",
       "          United States          2\n",
       "dtype: int64"
      ]
     },
     "execution_count": 292,
     "metadata": {},
     "output_type": "execute_result"
    }
   ],
   "source": [
    "gh_subset.groupby(by=['cluster3', 'Country']).size()"
   ]
  },
  {
   "cell_type": "code",
   "execution_count": 293,
   "id": "5eb412e6-0519-43f6-b569-572d13cb8f43",
   "metadata": {
    "scrolled": true
   },
   "outputs": [
    {
     "data": {
      "image/png": "[encoded data removed]",
      "text/plain": [
       "<Figure size 800x600 with 1 Axes>"
      ]
     },
     "metadata": {},
     "output_type": "display_data"
    }
   ],
   "source": [
    "grouped_cluster['Cluster_Status'] = grouped_cluster.apply(\n",
    "    lambda row: f\"({row['cluster3']}, {row['Policy_side']})\", axis=1\n",
    ")\n",
    "\n",
    "# Step 2: Plot using Seaborn\n",
    "plt.figure(figsize=(8, 6))\n",
    "ax = sns.barplot(\n",
    "    data=grouped_cluster,\n",
    "    x='Cluster_Status',\n",
    "    y='Count',\n",
    "    hue='Instrument_type'\n",
    ")\n",
    "plt.title(\"Clusters differentiated by instrument and status\")\n",
    "plt.ylabel(\"Size\")\n",
    "plt.xlabel(\"(Cluster, Status)\")\n",
    "plt.xticks(rotation=45)\n",
    "plt.legend(title='Instrument')\n",
    "ax.figure.set_facecolor('#e6e6e6')\n",
    "plt.tight_layout()\n",
    "plt.show()"
   ]
  },
  {
   "cell_type": "code",
   "execution_count": 353,
   "id": "f7a13722-81b0-4ad3-b48b-55f5e9de93db",
   "metadata": {},
   "outputs": [
    {
     "data": {
      "image/png": "[encoded data removed]",
      "text/plain": [
       "<Figure size 800x600 with 1 Axes>"
      ]
     },
     "metadata": {},
     "output_type": "display_data"
    }
   ],
   "source": [
    "grouped_cluster2['Cluster_Country'] = grouped_cluster2.apply(\n",
    "    lambda row: f\"({row['cluster3']}, {row['Country']})\", axis=1\n",
    ")\n",
    "\n",
    "# Step 2: Plot using Seaborn\n",
    "plt.figure(figsize=(8, 6))\n",
    "ax = sns.barplot(\n",
    "    data=grouped_cluster2,\n",
    "    x='Cluster_Country',\n",
    "    y='Count',\n",
    "    hue='Instrument_type'\n",
    ")\n",
    "plt.title(\"Clusters differentiated by instrument and country\")\n",
    "plt.ylabel(\"Size\")\n",
    "plt.xlabel(\"(Cluster, Country)\")\n",
    "plt.xticks(rotation=45)\n",
    "plt.legend(title='Instrument')\n",
    "ax.figure.set_facecolor('#e6e6e6')\n",
    "plt.tight_layout()\n",
    "plt.show()"
   ]
  },
  {
   "cell_type": "code",
   "execution_count": 363,
   "id": "fd66d656-425d-4e39-9541-fd7a63ef2889",
   "metadata": {},
   "outputs": [
    {
     "data": {
      "image/png": "[encoded data removed]",
      "text/plain": [
       "<Figure size 1391x500 with 3 Axes>"
      ]
     },
     "metadata": {},
     "output_type": "display_data"
    }
   ],
   "source": [
    "pivot = (gh_subset\n",
    "         .groupby(['cluster3', 'Country', 'Instrument_type'])\n",
    "         .size()\n",
    "         .reset_index(name='Count'))\n",
    "\n",
    "# order countries by their total number of policies (optional)\n",
    "country_order = (pivot.groupby('Country')['Count']\n",
    "                       .sum()\n",
    "                       .sort_values(ascending=False)\n",
    "                       .index)\n",
    "\n",
    "# ── facet grid ────────────────────────────────────────────────\n",
    "g = sns.catplot(data=pivot,\n",
    "                kind='bar',\n",
    "                x='Count',\n",
    "                y='Country',\n",
    "                hue='Instrument_type',\n",
    "                col='cluster3',          # one panel per cluster\n",
    "                order=country_order,     # consistent ordering\n",
    "                height=5, aspect=0.8,\n",
    "                sharex=False)            # each cluster has its own scale\n",
    "\n",
    "g.set_titles(\"Cluster {col_name}\")\n",
    "g.set_xlabels(\"Number of policies\")\n",
    "g.set_ylabels(\"\")\n",
    "g.despine(left=True)\n",
    "plt.tight_layout()\n",
    "plt.show()"
   ]
  },
  {
   "cell_type": "code",
   "execution_count": 295,
   "id": "b73a3f5c-406a-49b3-87e7-858d084423b1",
   "metadata": {},
   "outputs": [],
   "source": [
    "gh_subset['cluster3'] = gh_subset['cluster3'].astype()"
   ]
  },
  {
   "cell_type": "code",
   "execution_count": 296,
   "id": "762aab5b-6fbe-4019-866b-875e0ecaa32b",
   "metadata": {},
   "outputs": [],
   "source": [
    "gh_subset2 = gh_subset.replace({'Country': {'European Commission': 'Belgium'}})"
   ]
  },
  {
   "cell_type": "code",
   "execution_count": 297,
   "id": "e9e23738-f343-455f-838b-1f94d0b11f2b",
   "metadata": {},
   "outputs": [
    {
     "data": {
      "application/vnd.plotly.v1+json": {
       "config": {
        "plotlyServerURL": "https://plot.ly"
       },
       "data": [
        {
         "colorscale": [
          [
           0,
           "#636efa"
          ],
          [
           1,
           "#636efa"
          ]
         ],
         "customdata": [
          [
           "Grant"
          ],
          [
           "Loan/guarantee"
          ],
          [
           "CfD"
          ],
          [
           "Competitive bidding"
          ],
          [
           "Competitive bidding"
          ],
          [
           "Loan/guarantee"
          ],
          [
           "Grant"
          ],
          [
           "Loan/guarantee"
          ],
          [
           "Competitive bidding"
          ],
          [
           "Competitive bidding"
          ],
          [
           "CfD"
          ],
          [
           "CfD"
          ],
          [
           "CfD"
          ],
          [
           "Competitive bidding"
          ],
          [
           "Grant"
          ],
          [
           "Grant"
          ],
          [
           "Competitive bidding"
          ],
          [
           "Grant"
          ],
          [
           "CfD"
          ],
          [
           "Grant"
          ],
          [
           "Competitive bidding"
          ],
          [
           "Competitive bidding"
          ],
          [
           "Loan/guarantee"
          ],
          [
           "CfD"
          ],
          [
           "Competitive bidding"
          ],
          [
           "CfD"
          ]
         ],
         "geo": "geo",
         "hovertemplate": "<b>%{hovertext}</b><br><br>cluster3=0<br>Country=%{location}<br>Instrument_type=%{customdata[0]}<extra></extra>",
         "hovertext": [
          "Australia",
          "Australia",
          "Australia",
          "Austria",
          "Canada",
          "Canada",
          "Chile",
          "Chile",
          "Denmark",
          "Belgium",
          "France",
          "Germany",
          "Germany",
          "Germany",
          "Germany",
          "India",
          "India",
          "Japan",
          "Japan",
          "Netherlands",
          "Netherlands",
          "Oman",
          "Poland",
          "Portugal",
          "Spain",
          "UK"
         ],
         "locationmode": "country names",
         "locations": [
          "Australia",
          "Australia",
          "Australia",
          "Austria",
          "Canada",
          "Canada",
          "Chile",
          "Chile",
          "Denmark",
          "Belgium",
          "France",
          "Germany",
          "Germany",
          "Germany",
          "Germany",
          "India",
          "India",
          "Japan",
          "Japan",
          "Netherlands",
          "Netherlands",
          "Oman",
          "Poland",
          "Portugal",
          "Spain",
          "UK"
         ],
         "name": "0",
         "showlegend": true,
         "showscale": false,
         "type": "choropleth",
         "z": [
          1,
          1,
          1,
          1,
          1,
          1,
          1,
          1,
          1,
          1,
          1,
          1,
          1,
          1,
          1,
          1,
          1,
          1,
          1,
          1,
          1,
          1,
          1,
          1,
          1,
          1
         ]
        },
        {
         "colorscale": [
          [
           0,
           "#EF553B"
          ],
          [
           1,
           "#EF553B"
          ]
         ],
         "customdata": [
          [
           "Tax credit"
          ],
          [
           "Tax credit"
          ],
          [
           "Tax credit"
          ],
          [
           "Tax credit"
          ],
          [
           "Tax credit"
          ]
         ],
         "geo": "geo",
         "hovertemplate": "<b>%{hovertext}</b><br><br>cluster3=2<br>Country=%{location}<br>Instrument_type=%{customdata[0]}<extra></extra>",
         "hovertext": [
          "Australia",
          "Brazil",
          "Canada",
          "United States",
          "United States"
         ],
         "locationmode": "country names",
         "locations": [
          "Australia",
          "Brazil",
          "Canada",
          "United States",
          "United States"
         ],
         "name": "2",
         "showlegend": true,
         "showscale": false,
         "type": "choropleth",
         "z": [
          1,
          1,
          1,
          1,
          1
         ]
        },
        {
         "colorscale": [
          [
           0,
           "#00cc96"
          ],
          [
           1,
           "#00cc96"
          ]
         ],
         "customdata": [
          [
           "Grant"
          ],
          [
           "Grant"
          ],
          [
           "Grant"
          ],
          [
           "Grant"
          ],
          [
           "Grant"
          ],
          [
           "Grant"
          ],
          [
           "Grant"
          ],
          [
           "Grant"
          ],
          [
           "Grant"
          ],
          [
           "Grant"
          ],
          [
           "Grant"
          ],
          [
           "Grant"
          ],
          [
           "Grant"
          ],
          [
           "Grant"
          ],
          [
           "Grant"
          ],
          [
           "Grant"
          ],
          [
           "Grant"
          ],
          [
           "Grant"
          ],
          [
           "Grant"
          ],
          [
           "Grant"
          ],
          [
           "Grant"
          ],
          [
           "Grant"
          ],
          [
           "Grant"
          ],
          [
           "Grant"
          ],
          [
           "Grant"
          ],
          [
           "Grant"
          ],
          [
           "Grant"
          ],
          [
           "Grant"
          ],
          [
           "Grant"
          ],
          [
           "Grant"
          ],
          [
           "Grant"
          ],
          [
           "Grant"
          ],
          [
           "Grant"
          ],
          [
           "Grant"
          ],
          [
           "Grant"
          ],
          [
           "Grant"
          ],
          [
           "Grant"
          ],
          [
           "Grant"
          ],
          [
           "Grant"
          ],
          [
           "Grant"
          ],
          [
           "Grant"
          ],
          [
           "Grant"
          ],
          [
           "Grant"
          ],
          [
           "Grant"
          ],
          [
           "Grant"
          ],
          [
           "Grant"
          ]
         ],
         "geo": "geo",
         "hovertemplate": "<b>%{hovertext}</b><br><br>cluster3=1<br>Country=%{location}<br>Instrument_type=%{customdata[0]}<extra></extra>",
         "hovertext": [
          "Australia",
          "Chile",
          "China",
          "Belgium",
          "Belgium",
          "Belgium",
          "Belgium",
          "Finland",
          "France",
          "Germany",
          "India",
          "India ",
          "India ",
          "India ",
          "India ",
          "Italy",
          "Italy",
          "Italy",
          "Italy",
          "Italy",
          "Japan",
          "Lithuania ",
          "Netherlands",
          "Netherlands",
          "Netherlands",
          "Netherlands",
          "Norway",
          "Poland",
          "Spain",
          "Spain",
          "Spain",
          "Spain",
          "Sweden",
          "UK",
          "UK",
          "UK",
          "UK",
          "United States",
          "United States",
          "United States",
          "United States",
          "United States",
          "United States",
          "United States",
          "United States",
          "United States"
         ],
         "locationmode": "country names",
         "locations": [
          "Australia",
          "Chile",
          "China",
          "Belgium",
          "Belgium",
          "Belgium",
          "Belgium",
          "Finland",
          "France",
          "Germany",
          "India",
          "India ",
          "India ",
          "India ",
          "India ",
          "Italy",
          "Italy",
          "Italy",
          "Italy",
          "Italy",
          "Japan",
          "Lithuania ",
          "Netherlands",
          "Netherlands",
          "Netherlands",
          "Netherlands",
          "Norway",
          "Poland",
          "Spain",
          "Spain",
          "Spain",
          "Spain",
          "Sweden",
          "UK",
          "UK",
          "UK",
          "UK",
          "United States",
          "United States",
          "United States",
          "United States",
          "United States",
          "United States",
          "United States",
          "United States",
          "United States"
         ],
         "name": "1",
         "showlegend": true,
         "showscale": false,
         "type": "choropleth",
         "z": [
          1,
          1,
          1,
          1,
          1,
          1,
          1,
          1,
          1,
          1,
          1,
          1,
          1,
          1,
          1,
          1,
          1,
          1,
          1,
          1,
          1,
          1,
          1,
          1,
          1,
          1,
          1,
          1,
          1,
          1,
          1,
          1,
          1,
          1,
          1,
          1,
          1,
          1,
          1,
          1,
          1,
          1,
          1,
          1,
          1,
          1
         ]
        }
       ],
       "layout": {
        "geo": {
         "center": {
          "lat": 92.2805649489628,
          "lon": 51.69277117140468
         },
         "domain": {
          "x": [
           0,
           1
          ],
          "y": [
           0,
           1
          ]
         },
         "projection": {
          "rotation": {
           "lon": 51.69277117140468
          },
          "scale": 0.7212154446975836,
          "type": "equirectangular"
         }
        },
        "height": 700,
        "legend": {
         "title": {
          "text": "cluster3"
         },
         "tracegroupgap": 0
        },
        "margin": {
         "b": 0,
         "l": 0,
         "r": 0,
         "t": 40
        },
        "template": {
         "data": {
          "bar": [
           {
            "error_x": {
             "color": "#2a3f5f"
            },
            "error_y": {
             "color": "#2a3f5f"
            },
            "marker": {
             "line": {
              "color": "#E5ECF6",
              "width": 0.5
             },
             "pattern": {
              "fillmode": "overlay",
              "size": 10,
              "solidity": 0.2
             }
            },
            "type": "bar"
           }
          ],
          "barpolar": [
           {
            "marker": {
             "line": {
              "color": "#E5ECF6",
              "width": 0.5
             },
             "pattern": {
              "fillmode": "overlay",
              "size": 10,
              "solidity": 0.2
             }
            },
            "type": "barpolar"
           }
          ],
          "carpet": [
           {
            "aaxis": {
             "endlinecolor": "#2a3f5f",
             "gridcolor": "white",
             "linecolor": "white",
             "minorgridcolor": "white",
             "startlinecolor": "#2a3f5f"
            },
            "baxis": {
             "endlinecolor": "#2a3f5f",
             "gridcolor": "white",
             "linecolor": "white",
             "minorgridcolor": "white",
             "startlinecolor": "#2a3f5f"
            },
            "type": "carpet"
           }
          ],
          "choropleth": [
           {
            "colorbar": {
             "outlinewidth": 0,
             "ticks": ""
            },
            "type": "choropleth"
           }
          ],
          "contour": [
           {
            "colorbar": {
             "outlinewidth": 0,
             "ticks": ""
            },
            "colorscale": [
             [
              0,
              "#0d0887"
             ],
             [
              0.1111111111111111,
              "#46039f"
             ],
             [
              0.2222222222222222,
              "#7201a8"
             ],
             [
              0.3333333333333333,
              "#9c179e"
             ],
             [
              0.4444444444444444,
              "#bd3786"
             ],
             [
              0.5555555555555556,
              "#d8576b"
             ],
             [
              0.6666666666666666,
              "#ed7953"
             ],
             [
              0.7777777777777778,
              "#fb9f3a"
             ],
             [
              0.8888888888888888,
              "#fdca26"
             ],
             [
              1,
              "#f0f921"
             ]
            ],
            "type": "contour"
           }
          ],
          "contourcarpet": [
           {
            "colorbar": {
             "outlinewidth": 0,
             "ticks": ""
            },
            "type": "contourcarpet"
           }
          ],
          "heatmap": [
           {
            "colorbar": {
             "outlinewidth": 0,
             "ticks": ""
            },
            "colorscale": [
             [
              0,
              "#0d0887"
             ],
             [
              0.1111111111111111,
              "#46039f"
             ],
             [
              0.2222222222222222,
              "#7201a8"
             ],
             [
              0.3333333333333333,
              "#9c179e"
             ],
             [
              0.4444444444444444,
              "#bd3786"
             ],
             [
              0.5555555555555556,
              "#d8576b"
             ],
             [
              0.6666666666666666,
              "#ed7953"
             ],
             [
              0.7777777777777778,
              "#fb9f3a"
             ],
             [
              0.8888888888888888,
              "#fdca26"
             ],
             [
              1,
              "#f0f921"
             ]
            ],
            "type": "heatmap"
           }
          ],
          "heatmapgl": [
           {
            "colorbar": {
             "outlinewidth": 0,
             "ticks": ""
            },
            "colorscale": [
             [
              0,
              "#0d0887"
             ],
             [
              0.1111111111111111,
              "#46039f"
             ],
             [
              0.2222222222222222,
              "#7201a8"
             ],
             [
              0.3333333333333333,
              "#9c179e"
             ],
             [
              0.4444444444444444,
              "#bd3786"
             ],
             [
              0.5555555555555556,
              "#d8576b"
             ],
             [
              0.6666666666666666,
              "#ed7953"
             ],
             [
              0.7777777777777778,
              "#fb9f3a"
             ],
             [
              0.8888888888888888,
              "#fdca26"
             ],
             [
              1,
              "#f0f921"
             ]
            ],
            "type": "heatmapgl"
           }
          ],
          "histogram": [
           {
            "marker": {
             "pattern": {
              "fillmode": "overlay",
              "size": 10,
              "solidity": 0.2
             }
            },
            "type": "histogram"
           }
          ],
          "histogram2d": [
           {
            "colorbar": {
             "outlinewidth": 0,
             "ticks": ""
            },
            "colorscale": [
             [
              0,
              "#0d0887"
             ],
             [
              0.1111111111111111,
              "#46039f"
             ],
             [
              0.2222222222222222,
              "#7201a8"
             ],
             [
              0.3333333333333333,
              "#9c179e"
             ],
             [
              0.4444444444444444,
              "#bd3786"
             ],
             [
              0.5555555555555556,
              "#d8576b"
             ],
             [
              0.6666666666666666,
              "#ed7953"
             ],
             [
              0.7777777777777778,
              "#fb9f3a"
             ],
             [
              0.8888888888888888,
              "#fdca26"
             ],
             [
              1,
              "#f0f921"
             ]
            ],
            "type": "histogram2d"
           }
          ],
          "histogram2dcontour": [
           {
            "colorbar": {
             "outlinewidth": 0,
             "ticks": ""
            },
            "colorscale": [
             [
              0,
              "#0d0887"
             ],
             [
              0.1111111111111111,
              "#46039f"
             ],
             [
              0.2222222222222222,
              "#7201a8"
             ],
             [
              0.3333333333333333,
              "#9c179e"
             ],
             [
              0.4444444444444444,
              "#bd3786"
             ],
             [
              0.5555555555555556,
              "#d8576b"
             ],
             [
              0.6666666666666666,
              "#ed7953"
             ],
             [
              0.7777777777777778,
              "#fb9f3a"
             ],
             [
              0.8888888888888888,
              "#fdca26"
             ],
             [
              1,
              "#f0f921"
             ]
            ],
            "type": "histogram2dcontour"
           }
          ],
          "mesh3d": [
           {
            "colorbar": {
             "outlinewidth": 0,
             "ticks": ""
            },
            "type": "mesh3d"
           }
          ],
          "parcoords": [
           {
            "line": {
             "colorbar": {
              "outlinewidth": 0,
              "ticks": ""
             }
            },
            "type": "parcoords"
           }
          ],
          "pie": [
           {
            "automargin": true,
            "type": "pie"
           }
          ],
          "scatter": [
           {
            "fillpattern": {
             "fillmode": "overlay",
             "size": 10,
             "solidity": 0.2
            },
            "type": "scatter"
           }
          ],
          "scatter3d": [
           {
            "line": {
             "colorbar": {
              "outlinewidth": 0,
              "ticks": ""
             }
            },
            "marker": {
             "colorbar": {
              "outlinewidth": 0,
              "ticks": ""
             }
            },
            "type": "scatter3d"
           }
          ],
          "scattercarpet": [
           {
            "marker": {
             "colorbar": {
              "outlinewidth": 0,
              "ticks": ""
             }
            },
            "type": "scattercarpet"
           }
          ],
          "scattergeo": [
           {
            "marker": {
             "colorbar": {
              "outlinewidth": 0,
              "ticks": ""
             }
            },
            "type": "scattergeo"
           }
          ],
          "scattergl": [
           {
            "marker": {
             "colorbar": {
              "outlinewidth": 0,
              "ticks": ""
             }
            },
            "type": "scattergl"
           }
          ],
          "scattermapbox": [
           {
            "marker": {
             "colorbar": {
              "outlinewidth": 0,
              "ticks": ""
             }
            },
            "type": "scattermapbox"
           }
          ],
          "scatterpolar": [
           {
            "marker": {
             "colorbar": {
              "outlinewidth": 0,
              "ticks": ""
             }
            },
            "type": "scatterpolar"
           }
          ],
          "scatterpolargl": [
           {
            "marker": {
             "colorbar": {
              "outlinewidth": 0,
              "ticks": ""
             }
            },
            "type": "scatterpolargl"
           }
          ],
          "scatterternary": [
           {
            "marker": {
             "colorbar": {
              "outlinewidth": 0,
              "ticks": ""
             }
            },
            "type": "scatterternary"
           }
          ],
          "surface": [
           {
            "colorbar": {
             "outlinewidth": 0,
             "ticks": ""
            },
            "colorscale": [
             [
              0,
              "#0d0887"
             ],
             [
              0.1111111111111111,
              "#46039f"
             ],
             [
              0.2222222222222222,
              "#7201a8"
             ],
             [
              0.3333333333333333,
              "#9c179e"
             ],
             [
              0.4444444444444444,
              "#bd3786"
             ],
             [
              0.5555555555555556,
              "#d8576b"
             ],
             [
              0.6666666666666666,
              "#ed7953"
             ],
             [
              0.7777777777777778,
              "#fb9f3a"
             ],
             [
              0.8888888888888888,
              "#fdca26"
             ],
             [
              1,
              "#f0f921"
             ]
            ],
            "type": "surface"
           }
          ],
          "table": [
           {
            "cells": {
             "fill": {
              "color": "#EBF0F8"
             },
             "line": {
              "color": "white"
             }
            },
            "header": {
             "fill": {
              "color": "#C8D4E3"
             },
             "line": {
              "color": "white"
             }
            },
            "type": "table"
           }
          ]
         },
         "layout": {
          "annotationdefaults": {
           "arrowcolor": "#2a3f5f",
           "arrowhead": 0,
           "arrowwidth": 1
          },
          "autotypenumbers": "strict",
          "coloraxis": {
           "colorbar": {
            "outlinewidth": 0,
            "ticks": ""
           }
          },
          "colorscale": {
           "diverging": [
            [
             0,
             "#8e0152"
            ],
            [
             0.1,
             "#c51b7d"
            ],
            [
             0.2,
             "#de77ae"
            ],
            [
             0.3,
             "#f1b6da"
            ],
            [
             0.4,
             "#fde0ef"
            ],
            [
             0.5,
             "#f7f7f7"
            ],
            [
             0.6,
             "#e6f5d0"
            ],
            [
             0.7,
             "#b8e186"
            ],
            [
             0.8,
             "#7fbc41"
            ],
            [
             0.9,
             "#4d9221"
            ],
            [
             1,
             "#276419"
            ]
           ],
           "sequential": [
            [
             0,
             "#0d0887"
            ],
            [
             0.1111111111111111,
             "#46039f"
            ],
            [
             0.2222222222222222,
             "#7201a8"
            ],
            [
             0.3333333333333333,
             "#9c179e"
            ],
            [
             0.4444444444444444,
             "#bd3786"
            ],
            [
             0.5555555555555556,
             "#d8576b"
            ],
            [
             0.6666666666666666,
             "#ed7953"
            ],
            [
             0.7777777777777778,
             "#fb9f3a"
            ],
            [
             0.8888888888888888,
             "#fdca26"
            ],
            [
             1,
             "#f0f921"
            ]
           ],
           "sequentialminus": [
            [
             0,
             "#0d0887"
            ],
            [
             0.1111111111111111,
             "#46039f"
            ],
            [
             0.2222222222222222,
             "#7201a8"
            ],
            [
             0.3333333333333333,
             "#9c179e"
            ],
            [
             0.4444444444444444,
             "#bd3786"
            ],
            [
             0.5555555555555556,
             "#d8576b"
            ],
            [
             0.6666666666666666,
             "#ed7953"
            ],
            [
             0.7777777777777778,
             "#fb9f3a"
            ],
            [
             0.8888888888888888,
             "#fdca26"
            ],
            [
             1,
             "#f0f921"
            ]
           ]
          },
          "colorway": [
           "#636efa",
           "#EF553B",
           "#00cc96",
           "#ab63fa",
           "#FFA15A",
           "#19d3f3",
           "#FF6692",
           "#B6E880",
           "#FF97FF",
           "#FECB52"
          ],
          "font": {
           "color": "#2a3f5f"
          },
          "geo": {
           "bgcolor": "white",
           "lakecolor": "white",
           "landcolor": "#E5ECF6",
           "showlakes": true,
           "showland": true,
           "subunitcolor": "white"
          },
          "hoverlabel": {
           "align": "left"
          },
          "hovermode": "closest",
          "mapbox": {
           "style": "light"
          },
          "paper_bgcolor": "white",
          "plot_bgcolor": "#E5ECF6",
          "polar": {
           "angularaxis": {
            "gridcolor": "white",
            "linecolor": "white",
            "ticks": ""
           },
           "bgcolor": "#E5ECF6",
           "radialaxis": {
            "gridcolor": "white",
            "linecolor": "white",
            "ticks": ""
           }
          },
          "scene": {
           "xaxis": {
            "backgroundcolor": "#E5ECF6",
            "gridcolor": "white",
            "gridwidth": 2,
            "linecolor": "white",
            "showbackground": true,
            "ticks": "",
            "zerolinecolor": "white"
           },
           "yaxis": {
            "backgroundcolor": "#E5ECF6",
            "gridcolor": "white",
            "gridwidth": 2,
            "linecolor": "white",
            "showbackground": true,
            "ticks": "",
            "zerolinecolor": "white"
           },
           "zaxis": {
            "backgroundcolor": "#E5ECF6",
            "gridcolor": "white",
            "gridwidth": 2,
            "linecolor": "white",
            "showbackground": true,
            "ticks": "",
            "zerolinecolor": "white"
           }
          },
          "shapedefaults": {
           "line": {
            "color": "#2a3f5f"
           }
          },
          "ternary": {
           "aaxis": {
            "gridcolor": "white",
            "linecolor": "white",
            "ticks": ""
           },
           "baxis": {
            "gridcolor": "white",
            "linecolor": "white",
            "ticks": ""
           },
           "bgcolor": "#E5ECF6",
           "caxis": {
            "gridcolor": "white",
            "linecolor": "white",
            "ticks": ""
           }
          },
          "title": {
           "x": 0.05
          },
          "xaxis": {
           "automargin": true,
           "gridcolor": "white",
           "linecolor": "white",
           "ticks": "",
           "title": {
            "standoff": 15
           },
           "zerolinecolor": "white",
           "zerolinewidth": 2
          },
          "yaxis": {
           "automargin": true,
           "gridcolor": "white",
           "linecolor": "white",
           "ticks": "",
           "title": {
            "standoff": 15
           },
           "zerolinecolor": "white",
           "zerolinewidth": 2
          }
         }
        },
        "title": {
         "text": "Hydrogen Policy Clusters by Country (Based on reuslts from the clustering model)"
        },
        "width": 1200
       }
      },
      "image/png": "[encoded data removed]",
      "text/html": [
       "<div>                            <div id=\"842cb17b-e64b-4ed0-be5c-68ddc4e68985\" class=\"plotly-graph-div\" style=\"height:700px; width:1200px;\"></div>            <script type=\"text/javascript\">                require([\"plotly\"], function(Plotly) {                    window.PLOTLYENV=window.PLOTLYENV || {};                                    if (document.getElementById(\"842cb17b-e64b-4ed0-be5c-68ddc4e68985\")) {                    Plotly.newPlot(                        \"842cb17b-e64b-4ed0-be5c-68ddc4e68985\",                        [{\"colorscale\":[[0.0,\"#636efa\"],[1.0,\"#636efa\"]],\"customdata\":[[\"Grant\"],[\"Loan\\u002fguarantee\"],[\"CfD\"],[\"Competitive bidding\"],[\"Competitive bidding\"],[\"Loan\\u002fguarantee\"],[\"Grant\"],[\"Loan\\u002fguarantee\"],[\"Competitive bidding\"],[\"Competitive bidding\"],[\"CfD\"],[\"CfD\"],[\"CfD\"],[\"Competitive bidding\"],[\"Grant\"],[\"Grant\"],[\"Competitive bidding\"],[\"Grant\"],[\"CfD\"],[\"Grant\"],[\"Competitive bidding\"],[\"Competitive bidding\"],[\"Loan\\u002fguarantee\"],[\"CfD\"],[\"Competitive bidding\"],[\"CfD\"]],\"geo\":\"geo\",\"hovertemplate\":\"\\u003cb\\u003e%{hovertext}\\u003c\\u002fb\\u003e\\u003cbr\\u003e\\u003cbr\\u003ecluster3=0\\u003cbr\\u003eCountry=%{location}\\u003cbr\\u003eInstrument_type=%{customdata[0]}\\u003cextra\\u003e\\u003c\\u002fextra\\u003e\",\"hovertext\":[\"Australia\",\"Australia\",\"Australia\",\"Austria\",\"Canada\",\"Canada\",\"Chile\",\"Chile\",\"Denmark\",\"Belgium\",\"France\",\"Germany\",\"Germany\",\"Germany\",\"Germany\",\"India\",\"India\",\"Japan\",\"Japan\",\"Netherlands\",\"Netherlands\",\"Oman\",\"Poland\",\"Portugal\",\"Spain\",\"UK\"],\"locationmode\":\"country names\",\"locations\":[\"Australia\",\"Australia\",\"Australia\",\"Austria\",\"Canada\",\"Canada\",\"Chile\",\"Chile\",\"Denmark\",\"Belgium\",\"France\",\"Germany\",\"Germany\",\"Germany\",\"Germany\",\"India\",\"India\",\"Japan\",\"Japan\",\"Netherlands\",\"Netherlands\",\"Oman\",\"Poland\",\"Portugal\",\"Spain\",\"UK\"],\"name\":\"0\",\"showlegend\":true,\"showscale\":false,\"z\":[1,1,1,1,1,1,1,1,1,1,1,1,1,1,1,1,1,1,1,1,1,1,1,1,1,1],\"type\":\"choropleth\"},{\"colorscale\":[[0.0,\"#EF553B\"],[1.0,\"#EF553B\"]],\"customdata\":[[\"Tax credit\"],[\"Tax credit\"],[\"Tax credit\"],[\"Tax credit\"],[\"Tax credit\"]],\"geo\":\"geo\",\"hovertemplate\":\"\\u003cb\\u003e%{hovertext}\\u003c\\u002fb\\u003e\\u003cbr\\u003e\\u003cbr\\u003ecluster3=2\\u003cbr\\u003eCountry=%{location}\\u003cbr\\u003eInstrument_type=%{customdata[0]}\\u003cextra\\u003e\\u003c\\u002fextra\\u003e\",\"hovertext\":[\"Australia\",\"Brazil\",\"Canada\",\"United States\",\"United States\"],\"locationmode\":\"country names\",\"locations\":[\"Australia\",\"Brazil\",\"Canada\",\"United States\",\"United States\"],\"name\":\"2\",\"showlegend\":true,\"showscale\":false,\"z\":[1,1,1,1,1],\"type\":\"choropleth\"},{\"colorscale\":[[0.0,\"#00cc96\"],[1.0,\"#00cc96\"]],\"customdata\":[[\"Grant\"],[\"Grant\"],[\"Grant\"],[\"Grant\"],[\"Grant\"],[\"Grant\"],[\"Grant\"],[\"Grant\"],[\"Grant\"],[\"Grant\"],[\"Grant\"],[\"Grant\"],[\"Grant\"],[\"Grant\"],[\"Grant\"],[\"Grant\"],[\"Grant\"],[\"Grant\"],[\"Grant\"],[\"Grant\"],[\"Grant\"],[\"Grant\"],[\"Grant\"],[\"Grant\"],[\"Grant\"],[\"Grant\"],[\"Grant\"],[\"Grant\"],[\"Grant\"],[\"Grant\"],[\"Grant\"],[\"Grant\"],[\"Grant\"],[\"Grant\"],[\"Grant\"],[\"Grant\"],[\"Grant\"],[\"Grant\"],[\"Grant\"],[\"Grant\"],[\"Grant\"],[\"Grant\"],[\"Grant\"],[\"Grant\"],[\"Grant\"],[\"Grant\"]],\"geo\":\"geo\",\"hovertemplate\":\"\\u003cb\\u003e%{hovertext}\\u003c\\u002fb\\u003e\\u003cbr\\u003e\\u003cbr\\u003ecluster3=1\\u003cbr\\u003eCountry=%{location}\\u003cbr\\u003eInstrument_type=%{customdata[0]}\\u003cextra\\u003e\\u003c\\u002fextra\\u003e\",\"hovertext\":[\"Australia\",\"Chile\",\"China\",\"Belgium\",\"Belgium\",\"Belgium\",\"Belgium\",\"Finland\",\"France\",\"Germany\",\"India\",\"India \",\"India \",\"India \",\"India \",\"Italy\",\"Italy\",\"Italy\",\"Italy\",\"Italy\",\"Japan\",\"Lithuania \",\"Netherlands\",\"Netherlands\",\"Netherlands\",\"Netherlands\",\"Norway\",\"Poland\",\"Spain\",\"Spain\",\"Spain\",\"Spain\",\"Sweden\",\"UK\",\"UK\",\"UK\",\"UK\",\"United States\",\"United States\",\"United States\",\"United States\",\"United States\",\"United States\",\"United States\",\"United States\",\"United States\"],\"locationmode\":\"country names\",\"locations\":[\"Australia\",\"Chile\",\"China\",\"Belgium\",\"Belgium\",\"Belgium\",\"Belgium\",\"Finland\",\"France\",\"Germany\",\"India\",\"India \",\"India \",\"India \",\"India \",\"Italy\",\"Italy\",\"Italy\",\"Italy\",\"Italy\",\"Japan\",\"Lithuania \",\"Netherlands\",\"Netherlands\",\"Netherlands\",\"Netherlands\",\"Norway\",\"Poland\",\"Spain\",\"Spain\",\"Spain\",\"Spain\",\"Sweden\",\"UK\",\"UK\",\"UK\",\"UK\",\"United States\",\"United States\",\"United States\",\"United States\",\"United States\",\"United States\",\"United States\",\"United States\",\"United States\"],\"name\":\"1\",\"showlegend\":true,\"showscale\":false,\"z\":[1,1,1,1,1,1,1,1,1,1,1,1,1,1,1,1,1,1,1,1,1,1,1,1,1,1,1,1,1,1,1,1,1,1,1,1,1,1,1,1,1,1,1,1,1,1],\"type\":\"choropleth\"}],                        {\"template\":{\"data\":{\"histogram2dcontour\":[{\"type\":\"histogram2dcontour\",\"colorbar\":{\"outlinewidth\":0,\"ticks\":\"\"},\"colorscale\":[[0.0,\"#0d0887\"],[0.1111111111111111,\"#46039f\"],[0.2222222222222222,\"#7201a8\"],[0.3333333333333333,\"#9c179e\"],[0.4444444444444444,\"#bd3786\"],[0.5555555555555556,\"#d8576b\"],[0.6666666666666666,\"#ed7953\"],[0.7777777777777778,\"#fb9f3a\"],[0.8888888888888888,\"#fdca26\"],[1.0,\"#f0f921\"]]}],\"choropleth\":[{\"type\":\"choropleth\",\"colorbar\":{\"outlinewidth\":0,\"ticks\":\"\"}}],\"histogram2d\":[{\"type\":\"histogram2d\",\"colorbar\":{\"outlinewidth\":0,\"ticks\":\"\"},\"colorscale\":[[0.0,\"#0d0887\"],[0.1111111111111111,\"#46039f\"],[0.2222222222222222,\"#7201a8\"],[0.3333333333333333,\"#9c179e\"],[0.4444444444444444,\"#bd3786\"],[0.5555555555555556,\"#d8576b\"],[0.6666666666666666,\"#ed7953\"],[0.7777777777777778,\"#fb9f3a\"],[0.8888888888888888,\"#fdca26\"],[1.0,\"#f0f921\"]]}],\"heatmap\":[{\"type\":\"heatmap\",\"colorbar\":{\"outlinewidth\":0,\"ticks\":\"\"},\"colorscale\":[[0.0,\"#0d0887\"],[0.1111111111111111,\"#46039f\"],[0.2222222222222222,\"#7201a8\"],[0.3333333333333333,\"#9c179e\"],[0.4444444444444444,\"#bd3786\"],[0.5555555555555556,\"#d8576b\"],[0.6666666666666666,\"#ed7953\"],[0.7777777777777778,\"#fb9f3a\"],[0.8888888888888888,\"#fdca26\"],[1.0,\"#f0f921\"]]}],\"heatmapgl\":[{\"type\":\"heatmapgl\",\"colorbar\":{\"outlinewidth\":0,\"ticks\":\"\"},\"colorscale\":[[0.0,\"#0d0887\"],[0.1111111111111111,\"#46039f\"],[0.2222222222222222,\"#7201a8\"],[0.3333333333333333,\"#9c179e\"],[0.4444444444444444,\"#bd3786\"],[0.5555555555555556,\"#d8576b\"],[0.6666666666666666,\"#ed7953\"],[0.7777777777777778,\"#fb9f3a\"],[0.8888888888888888,\"#fdca26\"],[1.0,\"#f0f921\"]]}],\"contourcarpet\":[{\"type\":\"contourcarpet\",\"colorbar\":{\"outlinewidth\":0,\"ticks\":\"\"}}],\"contour\":[{\"type\":\"contour\",\"colorbar\":{\"outlinewidth\":0,\"ticks\":\"\"},\"colorscale\":[[0.0,\"#0d0887\"],[0.1111111111111111,\"#46039f\"],[0.2222222222222222,\"#7201a8\"],[0.3333333333333333,\"#9c179e\"],[0.4444444444444444,\"#bd3786\"],[0.5555555555555556,\"#d8576b\"],[0.6666666666666666,\"#ed7953\"],[0.7777777777777778,\"#fb9f3a\"],[0.8888888888888888,\"#fdca26\"],[1.0,\"#f0f921\"]]}],\"surface\":[{\"type\":\"surface\",\"colorbar\":{\"outlinewidth\":0,\"ticks\":\"\"},\"colorscale\":[[0.0,\"#0d0887\"],[0.1111111111111111,\"#46039f\"],[0.2222222222222222,\"#7201a8\"],[0.3333333333333333,\"#9c179e\"],[0.4444444444444444,\"#bd3786\"],[0.5555555555555556,\"#d8576b\"],[0.6666666666666666,\"#ed7953\"],[0.7777777777777778,\"#fb9f3a\"],[0.8888888888888888,\"#fdca26\"],[1.0,\"#f0f921\"]]}],\"mesh3d\":[{\"type\":\"mesh3d\",\"colorbar\":{\"outlinewidth\":0,\"ticks\":\"\"}}],\"scatter\":[{\"fillpattern\":{\"fillmode\":\"overlay\",\"size\":10,\"solidity\":0.2},\"type\":\"scatter\"}],\"parcoords\":[{\"type\":\"parcoords\",\"line\":{\"colorbar\":{\"outlinewidth\":0,\"ticks\":\"\"}}}],\"scatterpolargl\":[{\"type\":\"scatterpolargl\",\"marker\":{\"colorbar\":{\"outlinewidth\":0,\"ticks\":\"\"}}}],\"bar\":[{\"error_x\":{\"color\":\"#2a3f5f\"},\"error_y\":{\"color\":\"#2a3f5f\"},\"marker\":{\"line\":{\"color\":\"#E5ECF6\",\"width\":0.5},\"pattern\":{\"fillmode\":\"overlay\",\"size\":10,\"solidity\":0.2}},\"type\":\"bar\"}],\"scattergeo\":[{\"type\":\"scattergeo\",\"marker\":{\"colorbar\":{\"outlinewidth\":0,\"ticks\":\"\"}}}],\"scatterpolar\":[{\"type\":\"scatterpolar\",\"marker\":{\"colorbar\":{\"outlinewidth\":0,\"ticks\":\"\"}}}],\"histogram\":[{\"marker\":{\"pattern\":{\"fillmode\":\"overlay\",\"size\":10,\"solidity\":0.2}},\"type\":\"histogram\"}],\"scattergl\":[{\"type\":\"scattergl\",\"marker\":{\"colorbar\":{\"outlinewidth\":0,\"ticks\":\"\"}}}],\"scatter3d\":[{\"type\":\"scatter3d\",\"line\":{\"colorbar\":{\"outlinewidth\":0,\"ticks\":\"\"}},\"marker\":{\"colorbar\":{\"outlinewidth\":0,\"ticks\":\"\"}}}],\"scattermapbox\":[{\"type\":\"scattermapbox\",\"marker\":{\"colorbar\":{\"outlinewidth\":0,\"ticks\":\"\"}}}],\"scatterternary\":[{\"type\":\"scatterternary\",\"marker\":{\"colorbar\":{\"outlinewidth\":0,\"ticks\":\"\"}}}],\"scattercarpet\":[{\"type\":\"scattercarpet\",\"marker\":{\"colorbar\":{\"outlinewidth\":0,\"ticks\":\"\"}}}],\"carpet\":[{\"aaxis\":{\"endlinecolor\":\"#2a3f5f\",\"gridcolor\":\"white\",\"linecolor\":\"white\",\"minorgridcolor\":\"white\",\"startlinecolor\":\"#2a3f5f\"},\"baxis\":{\"endlinecolor\":\"#2a3f5f\",\"gridcolor\":\"white\",\"linecolor\":\"white\",\"minorgridcolor\":\"white\",\"startlinecolor\":\"#2a3f5f\"},\"type\":\"carpet\"}],\"table\":[{\"cells\":{\"fill\":{\"color\":\"#EBF0F8\"},\"line\":{\"color\":\"white\"}},\"header\":{\"fill\":{\"color\":\"#C8D4E3\"},\"line\":{\"color\":\"white\"}},\"type\":\"table\"}],\"barpolar\":[{\"marker\":{\"line\":{\"color\":\"#E5ECF6\",\"width\":0.5},\"pattern\":{\"fillmode\":\"overlay\",\"size\":10,\"solidity\":0.2}},\"type\":\"barpolar\"}],\"pie\":[{\"automargin\":true,\"type\":\"pie\"}]},\"layout\":{\"autotypenumbers\":\"strict\",\"colorway\":[\"#636efa\",\"#EF553B\",\"#00cc96\",\"#ab63fa\",\"#FFA15A\",\"#19d3f3\",\"#FF6692\",\"#B6E880\",\"#FF97FF\",\"#FECB52\"],\"font\":{\"color\":\"#2a3f5f\"},\"hovermode\":\"closest\",\"hoverlabel\":{\"align\":\"left\"},\"paper_bgcolor\":\"white\",\"plot_bgcolor\":\"#E5ECF6\",\"polar\":{\"bgcolor\":\"#E5ECF6\",\"angularaxis\":{\"gridcolor\":\"white\",\"linecolor\":\"white\",\"ticks\":\"\"},\"radialaxis\":{\"gridcolor\":\"white\",\"linecolor\":\"white\",\"ticks\":\"\"}},\"ternary\":{\"bgcolor\":\"#E5ECF6\",\"aaxis\":{\"gridcolor\":\"white\",\"linecolor\":\"white\",\"ticks\":\"\"},\"baxis\":{\"gridcolor\":\"white\",\"linecolor\":\"white\",\"ticks\":\"\"},\"caxis\":{\"gridcolor\":\"white\",\"linecolor\":\"white\",\"ticks\":\"\"}},\"coloraxis\":{\"colorbar\":{\"outlinewidth\":0,\"ticks\":\"\"}},\"colorscale\":{\"sequential\":[[0.0,\"#0d0887\"],[0.1111111111111111,\"#46039f\"],[0.2222222222222222,\"#7201a8\"],[0.3333333333333333,\"#9c179e\"],[0.4444444444444444,\"#bd3786\"],[0.5555555555555556,\"#d8576b\"],[0.6666666666666666,\"#ed7953\"],[0.7777777777777778,\"#fb9f3a\"],[0.8888888888888888,\"#fdca26\"],[1.0,\"#f0f921\"]],\"sequentialminus\":[[0.0,\"#0d0887\"],[0.1111111111111111,\"#46039f\"],[0.2222222222222222,\"#7201a8\"],[0.3333333333333333,\"#9c179e\"],[0.4444444444444444,\"#bd3786\"],[0.5555555555555556,\"#d8576b\"],[0.6666666666666666,\"#ed7953\"],[0.7777777777777778,\"#fb9f3a\"],[0.8888888888888888,\"#fdca26\"],[1.0,\"#f0f921\"]],\"diverging\":[[0,\"#8e0152\"],[0.1,\"#c51b7d\"],[0.2,\"#de77ae\"],[0.3,\"#f1b6da\"],[0.4,\"#fde0ef\"],[0.5,\"#f7f7f7\"],[0.6,\"#e6f5d0\"],[0.7,\"#b8e186\"],[0.8,\"#7fbc41\"],[0.9,\"#4d9221\"],[1,\"#276419\"]]},\"xaxis\":{\"gridcolor\":\"white\",\"linecolor\":\"white\",\"ticks\":\"\",\"title\":{\"standoff\":15},\"zerolinecolor\":\"white\",\"automargin\":true,\"zerolinewidth\":2},\"yaxis\":{\"gridcolor\":\"white\",\"linecolor\":\"white\",\"ticks\":\"\",\"title\":{\"standoff\":15},\"zerolinecolor\":\"white\",\"automargin\":true,\"zerolinewidth\":2},\"scene\":{\"xaxis\":{\"backgroundcolor\":\"#E5ECF6\",\"gridcolor\":\"white\",\"linecolor\":\"white\",\"showbackground\":true,\"ticks\":\"\",\"zerolinecolor\":\"white\",\"gridwidth\":2},\"yaxis\":{\"backgroundcolor\":\"#E5ECF6\",\"gridcolor\":\"white\",\"linecolor\":\"white\",\"showbackground\":true,\"ticks\":\"\",\"zerolinecolor\":\"white\",\"gridwidth\":2},\"zaxis\":{\"backgroundcolor\":\"#E5ECF6\",\"gridcolor\":\"white\",\"linecolor\":\"white\",\"showbackground\":true,\"ticks\":\"\",\"zerolinecolor\":\"white\",\"gridwidth\":2}},\"shapedefaults\":{\"line\":{\"color\":\"#2a3f5f\"}},\"annotationdefaults\":{\"arrowcolor\":\"#2a3f5f\",\"arrowhead\":0,\"arrowwidth\":1},\"geo\":{\"bgcolor\":\"white\",\"landcolor\":\"#E5ECF6\",\"subunitcolor\":\"white\",\"showland\":true,\"showlakes\":true,\"lakecolor\":\"white\"},\"title\":{\"x\":0.05},\"mapbox\":{\"style\":\"light\"}}},\"geo\":{\"domain\":{\"x\":[0.0,1.0],\"y\":[0.0,1.0]},\"projection\":{\"type\":\"equirectangular\"},\"center\":{}},\"legend\":{\"title\":{\"text\":\"cluster3\"},\"tracegroupgap\":0},\"title\":{\"text\":\"Hydrogen Policy Clusters by Country (Based on reuslts from the clustering model)\"},\"margin\":{\"l\":0,\"r\":0,\"t\":40,\"b\":0},\"width\":1200,\"height\":700},                        {\"responsive\": true}                    ).then(function(){\n",
       "                            \n",
       "var gd = document.getElementById('842cb17b-e64b-4ed0-be5c-68ddc4e68985');\n",
       "var x = new MutationObserver(function (mutations, observer) {{\n",
       "        var display = window.getComputedStyle(gd).display;\n",
       "        if (!display || display === 'none') {{\n",
       "            console.log([gd, 'removed!']);\n",
       "            Plotly.purge(gd);\n",
       "            observer.disconnect();\n",
       "        }}\n",
       "}});\n",
       "\n",
       "// Listen for the removal of the full notebook cells\n",
       "var notebookContainer = gd.closest('#notebook-container');\n",
       "if (notebookContainer) {{\n",
       "    x.observe(notebookContainer, {childList: true});\n",
       "}}\n",
       "\n",
       "// Listen for the clearing of the current output cell\n",
       "var outputEl = gd.closest('.output');\n",
       "if (outputEl) {{\n",
       "    x.observe(outputEl, {childList: true});\n",
       "}}\n",
       "\n",
       "                        })                };                });            </script>        </div>"
      ]
     },
     "metadata": {},
     "output_type": "display_data"
    }
   ],
   "source": [
    "import plotly.express as px\n",
    "\n",
    "fig = px.choropleth(\n",
    "    gh_subset2,\n",
    "    locations=\"Country\",\n",
    "    locationmode=\"country names\",\n",
    "    color=\"cluster3\",  # Must be numeric or categorical\n",
    "    hover_name=\"Country\",\n",
    "    hover_data=[\"Instrument_type\"],\n",
    "    title=\"Hydrogen Policy Clusters by Country (Based on reuslts from the clustering model)\",\n",
    "    projection=\"equirectangular\"\n",
    ")\n",
    "\n",
    "fig.update_layout(\n",
    "    width=1200,\n",
    "    height=700,\n",
    "    margin=dict(l=0, r=0, t=40, b=0)\n",
    ")\n",
    "\n",
    "fig.show()"
   ]
  },
  {
   "cell_type": "code",
   "execution_count": 365,
   "id": "52e4ff5d-230e-46df-ad83-145937dc4687",
   "metadata": {},
   "outputs": [
    {
     "data": {
      "image/png": "[encoded data removed]",
      "text/plain": [
       "<Figure size 600x660 with 1 Axes>"
      ]
     },
     "metadata": {},
     "output_type": "display_data"
    },
    {
     "data": {
      "image/png": "[encoded data removed]",
      "text/plain": [
       "<Figure size 600x765 with 1 Axes>"
      ]
     },
     "metadata": {},
     "output_type": "display_data"
    },
    {
     "data": {
      "image/png": "[encoded data removed]",
      "text/plain": [
       "<Figure size 600x240 with 1 Axes>"
      ]
     },
     "metadata": {},
     "output_type": "display_data"
    }
   ],
   "source": [
    "import matplotlib.pyplot as plt\n",
    "import seaborn as sns\n",
    "\n",
    "# make sure seaborn uses a white background\n",
    "sns.set_style(\"white\")\n",
    "\n",
    "# loop over the distinct cluster IDs\n",
    "for c in sorted(gh_subset['cluster3'].unique()):\n",
    "    \n",
    "    # 1️⃣  keep only the rows that belong to this cluster\n",
    "    tmp = gh_subset[gh_subset['cluster3'] == c]\n",
    "    \n",
    "    # 2️⃣  build a country × instrument count table\n",
    "    #     (index = Country, columns = Instrument_type)\n",
    "    table = (tmp\n",
    "             .pivot_table(index='Country',\n",
    "                          columns='Instrument_type',\n",
    "                          values='cluster3',   # any column is fine, we only count rows\n",
    "                          aggfunc='size',\n",
    "                          fill_value=0)        # put 0 instead of NaN for empty cells\n",
    "             .sort_index())                   # optional: alphabetical countries\n",
    "    \n",
    "    # 3️⃣  draw the heat-map\n",
    "    plt.figure(figsize=(6, 0.35 * table.shape[0] + 1))  # auto-height: ~0.35 inch per row\n",
    "    sns.heatmap(table,\n",
    "                annot=True, fmt='d',          # show the counts as integers\n",
    "                cmap='YlGnBu',                # colour palette\n",
    "                linewidths=.4, linecolor='grey',  # thin grid lines\n",
    "                cbar=False)                   # no colour bar – numbers are explicit\n",
    "    \n",
    "    plt.title(f\"Cluster {c}: policy counts by instrument and country\")\n",
    "    plt.xlabel(\"\")                           # tidy up axes labels\n",
    "    plt.ylabel(\"\")\n",
    "    plt.tight_layout()\n",
    "    plt.show()\n"
   ]
  },
  {
   "cell_type": "code",
   "execution_count": 375,
   "id": "3dd39117-afc6-4888-b6c9-0f38cf4aeabb",
   "metadata": {},
   "outputs": [
    {
     "data": {
      "text/html": [
       "<div>\n",
       "<style scoped>\n",
       "    .dataframe tbody tr th:only-of-type {\n",
       "        vertical-align: middle;\n",
       "    }\n",
       "\n",
       "    .dataframe tbody tr th {\n",
       "        vertical-align: top;\n",
       "    }\n",
       "\n",
       "    .dataframe thead th {\n",
       "        text-align: right;\n",
       "    }\n",
       "</style>\n",
       "<table border=\"1\" class=\"dataframe\">\n",
       "  <thead>\n",
       "    <tr style=\"text-align: right;\">\n",
       "      <th></th>\n",
       "      <th>Country</th>\n",
       "      <th>Status</th>\n",
       "      <th>Sector</th>\n",
       "      <th>Programme</th>\n",
       "      <th>Instrument_type</th>\n",
       "      <th>Policy_side</th>\n",
       "      <th>Amount_USD_mn</th>\n",
       "      <th>Duration_yrs</th>\n",
       "      <th>cluster7</th>\n",
       "      <th>Description</th>\n",
       "    </tr>\n",
       "  </thead>\n",
       "  <tbody>\n",
       "    <tr>\n",
       "      <th>0</th>\n",
       "      <td>Australia</td>\n",
       "      <td>Announced</td>\n",
       "      <td>Electrolyser manufacturing</td>\n",
       "      <td>National Reconstruction Fund – H₂ equipment debt</td>\n",
       "      <td>Loan/guarantee</td>\n",
       "      <td>Push</td>\n",
       "      <td>2000.0</td>\n",
       "      <td>NaN</td>\n",
       "      <td>3.0</td>\n",
       "      <td>Finance in the form of debt, equity and guaran...</td>\n",
       "    </tr>\n",
       "    <tr>\n",
       "      <th>1</th>\n",
       "      <td>Australia</td>\n",
       "      <td>In force</td>\n",
       "      <td>Hubs</td>\n",
       "      <td>Regional Hydrogen Hubs Programme</td>\n",
       "      <td>Grant</td>\n",
       "      <td>Pull</td>\n",
       "      <td>324.0</td>\n",
       "      <td>NaN</td>\n",
       "      <td>1.0</td>\n",
       "      <td>AUD 490 m (USD 324 m) for seven H₂ hubs (up to...</td>\n",
       "    </tr>\n",
       "    <tr>\n",
       "      <th>2</th>\n",
       "      <td>Australia</td>\n",
       "      <td>Announced</td>\n",
       "      <td>Industry</td>\n",
       "      <td>Future Made in Australia Innovation Fund</td>\n",
       "      <td>Grant</td>\n",
       "      <td>Push</td>\n",
       "      <td>1200.0</td>\n",
       "      <td>20 years</td>\n",
       "      <td>5.0</td>\n",
       "      <td>Includes “green” metals and low-carbon liquid ...</td>\n",
       "    </tr>\n",
       "    <tr>\n",
       "      <th>3</th>\n",
       "      <td>Australia</td>\n",
       "      <td>Announced</td>\n",
       "      <td>Industry</td>\n",
       "      <td>Future Made in Australia programme</td>\n",
       "      <td>Tax credit</td>\n",
       "      <td>Push</td>\n",
       "      <td>10000.0</td>\n",
       "      <td>17 years</td>\n",
       "      <td>2.0</td>\n",
       "      <td>AUD 2/kg (USD 1.3/kg) incentive for up to 10 y...</td>\n",
       "    </tr>\n",
       "    <tr>\n",
       "      <th>4</th>\n",
       "      <td>Australia</td>\n",
       "      <td>In force</td>\n",
       "      <td>Industry</td>\n",
       "      <td>the Australian Headstart programme</td>\n",
       "      <td>CfD</td>\n",
       "      <td>Pull</td>\n",
       "      <td>2600.0</td>\n",
       "      <td>10 years</td>\n",
       "      <td>1.0</td>\n",
       "      <td>For projects with a cumulative electrolyser ca...</td>\n",
       "    </tr>\n",
       "  </tbody>\n",
       "</table>\n",
       "</div>"
      ],
      "text/plain": [
       "     Country     Status                       Sector  \\\n",
       "0  Australia  Announced  Electrolyser manufacturing    \n",
       "1  Australia   In force                         Hubs   \n",
       "2  Australia  Announced                     Industry   \n",
       "3  Australia  Announced                     Industry   \n",
       "4  Australia   In force                     Industry   \n",
       "\n",
       "                                          Programme Instrument_type  \\\n",
       "0  National Reconstruction Fund – H₂ equipment debt  Loan/guarantee   \n",
       "1                  Regional Hydrogen Hubs Programme           Grant   \n",
       "2          Future Made in Australia Innovation Fund           Grant   \n",
       "3                Future Made in Australia programme      Tax credit   \n",
       "4                the Australian Headstart programme             CfD   \n",
       "\n",
       "  Policy_side  Amount_USD_mn Duration_yrs  cluster7  \\\n",
       "0        Push         2000.0          NaN       3.0   \n",
       "1        Pull          324.0          NaN       1.0   \n",
       "2        Push         1200.0     20 years       5.0   \n",
       "3        Push        10000.0     17 years       2.0   \n",
       "4        Pull         2600.0    10 years        1.0   \n",
       "\n",
       "                                         Description  \n",
       "0  Finance in the form of debt, equity and guaran...  \n",
       "1  AUD 490 m (USD 324 m) for seven H₂ hubs (up to...  \n",
       "2  Includes “green” metals and low-carbon liquid ...  \n",
       "3  AUD 2/kg (USD 1.3/kg) incentive for up to 10 y...  \n",
       "4  For projects with a cumulative electrolyser ca...  "
      ]
     },
     "execution_count": 375,
     "metadata": {},
     "output_type": "execute_result"
    }
   ],
   "source": [
    "df = pd.read_excel('/Users/majdshamashan/Desktop/Thesis/green_h2_policy_2025(2).xlsx')\n",
    "df.head()"
   ]
  },
  {
   "cell_type": "code",
   "execution_count": 377,
   "id": "81d05c89-6567-45ed-a44b-cd6c347463b0",
   "metadata": {},
   "outputs": [
    {
     "data": {
      "text/html": [
       "<div>\n",
       "<style scoped>\n",
       "    .dataframe tbody tr th:only-of-type {\n",
       "        vertical-align: middle;\n",
       "    }\n",
       "\n",
       "    .dataframe tbody tr th {\n",
       "        vertical-align: top;\n",
       "    }\n",
       "\n",
       "    .dataframe thead th {\n",
       "        text-align: right;\n",
       "    }\n",
       "</style>\n",
       "<table border=\"1\" class=\"dataframe\">\n",
       "  <thead>\n",
       "    <tr style=\"text-align: right;\">\n",
       "      <th></th>\n",
       "      <th>Country</th>\n",
       "      <th>Status</th>\n",
       "      <th>Sector</th>\n",
       "      <th>Programme</th>\n",
       "      <th>Instrument_type</th>\n",
       "      <th>Policy_side</th>\n",
       "      <th>Amount_USD_mn</th>\n",
       "      <th>Duration_yrs</th>\n",
       "      <th>cluster7</th>\n",
       "      <th>Description</th>\n",
       "      <th>cluster3</th>\n",
       "    </tr>\n",
       "  </thead>\n",
       "  <tbody>\n",
       "    <tr>\n",
       "      <th>0</th>\n",
       "      <td>Australia</td>\n",
       "      <td>Announced</td>\n",
       "      <td>Electrolyser manufacturing</td>\n",
       "      <td>National Reconstruction Fund – H₂ equipment debt</td>\n",
       "      <td>Loan/guarantee</td>\n",
       "      <td>Push</td>\n",
       "      <td>2000.0</td>\n",
       "      <td>NaN</td>\n",
       "      <td>3.0</td>\n",
       "      <td>Finance in the form of debt, equity and guaran...</td>\n",
       "      <td>0</td>\n",
       "    </tr>\n",
       "    <tr>\n",
       "      <th>1</th>\n",
       "      <td>Australia</td>\n",
       "      <td>In force</td>\n",
       "      <td>Hubs</td>\n",
       "      <td>Regional Hydrogen Hubs Programme</td>\n",
       "      <td>Grant</td>\n",
       "      <td>Pull</td>\n",
       "      <td>324.0</td>\n",
       "      <td>NaN</td>\n",
       "      <td>1.0</td>\n",
       "      <td>AUD 490 m (USD 324 m) for seven H₂ hubs (up to...</td>\n",
       "      <td>0</td>\n",
       "    </tr>\n",
       "    <tr>\n",
       "      <th>2</th>\n",
       "      <td>Australia</td>\n",
       "      <td>Announced</td>\n",
       "      <td>Industry</td>\n",
       "      <td>Future Made in Australia Innovation Fund</td>\n",
       "      <td>Grant</td>\n",
       "      <td>Push</td>\n",
       "      <td>1200.0</td>\n",
       "      <td>20 years</td>\n",
       "      <td>5.0</td>\n",
       "      <td>Includes “green” metals and low-carbon liquid ...</td>\n",
       "      <td>1</td>\n",
       "    </tr>\n",
       "    <tr>\n",
       "      <th>3</th>\n",
       "      <td>Australia</td>\n",
       "      <td>Announced</td>\n",
       "      <td>Industry</td>\n",
       "      <td>Future Made in Australia programme</td>\n",
       "      <td>Tax credit</td>\n",
       "      <td>Push</td>\n",
       "      <td>10000.0</td>\n",
       "      <td>17 years</td>\n",
       "      <td>2.0</td>\n",
       "      <td>AUD 2/kg (USD 1.3/kg) incentive for up to 10 y...</td>\n",
       "      <td>2</td>\n",
       "    </tr>\n",
       "    <tr>\n",
       "      <th>4</th>\n",
       "      <td>Australia</td>\n",
       "      <td>In force</td>\n",
       "      <td>Industry</td>\n",
       "      <td>the Australian Headstart programme</td>\n",
       "      <td>CfD</td>\n",
       "      <td>Pull</td>\n",
       "      <td>2600.0</td>\n",
       "      <td>10 years</td>\n",
       "      <td>1.0</td>\n",
       "      <td>For projects with a cumulative electrolyser ca...</td>\n",
       "      <td>0</td>\n",
       "    </tr>\n",
       "    <tr>\n",
       "      <th>...</th>\n",
       "      <td>...</td>\n",
       "      <td>...</td>\n",
       "      <td>...</td>\n",
       "      <td>...</td>\n",
       "      <td>...</td>\n",
       "      <td>...</td>\n",
       "      <td>...</td>\n",
       "      <td>...</td>\n",
       "      <td>...</td>\n",
       "      <td>...</td>\n",
       "      <td>...</td>\n",
       "    </tr>\n",
       "    <tr>\n",
       "      <th>102</th>\n",
       "      <td>United States</td>\n",
       "      <td>In force</td>\n",
       "      <td>Hydrogen demonstration</td>\n",
       "      <td>NaN</td>\n",
       "      <td>Grant</td>\n",
       "      <td>Push</td>\n",
       "      <td>59.0</td>\n",
       "      <td>NaN</td>\n",
       "      <td>4.0</td>\n",
       "      <td>For R&amp;D projects for medium-heavy-duty fuellin...</td>\n",
       "      <td>1</td>\n",
       "    </tr>\n",
       "    <tr>\n",
       "      <th>103</th>\n",
       "      <td>United States</td>\n",
       "      <td>In force</td>\n",
       "      <td>Hydrogen production</td>\n",
       "      <td>IRA’s §45V clean‑hydrogen production tax credit</td>\n",
       "      <td>Tax credit</td>\n",
       "      <td>Push</td>\n",
       "      <td>20000.0</td>\n",
       "      <td>10 years</td>\n",
       "      <td>2.0</td>\n",
       "      <td>Provides up to USD 3 for every kilogram of ren...</td>\n",
       "      <td>2</td>\n",
       "    </tr>\n",
       "    <tr>\n",
       "      <th>104</th>\n",
       "      <td>United States</td>\n",
       "      <td>In force</td>\n",
       "      <td>Industry</td>\n",
       "      <td>Industrial Demonstrations Program</td>\n",
       "      <td>Grant</td>\n",
       "      <td>Push</td>\n",
       "      <td>1700.0</td>\n",
       "      <td>NaN</td>\n",
       "      <td>4.0</td>\n",
       "      <td>CAPEX grants across six projects</td>\n",
       "      <td>1</td>\n",
       "    </tr>\n",
       "    <tr>\n",
       "      <th>105</th>\n",
       "      <td>United States</td>\n",
       "      <td>In force</td>\n",
       "      <td>RD&amp;D funding</td>\n",
       "      <td>NaN</td>\n",
       "      <td>Grant</td>\n",
       "      <td>Push</td>\n",
       "      <td>430.0</td>\n",
       "      <td>NaN</td>\n",
       "      <td>4.0</td>\n",
       "      <td>An increase from USD 150 mn funding in 2021</td>\n",
       "      <td>1</td>\n",
       "    </tr>\n",
       "    <tr>\n",
       "      <th>106</th>\n",
       "      <td>United States</td>\n",
       "      <td>Announced</td>\n",
       "      <td>Road</td>\n",
       "      <td>NaN</td>\n",
       "      <td>Grant</td>\n",
       "      <td>Push</td>\n",
       "      <td>98.0</td>\n",
       "      <td>NaN</td>\n",
       "      <td>5.0</td>\n",
       "      <td>For HRS and research facilities</td>\n",
       "      <td>1</td>\n",
       "    </tr>\n",
       "  </tbody>\n",
       "</table>\n",
       "<p>107 rows × 11 columns</p>\n",
       "</div>"
      ],
      "text/plain": [
       "           Country     Status                       Sector  \\\n",
       "0        Australia  Announced  Electrolyser manufacturing    \n",
       "1        Australia   In force                         Hubs   \n",
       "2        Australia  Announced                     Industry   \n",
       "3        Australia  Announced                     Industry   \n",
       "4        Australia   In force                     Industry   \n",
       "..             ...        ...                          ...   \n",
       "102  United States   In force       Hydrogen demonstration   \n",
       "103  United States   In force         Hydrogen production    \n",
       "104  United States   In force                     Industry   \n",
       "105  United States   In force                 RD&D funding   \n",
       "106  United States  Announced                         Road   \n",
       "\n",
       "                                            Programme Instrument_type  \\\n",
       "0    National Reconstruction Fund – H₂ equipment debt  Loan/guarantee   \n",
       "1                    Regional Hydrogen Hubs Programme           Grant   \n",
       "2            Future Made in Australia Innovation Fund           Grant   \n",
       "3                  Future Made in Australia programme      Tax credit   \n",
       "4                  the Australian Headstart programme             CfD   \n",
       "..                                                ...             ...   \n",
       "102                                               NaN           Grant   \n",
       "103   IRA’s §45V clean‑hydrogen production tax credit      Tax credit   \n",
       "104                 Industrial Demonstrations Program           Grant   \n",
       "105                                               NaN           Grant   \n",
       "106                                               NaN           Grant   \n",
       "\n",
       "    Policy_side  Amount_USD_mn Duration_yrs  cluster7  \\\n",
       "0          Push         2000.0          NaN       3.0   \n",
       "1          Pull          324.0          NaN       1.0   \n",
       "2          Push         1200.0     20 years       5.0   \n",
       "3          Push        10000.0     17 years       2.0   \n",
       "4          Pull         2600.0    10 years        1.0   \n",
       "..          ...            ...          ...       ...   \n",
       "102        Push           59.0          NaN       4.0   \n",
       "103        Push        20000.0    10 years        2.0   \n",
       "104        Push         1700.0          NaN       4.0   \n",
       "105        Push          430.0          NaN       4.0   \n",
       "106        Push           98.0          NaN       5.0   \n",
       "\n",
       "                                           Description cluster3  \n",
       "0    Finance in the form of debt, equity and guaran...        0  \n",
       "1    AUD 490 m (USD 324 m) for seven H₂ hubs (up to...        0  \n",
       "2    Includes “green” metals and low-carbon liquid ...        1  \n",
       "3    AUD 2/kg (USD 1.3/kg) incentive for up to 10 y...        2  \n",
       "4    For projects with a cumulative electrolyser ca...        0  \n",
       "..                                                 ...      ...  \n",
       "102  For R&D projects for medium-heavy-duty fuellin...        1  \n",
       "103  Provides up to USD 3 for every kilogram of ren...        2  \n",
       "104                   CAPEX grants across six projects        1  \n",
       "105        An increase from USD 150 mn funding in 2021        1  \n",
       "106                    For HRS and research facilities        1  \n",
       "\n",
       "[107 rows x 11 columns]"
      ]
     },
     "execution_count": 377,
     "metadata": {},
     "output_type": "execute_result"
    }
   ],
   "source": [
    "keys_list = ['Country', 'Sector', 'Status', 'Programme', 'Instrument_type', 'Policy_side',\n",
    "            'Amount_USD_mn', 'Duration_yrs', 'Description']\n",
    "\n",
    "outer3 = pd.merge(df, gh_subset, on=keys_list, how='outer')\n",
    "outer3"
   ]
  },
  {
   "cell_type": "code",
   "execution_count": 385,
   "id": "25414e46-5e6d-4d74-8b44-7080865ec28a",
   "metadata": {},
   "outputs": [],
   "source": [
    "outer3['cluster3'] = outer3['cluster3'].astype('Int64')"
   ]
  },
  {
   "cell_type": "code",
   "execution_count": 387,
   "id": "393f2039-786d-4ff5-af23-2dd212c6dad6",
   "metadata": {},
   "outputs": [],
   "source": [
    "outer3 = outer3.iloc[:, [0,1,2,3,4,5,6,7,8,10,9]]"
   ]
  },
  {
   "cell_type": "code",
   "execution_count": 389,
   "id": "af04e983-ec49-4235-89e4-8cb8764172a6",
   "metadata": {},
   "outputs": [],
   "source": [
    "outer3.to_excel('/Users/majdshamashan/Desktop/Thesis/green_h2_policy_2025(3).xlsx', index=False)"
   ]
  },
  {
   "cell_type": "code",
   "execution_count": null,
   "id": "7a44d1d5-3700-4ec4-855e-363bea9a0eac",
   "metadata": {},
   "outputs": [],
   "source": []
  }
 ],
 "metadata": {
  "kernelspec": {
   "display_name": "Python 3 (ipykernel)",
   "language": "python",
   "name": "python3"
  },
  "language_info": {
   "codemirror_mode": {
    "name": "ipython",
    "version": 3
   },
   "file_extension": ".py",
   "mimetype": "text/x-python",
   "name": "python",
   "nbconvert_exporter": "python",
   "pygments_lexer": "ipython3",
   "version": "3.12.4"
  }
 },
 "nbformat": 4,
 "nbformat_minor": 5
}
