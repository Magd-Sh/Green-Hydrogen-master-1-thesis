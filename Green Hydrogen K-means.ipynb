{
 "cells": [
  {
   "cell_type": "code",
   "execution_count": 432,
   "id": "95dbc7d8-c78e-4637-b112-60725f01489e",
   "metadata": {},
   "outputs": [],
   "source": [
    "import pandas as pd"
   ]
  },
  {
   "cell_type": "code",
   "execution_count": 433,
   "id": "c7f3d131-2f5c-4fff-b93d-7e633e306110",
   "metadata": {},
   "outputs": [
    {
     "data": {
      "text/html": [
       "<div>\n",
       "<style scoped>\n",
       "    .dataframe tbody tr th:only-of-type {\n",
       "        vertical-align: middle;\n",
       "    }\n",
       "\n",
       "    .dataframe tbody tr th {\n",
       "        vertical-align: top;\n",
       "    }\n",
       "\n",
       "    .dataframe thead th {\n",
       "        text-align: right;\n",
       "    }\n",
       "</style>\n",
       "<table border=\"1\" class=\"dataframe\">\n",
       "  <thead>\n",
       "    <tr style=\"text-align: right;\">\n",
       "      <th></th>\n",
       "      <th>Country</th>\n",
       "      <th>Status</th>\n",
       "      <th>Sector</th>\n",
       "      <th>Programme</th>\n",
       "      <th>Instrument_type</th>\n",
       "      <th>Push_Pull</th>\n",
       "      <th>Amount_USD_mn</th>\n",
       "      <th>Description</th>\n",
       "    </tr>\n",
       "  </thead>\n",
       "  <tbody>\n",
       "    <tr>\n",
       "      <th>0</th>\n",
       "      <td>Australia</td>\n",
       "      <td>In force</td>\n",
       "      <td>Hubs</td>\n",
       "      <td>Regional Hydrogen Hubs Programme</td>\n",
       "      <td>Grant</td>\n",
       "      <td>Pull</td>\n",
       "      <td>324.0</td>\n",
       "      <td>AUD 490 m (USD 324 m) for seven H₂ hubs (up to...</td>\n",
       "    </tr>\n",
       "    <tr>\n",
       "      <th>1</th>\n",
       "      <td>Australia</td>\n",
       "      <td>Announced</td>\n",
       "      <td>Electrolyser manufacturing</td>\n",
       "      <td>National Reconstruction Fund – H₂ equipment debt</td>\n",
       "      <td>Loan/guarantee</td>\n",
       "      <td>Push</td>\n",
       "      <td>2000.0</td>\n",
       "      <td>Finance in the form of debt, equity and guaran...</td>\n",
       "    </tr>\n",
       "    <tr>\n",
       "      <th>2</th>\n",
       "      <td>Australia</td>\n",
       "      <td>Announced</td>\n",
       "      <td>Industry</td>\n",
       "      <td>Future Made in Australia programme</td>\n",
       "      <td>Tax credit</td>\n",
       "      <td>Push</td>\n",
       "      <td>10000.0</td>\n",
       "      <td>AUD 2/kg (USD 1.3/kg) incentive for up to 10 y...</td>\n",
       "    </tr>\n",
       "    <tr>\n",
       "      <th>3</th>\n",
       "      <td>Australia</td>\n",
       "      <td>In force</td>\n",
       "      <td>Industry</td>\n",
       "      <td>the Australian Headstart programme</td>\n",
       "      <td>CfD</td>\n",
       "      <td>Pull</td>\n",
       "      <td>2600.0</td>\n",
       "      <td>For projects with a cumulative electrolyser ca...</td>\n",
       "    </tr>\n",
       "    <tr>\n",
       "      <th>4</th>\n",
       "      <td>Australia</td>\n",
       "      <td>Announced</td>\n",
       "      <td>Industry</td>\n",
       "      <td>Future Made in Australia Innovation Fund</td>\n",
       "      <td>Grant</td>\n",
       "      <td>Push</td>\n",
       "      <td>1200.0</td>\n",
       "      <td>Includes “green” metals and low-carbon liquid ...</td>\n",
       "    </tr>\n",
       "    <tr>\n",
       "      <th>...</th>\n",
       "      <td>...</td>\n",
       "      <td>...</td>\n",
       "      <td>...</td>\n",
       "      <td>...</td>\n",
       "      <td>...</td>\n",
       "      <td>...</td>\n",
       "      <td>...</td>\n",
       "      <td>...</td>\n",
       "    </tr>\n",
       "    <tr>\n",
       "      <th>61</th>\n",
       "      <td>United States</td>\n",
       "      <td>In force</td>\n",
       "      <td>Electrolyser manufacturing</td>\n",
       "      <td>DOE Hydrogen Program</td>\n",
       "      <td>Grant</td>\n",
       "      <td>Push</td>\n",
       "      <td>750.0</td>\n",
       "      <td>For 52 hydrogen projects in manufacturing elec...</td>\n",
       "    </tr>\n",
       "    <tr>\n",
       "      <th>62</th>\n",
       "      <td>United States</td>\n",
       "      <td>In force</td>\n",
       "      <td>Electrolyser manufacturing</td>\n",
       "      <td>Qualifying Advanced Energy Project Credit (48C...</td>\n",
       "      <td>Tax credit</td>\n",
       "      <td>Push</td>\n",
       "      <td>326.0</td>\n",
       "      <td>For eight projects warded in 2024.</td>\n",
       "    </tr>\n",
       "    <tr>\n",
       "      <th>63</th>\n",
       "      <td>United States</td>\n",
       "      <td>In force</td>\n",
       "      <td>RD&amp;D funding</td>\n",
       "      <td>NaN</td>\n",
       "      <td>Grant</td>\n",
       "      <td>Push</td>\n",
       "      <td>430.0</td>\n",
       "      <td>An increase from USD 150 mn funding in 2021</td>\n",
       "    </tr>\n",
       "    <tr>\n",
       "      <th>64</th>\n",
       "      <td>United States</td>\n",
       "      <td>In force</td>\n",
       "      <td>Hydrogen demonstration</td>\n",
       "      <td>NaN</td>\n",
       "      <td>Grant</td>\n",
       "      <td>Push</td>\n",
       "      <td>99.5</td>\n",
       "      <td>For R&amp;D projects for heavy-duty refuelling sta...</td>\n",
       "    </tr>\n",
       "    <tr>\n",
       "      <th>65</th>\n",
       "      <td>United States</td>\n",
       "      <td>In force</td>\n",
       "      <td>Hydrogen production</td>\n",
       "      <td>IRA’s §45V clean‑hydrogen production tax credit</td>\n",
       "      <td>Tax credit</td>\n",
       "      <td>Push</td>\n",
       "      <td>100000.0</td>\n",
       "      <td>Provides up to USD 3 for every kilogram of ren...</td>\n",
       "    </tr>\n",
       "  </tbody>\n",
       "</table>\n",
       "<p>66 rows × 8 columns</p>\n",
       "</div>"
      ],
      "text/plain": [
       "          Country     Status                       Sector  \\\n",
       "0       Australia   In force                         Hubs   \n",
       "1       Australia  Announced  Electrolyser manufacturing    \n",
       "2       Australia  Announced                     Industry   \n",
       "3       Australia   In force                     Industry   \n",
       "4       Australia  Announced                     Industry   \n",
       "..            ...        ...                          ...   \n",
       "61  United States   In force  Electrolyser manufacturing    \n",
       "62  United States   In force  Electrolyser manufacturing    \n",
       "63  United States   In force                 RD&D funding   \n",
       "64  United States   In force       Hydrogen demonstration   \n",
       "65  United States   In force         Hydrogen production    \n",
       "\n",
       "                                            Programme Instrument_type  \\\n",
       "0                    Regional Hydrogen Hubs Programme           Grant   \n",
       "1    National Reconstruction Fund – H₂ equipment debt  Loan/guarantee   \n",
       "2                  Future Made in Australia programme      Tax credit   \n",
       "3                  the Australian Headstart programme             CfD   \n",
       "4            Future Made in Australia Innovation Fund           Grant   \n",
       "..                                                ...             ...   \n",
       "61                               DOE Hydrogen Program           Grant   \n",
       "62  Qualifying Advanced Energy Project Credit (48C...      Tax credit   \n",
       "63                                                NaN           Grant   \n",
       "64                                                NaN           Grant   \n",
       "65    IRA’s §45V clean‑hydrogen production tax credit      Tax credit   \n",
       "\n",
       "   Push_Pull  Amount_USD_mn                                        Description  \n",
       "0       Pull          324.0  AUD 490 m (USD 324 m) for seven H₂ hubs (up to...  \n",
       "1      Push          2000.0  Finance in the form of debt, equity and guaran...  \n",
       "2       Push        10000.0  AUD 2/kg (USD 1.3/kg) incentive for up to 10 y...  \n",
       "3       Pull         2600.0  For projects with a cumulative electrolyser ca...  \n",
       "4       Push         1200.0  Includes “green” metals and low-carbon liquid ...  \n",
       "..       ...            ...                                                ...  \n",
       "61      Push          750.0  For 52 hydrogen projects in manufacturing elec...  \n",
       "62      Push          326.0                For eight projects warded in 2024.   \n",
       "63      Push          430.0        An increase from USD 150 mn funding in 2021  \n",
       "64     Push            99.5  For R&D projects for heavy-duty refuelling sta...  \n",
       "65      Push       100000.0  Provides up to USD 3 for every kilogram of ren...  \n",
       "\n",
       "[66 rows x 8 columns]"
      ]
     },
     "execution_count": 433,
     "metadata": {},
     "output_type": "execute_result"
    }
   ],
   "source": [
    "df = pd.read_excel('/Users/majdshamashan/Desktop/Thesis/green_h2_policy_2024.xlsx')\n",
    "df"
   ]
  },
  {
   "cell_type": "code",
   "execution_count": 434,
   "id": "8166a2b8-064e-4184-9315-7b4cffe83c0f",
   "metadata": {},
   "outputs": [
    {
     "name": "stdout",
     "output_type": "stream",
     "text": [
      "<class 'pandas.core.frame.DataFrame'>\n",
      "RangeIndex: 66 entries, 0 to 65\n",
      "Data columns (total 8 columns):\n",
      " #   Column           Non-Null Count  Dtype  \n",
      "---  ------           --------------  -----  \n",
      " 0   Country          66 non-null     object \n",
      " 1   Status           66 non-null     object \n",
      " 2   Sector           66 non-null     object \n",
      " 3   Programme        39 non-null     object \n",
      " 4   Instrument_type  66 non-null     object \n",
      " 5   Push_Pull        66 non-null     object \n",
      " 6   Amount_USD_mn    66 non-null     float64\n",
      " 7   Description      66 non-null     object \n",
      "dtypes: float64(1), object(7)\n",
      "memory usage: 4.3+ KB\n"
     ]
    }
   ],
   "source": [
    "df.info()"
   ]
  },
  {
   "cell_type": "code",
   "execution_count": 435,
   "id": "1fe760f4-3577-4eac-a18e-8c5641bf695c",
   "metadata": {},
   "outputs": [
    {
     "data": {
      "text/html": [
       "<div>\n",
       "<style scoped>\n",
       "    .dataframe tbody tr th:only-of-type {\n",
       "        vertical-align: middle;\n",
       "    }\n",
       "\n",
       "    .dataframe tbody tr th {\n",
       "        vertical-align: top;\n",
       "    }\n",
       "\n",
       "    .dataframe thead th {\n",
       "        text-align: right;\n",
       "    }\n",
       "</style>\n",
       "<table border=\"1\" class=\"dataframe\">\n",
       "  <thead>\n",
       "    <tr style=\"text-align: right;\">\n",
       "      <th></th>\n",
       "      <th>Amount_USD_mn</th>\n",
       "    </tr>\n",
       "  </thead>\n",
       "  <tbody>\n",
       "    <tr>\n",
       "      <th>count</th>\n",
       "      <td>66.000000</td>\n",
       "    </tr>\n",
       "    <tr>\n",
       "      <th>mean</th>\n",
       "      <td>3381.765152</td>\n",
       "    </tr>\n",
       "    <tr>\n",
       "      <th>std</th>\n",
       "      <td>12561.465186</td>\n",
       "    </tr>\n",
       "    <tr>\n",
       "      <th>min</th>\n",
       "      <td>1.000000</td>\n",
       "    </tr>\n",
       "    <tr>\n",
       "      <th>25%</th>\n",
       "      <td>217.500000</td>\n",
       "    </tr>\n",
       "    <tr>\n",
       "      <th>50%</th>\n",
       "      <td>597.000000</td>\n",
       "    </tr>\n",
       "    <tr>\n",
       "      <th>75%</th>\n",
       "      <td>1650.000000</td>\n",
       "    </tr>\n",
       "    <tr>\n",
       "      <th>max</th>\n",
       "      <td>100000.000000</td>\n",
       "    </tr>\n",
       "  </tbody>\n",
       "</table>\n",
       "</div>"
      ],
      "text/plain": [
       "       Amount_USD_mn\n",
       "count      66.000000\n",
       "mean     3381.765152\n",
       "std     12561.465186\n",
       "min         1.000000\n",
       "25%       217.500000\n",
       "50%       597.000000\n",
       "75%      1650.000000\n",
       "max    100000.000000"
      ]
     },
     "execution_count": 435,
     "metadata": {},
     "output_type": "execute_result"
    }
   ],
   "source": [
    "df.describe()"
   ]
  },
  {
   "cell_type": "code",
   "execution_count": 436,
   "id": "4309d549-1713-4add-8c99-d0bd53f0f29c",
   "metadata": {},
   "outputs": [
    {
     "data": {
      "text/plain": [
       "Instrument_type\n",
       "Grant                 42\n",
       "Competitve bidding     9\n",
       "CfD                    6\n",
       "Tax credit             5\n",
       "Loan/guarantee         4\n",
       "Name: count, dtype: int64"
      ]
     },
     "execution_count": 436,
     "metadata": {},
     "output_type": "execute_result"
    }
   ],
   "source": [
    "df['Instrument_type'].value_counts()"
   ]
  },
  {
   "cell_type": "code",
   "execution_count": 437,
   "id": "edee463c-855e-4139-a1a9-995dfab8c2ed",
   "metadata": {},
   "outputs": [],
   "source": [
    "import numpy as np\n",
    "import pandas as pd\n",
    "\n",
    "# Important tools for modeling and evaluation.\n",
    "from sklearn.cluster import KMeans\n",
    "from sklearn.metrics import silhouette_score\n",
    "from sklearn.preprocessing import StandardScaler\n",
    "\n",
    "# Import visualization packages.\n",
    "import matplotlib.pyplot as plt\n",
    "import seaborn as sns"
   ]
  },
  {
   "cell_type": "code",
   "execution_count": 438,
   "id": "b4f6565c-3671-47a0-a82b-d2203b5c6d84",
   "metadata": {},
   "outputs": [
    {
     "data": {
      "text/plain": [
       "array(['Grant', 'Loan/guarantee', 'Tax credit', 'CfD',\n",
       "       'Competitve bidding'], dtype=object)"
      ]
     },
     "execution_count": 438,
     "metadata": {},
     "output_type": "execute_result"
    }
   ],
   "source": [
    "df['Instrument_type'].unique()"
   ]
  },
  {
   "cell_type": "code",
   "execution_count": 439,
   "id": "53df50d2-2757-481e-8b9e-f2fc23fe6ebf",
   "metadata": {},
   "outputs": [
    {
     "data": {
      "text/plain": [
       "Instrument_type\n",
       "Grant                 42\n",
       "Competitve bidding     9\n",
       "CfD                    6\n",
       "Tax credit             5\n",
       "Loan/guarantee         4\n",
       "Name: count, dtype: int64"
      ]
     },
     "execution_count": 439,
     "metadata": {},
     "output_type": "execute_result"
    }
   ],
   "source": [
    "df['Instrument_type'].value_counts(dropna=False)"
   ]
  },
  {
   "cell_type": "code",
   "execution_count": 440,
   "id": "d517623b-96eb-486f-adc2-78652ac508dd",
   "metadata": {},
   "outputs": [],
   "source": [
    "gh = df"
   ]
  },
  {
   "cell_type": "code",
   "execution_count": 441,
   "id": "0a3f3866-31c9-42a4-ad52-341bfa8032b6",
   "metadata": {},
   "outputs": [
    {
     "data": {
      "text/plain": [
       "Country             0\n",
       "Status              0\n",
       "Sector              0\n",
       "Programme          27\n",
       "Instrument_type     0\n",
       "Push_Pull           0\n",
       "Amount_USD_mn       0\n",
       "Description         0\n",
       "dtype: int64"
      ]
     },
     "execution_count": 441,
     "metadata": {},
     "output_type": "execute_result"
    }
   ],
   "source": [
    "gh.isnull().sum()"
   ]
  },
  {
   "cell_type": "code",
   "execution_count": 442,
   "id": "d9f5e84e-a359-46ab-9f33-ddc8d55b441d",
   "metadata": {},
   "outputs": [],
   "source": [
    "gh = gh.rename(columns={'Push_Pull':'Policy_side'})"
   ]
  },
  {
   "cell_type": "code",
   "execution_count": 443,
   "id": "050ff2d1-7902-465a-a15a-abb007ad017f",
   "metadata": {},
   "outputs": [
    {
     "data": {
      "text/html": [
       "<div>\n",
       "<style scoped>\n",
       "    .dataframe tbody tr th:only-of-type {\n",
       "        vertical-align: middle;\n",
       "    }\n",
       "\n",
       "    .dataframe tbody tr th {\n",
       "        vertical-align: top;\n",
       "    }\n",
       "\n",
       "    .dataframe thead th {\n",
       "        text-align: right;\n",
       "    }\n",
       "</style>\n",
       "<table border=\"1\" class=\"dataframe\">\n",
       "  <thead>\n",
       "    <tr style=\"text-align: right;\">\n",
       "      <th></th>\n",
       "      <th>Country</th>\n",
       "      <th>Status</th>\n",
       "      <th>Sector</th>\n",
       "      <th>Programme</th>\n",
       "      <th>Instrument_type</th>\n",
       "      <th>Policy_side</th>\n",
       "      <th>Amount_USD_mn</th>\n",
       "      <th>Description</th>\n",
       "    </tr>\n",
       "  </thead>\n",
       "  <tbody>\n",
       "    <tr>\n",
       "      <th>0</th>\n",
       "      <td>Australia</td>\n",
       "      <td>In force</td>\n",
       "      <td>Hubs</td>\n",
       "      <td>Regional Hydrogen Hubs Programme</td>\n",
       "      <td>Grant</td>\n",
       "      <td>Pull</td>\n",
       "      <td>324.0</td>\n",
       "      <td>AUD 490 m (USD 324 m) for seven H₂ hubs (up to...</td>\n",
       "    </tr>\n",
       "    <tr>\n",
       "      <th>1</th>\n",
       "      <td>Australia</td>\n",
       "      <td>Announced</td>\n",
       "      <td>Electrolyser manufacturing</td>\n",
       "      <td>National Reconstruction Fund – H₂ equipment debt</td>\n",
       "      <td>Loan/guarantee</td>\n",
       "      <td>Push</td>\n",
       "      <td>2000.0</td>\n",
       "      <td>Finance in the form of debt, equity and guaran...</td>\n",
       "    </tr>\n",
       "    <tr>\n",
       "      <th>2</th>\n",
       "      <td>Australia</td>\n",
       "      <td>Announced</td>\n",
       "      <td>Industry</td>\n",
       "      <td>Future Made in Australia programme</td>\n",
       "      <td>Tax credit</td>\n",
       "      <td>Push</td>\n",
       "      <td>10000.0</td>\n",
       "      <td>AUD 2/kg (USD 1.3/kg) incentive for up to 10 y...</td>\n",
       "    </tr>\n",
       "    <tr>\n",
       "      <th>3</th>\n",
       "      <td>Australia</td>\n",
       "      <td>In force</td>\n",
       "      <td>Industry</td>\n",
       "      <td>the Australian Headstart programme</td>\n",
       "      <td>CfD</td>\n",
       "      <td>Pull</td>\n",
       "      <td>2600.0</td>\n",
       "      <td>For projects with a cumulative electrolyser ca...</td>\n",
       "    </tr>\n",
       "    <tr>\n",
       "      <th>4</th>\n",
       "      <td>Australia</td>\n",
       "      <td>Announced</td>\n",
       "      <td>Industry</td>\n",
       "      <td>Future Made in Australia Innovation Fund</td>\n",
       "      <td>Grant</td>\n",
       "      <td>Push</td>\n",
       "      <td>1200.0</td>\n",
       "      <td>Includes “green” metals and low-carbon liquid ...</td>\n",
       "    </tr>\n",
       "  </tbody>\n",
       "</table>\n",
       "</div>"
      ],
      "text/plain": [
       "     Country     Status                       Sector  \\\n",
       "0  Australia   In force                         Hubs   \n",
       "1  Australia  Announced  Electrolyser manufacturing    \n",
       "2  Australia  Announced                     Industry   \n",
       "3  Australia   In force                     Industry   \n",
       "4  Australia  Announced                     Industry   \n",
       "\n",
       "                                          Programme Instrument_type  \\\n",
       "0                  Regional Hydrogen Hubs Programme           Grant   \n",
       "1  National Reconstruction Fund – H₂ equipment debt  Loan/guarantee   \n",
       "2                Future Made in Australia programme      Tax credit   \n",
       "3                the Australian Headstart programme             CfD   \n",
       "4          Future Made in Australia Innovation Fund           Grant   \n",
       "\n",
       "  Policy_side  Amount_USD_mn  \\\n",
       "0        Pull          324.0   \n",
       "1       Push          2000.0   \n",
       "2        Push        10000.0   \n",
       "3        Pull         2600.0   \n",
       "4        Push         1200.0   \n",
       "\n",
       "                                         Description  \n",
       "0  AUD 490 m (USD 324 m) for seven H₂ hubs (up to...  \n",
       "1  Finance in the form of debt, equity and guaran...  \n",
       "2  AUD 2/kg (USD 1.3/kg) incentive for up to 10 y...  \n",
       "3  For projects with a cumulative electrolyser ca...  \n",
       "4  Includes “green” metals and low-carbon liquid ...  "
      ]
     },
     "execution_count": 443,
     "metadata": {},
     "output_type": "execute_result"
    }
   ],
   "source": [
    "gh.head()"
   ]
  },
  {
   "cell_type": "code",
   "execution_count": 444,
   "id": "446d9076-bf41-45c9-821e-769eb9fb277a",
   "metadata": {},
   "outputs": [
    {
     "data": {
      "text/plain": [
       "array(['In force', 'Announced', 'In force '], dtype=object)"
      ]
     },
     "execution_count": 444,
     "metadata": {},
     "output_type": "execute_result"
    }
   ],
   "source": [
    "gh['Status'].unique()"
   ]
  },
  {
   "cell_type": "code",
   "execution_count": 445,
   "id": "92d8d05c-cad9-4dc0-bca8-fabf467a09d5",
   "metadata": {},
   "outputs": [],
   "source": [
    "gh['Status'] = gh['Status'].replace({'In force ':'In force'})"
   ]
  },
  {
   "cell_type": "code",
   "execution_count": 446,
   "id": "df7fd6eb-d243-4661-b1ce-cf05504366df",
   "metadata": {},
   "outputs": [
    {
     "data": {
      "text/plain": [
       "array(['Pull', 'Push ', 'Push'], dtype=object)"
      ]
     },
     "execution_count": 446,
     "metadata": {},
     "output_type": "execute_result"
    }
   ],
   "source": [
    "gh['Policy_side'].unique()"
   ]
  },
  {
   "cell_type": "code",
   "execution_count": 447,
   "id": "46989e65-3a64-4397-b6f3-8b7cfa62bd57",
   "metadata": {},
   "outputs": [],
   "source": [
    "gh['Policy_side'] = gh['Policy_side'].replace({'Push ':'Push'})"
   ]
  },
  {
   "cell_type": "code",
   "execution_count": 448,
   "id": "bad228d8-c82b-4bf1-a336-cd2ecf7ac840",
   "metadata": {},
   "outputs": [
    {
     "data": {
      "text/plain": [
       "array(['Pull', 'Push'], dtype=object)"
      ]
     },
     "execution_count": 448,
     "metadata": {},
     "output_type": "execute_result"
    }
   ],
   "source": [
    "gh['Policy_side'].unique()"
   ]
  },
  {
   "cell_type": "code",
   "execution_count": 449,
   "id": "b4f00233-f208-4502-8866-b854a7399039",
   "metadata": {},
   "outputs": [
    {
     "data": {
      "text/plain": [
       "array(['Grant', 'Loan/guarantee', 'Tax credit', 'CfD',\n",
       "       'Competitve bidding'], dtype=object)"
      ]
     },
     "execution_count": 449,
     "metadata": {},
     "output_type": "execute_result"
    }
   ],
   "source": [
    "gh['Instrument_type'].unique()"
   ]
  },
  {
   "cell_type": "code",
   "execution_count": 450,
   "id": "2845d401-46db-4509-ac97-42b897fd7b4f",
   "metadata": {},
   "outputs": [],
   "source": [
    "gh_subset = pd.get_dummies(gh, drop_first=True, columns=['Status', 'Policy_side'])"
   ]
  },
  {
   "cell_type": "code",
   "execution_count": 451,
   "id": "bb5e8b58-f71c-44db-9d41-d40dec063459",
   "metadata": {},
   "outputs": [
    {
     "data": {
      "text/html": [
       "<div>\n",
       "<style scoped>\n",
       "    .dataframe tbody tr th:only-of-type {\n",
       "        vertical-align: middle;\n",
       "    }\n",
       "\n",
       "    .dataframe tbody tr th {\n",
       "        vertical-align: top;\n",
       "    }\n",
       "\n",
       "    .dataframe thead th {\n",
       "        text-align: right;\n",
       "    }\n",
       "</style>\n",
       "<table border=\"1\" class=\"dataframe\">\n",
       "  <thead>\n",
       "    <tr style=\"text-align: right;\">\n",
       "      <th></th>\n",
       "      <th>Country</th>\n",
       "      <th>Sector</th>\n",
       "      <th>Programme</th>\n",
       "      <th>Instrument_type</th>\n",
       "      <th>Amount_USD_mn</th>\n",
       "      <th>Description</th>\n",
       "      <th>Status_In force</th>\n",
       "      <th>Policy_side_Push</th>\n",
       "    </tr>\n",
       "  </thead>\n",
       "  <tbody>\n",
       "    <tr>\n",
       "      <th>0</th>\n",
       "      <td>Australia</td>\n",
       "      <td>Hubs</td>\n",
       "      <td>Regional Hydrogen Hubs Programme</td>\n",
       "      <td>Grant</td>\n",
       "      <td>324.0</td>\n",
       "      <td>AUD 490 m (USD 324 m) for seven H₂ hubs (up to...</td>\n",
       "      <td>True</td>\n",
       "      <td>False</td>\n",
       "    </tr>\n",
       "    <tr>\n",
       "      <th>1</th>\n",
       "      <td>Australia</td>\n",
       "      <td>Electrolyser manufacturing</td>\n",
       "      <td>National Reconstruction Fund – H₂ equipment debt</td>\n",
       "      <td>Loan/guarantee</td>\n",
       "      <td>2000.0</td>\n",
       "      <td>Finance in the form of debt, equity and guaran...</td>\n",
       "      <td>False</td>\n",
       "      <td>True</td>\n",
       "    </tr>\n",
       "    <tr>\n",
       "      <th>2</th>\n",
       "      <td>Australia</td>\n",
       "      <td>Industry</td>\n",
       "      <td>Future Made in Australia programme</td>\n",
       "      <td>Tax credit</td>\n",
       "      <td>10000.0</td>\n",
       "      <td>AUD 2/kg (USD 1.3/kg) incentive for up to 10 y...</td>\n",
       "      <td>False</td>\n",
       "      <td>True</td>\n",
       "    </tr>\n",
       "    <tr>\n",
       "      <th>3</th>\n",
       "      <td>Australia</td>\n",
       "      <td>Industry</td>\n",
       "      <td>the Australian Headstart programme</td>\n",
       "      <td>CfD</td>\n",
       "      <td>2600.0</td>\n",
       "      <td>For projects with a cumulative electrolyser ca...</td>\n",
       "      <td>True</td>\n",
       "      <td>False</td>\n",
       "    </tr>\n",
       "    <tr>\n",
       "      <th>4</th>\n",
       "      <td>Australia</td>\n",
       "      <td>Industry</td>\n",
       "      <td>Future Made in Australia Innovation Fund</td>\n",
       "      <td>Grant</td>\n",
       "      <td>1200.0</td>\n",
       "      <td>Includes “green” metals and low-carbon liquid ...</td>\n",
       "      <td>False</td>\n",
       "      <td>True</td>\n",
       "    </tr>\n",
       "  </tbody>\n",
       "</table>\n",
       "</div>"
      ],
      "text/plain": [
       "     Country                       Sector  \\\n",
       "0  Australia                         Hubs   \n",
       "1  Australia  Electrolyser manufacturing    \n",
       "2  Australia                     Industry   \n",
       "3  Australia                     Industry   \n",
       "4  Australia                     Industry   \n",
       "\n",
       "                                          Programme Instrument_type  \\\n",
       "0                  Regional Hydrogen Hubs Programme           Grant   \n",
       "1  National Reconstruction Fund – H₂ equipment debt  Loan/guarantee   \n",
       "2                Future Made in Australia programme      Tax credit   \n",
       "3                the Australian Headstart programme             CfD   \n",
       "4          Future Made in Australia Innovation Fund           Grant   \n",
       "\n",
       "   Amount_USD_mn                                        Description  \\\n",
       "0          324.0  AUD 490 m (USD 324 m) for seven H₂ hubs (up to...   \n",
       "1         2000.0  Finance in the form of debt, equity and guaran...   \n",
       "2        10000.0  AUD 2/kg (USD 1.3/kg) incentive for up to 10 y...   \n",
       "3         2600.0  For projects with a cumulative electrolyser ca...   \n",
       "4         1200.0  Includes “green” metals and low-carbon liquid ...   \n",
       "\n",
       "   Status_In force  Policy_side_Push  \n",
       "0             True             False  \n",
       "1            False              True  \n",
       "2            False              True  \n",
       "3             True             False  \n",
       "4            False              True  "
      ]
     },
     "execution_count": 451,
     "metadata": {},
     "output_type": "execute_result"
    }
   ],
   "source": [
    "gh_subset.head()"
   ]
  },
  {
   "cell_type": "code",
   "execution_count": 452,
   "id": "7d19a1f9-bd7c-42f5-acb3-3580544f8ef2",
   "metadata": {},
   "outputs": [],
   "source": [
    "gh_subset['Status_In force'] = gh_subset['Status_In force'].astype(int)\n",
    "gh_subset['Policy_side_Push'] = gh_subset['Policy_side_Push'].astype(int)\n"
   ]
  },
  {
   "cell_type": "code",
   "execution_count": 453,
   "id": "21f25f50-f38a-4430-bb73-ab569b66876d",
   "metadata": {},
   "outputs": [
    {
     "data": {
      "text/html": [
       "<div>\n",
       "<style scoped>\n",
       "    .dataframe tbody tr th:only-of-type {\n",
       "        vertical-align: middle;\n",
       "    }\n",
       "\n",
       "    .dataframe tbody tr th {\n",
       "        vertical-align: top;\n",
       "    }\n",
       "\n",
       "    .dataframe thead th {\n",
       "        text-align: right;\n",
       "    }\n",
       "</style>\n",
       "<table border=\"1\" class=\"dataframe\">\n",
       "  <thead>\n",
       "    <tr style=\"text-align: right;\">\n",
       "      <th></th>\n",
       "      <th>Country</th>\n",
       "      <th>Sector</th>\n",
       "      <th>Programme</th>\n",
       "      <th>Instrument_type</th>\n",
       "      <th>Amount_USD_mn</th>\n",
       "      <th>Description</th>\n",
       "      <th>Status_In force</th>\n",
       "      <th>Policy_side_Push</th>\n",
       "    </tr>\n",
       "  </thead>\n",
       "  <tbody>\n",
       "    <tr>\n",
       "      <th>0</th>\n",
       "      <td>Australia</td>\n",
       "      <td>Hubs</td>\n",
       "      <td>Regional Hydrogen Hubs Programme</td>\n",
       "      <td>Grant</td>\n",
       "      <td>324.0</td>\n",
       "      <td>AUD 490 m (USD 324 m) for seven H₂ hubs (up to...</td>\n",
       "      <td>1</td>\n",
       "      <td>0</td>\n",
       "    </tr>\n",
       "    <tr>\n",
       "      <th>1</th>\n",
       "      <td>Australia</td>\n",
       "      <td>Electrolyser manufacturing</td>\n",
       "      <td>National Reconstruction Fund – H₂ equipment debt</td>\n",
       "      <td>Loan/guarantee</td>\n",
       "      <td>2000.0</td>\n",
       "      <td>Finance in the form of debt, equity and guaran...</td>\n",
       "      <td>0</td>\n",
       "      <td>1</td>\n",
       "    </tr>\n",
       "    <tr>\n",
       "      <th>2</th>\n",
       "      <td>Australia</td>\n",
       "      <td>Industry</td>\n",
       "      <td>Future Made in Australia programme</td>\n",
       "      <td>Tax credit</td>\n",
       "      <td>10000.0</td>\n",
       "      <td>AUD 2/kg (USD 1.3/kg) incentive for up to 10 y...</td>\n",
       "      <td>0</td>\n",
       "      <td>1</td>\n",
       "    </tr>\n",
       "    <tr>\n",
       "      <th>3</th>\n",
       "      <td>Australia</td>\n",
       "      <td>Industry</td>\n",
       "      <td>the Australian Headstart programme</td>\n",
       "      <td>CfD</td>\n",
       "      <td>2600.0</td>\n",
       "      <td>For projects with a cumulative electrolyser ca...</td>\n",
       "      <td>1</td>\n",
       "      <td>0</td>\n",
       "    </tr>\n",
       "    <tr>\n",
       "      <th>4</th>\n",
       "      <td>Australia</td>\n",
       "      <td>Industry</td>\n",
       "      <td>Future Made in Australia Innovation Fund</td>\n",
       "      <td>Grant</td>\n",
       "      <td>1200.0</td>\n",
       "      <td>Includes “green” metals and low-carbon liquid ...</td>\n",
       "      <td>0</td>\n",
       "      <td>1</td>\n",
       "    </tr>\n",
       "  </tbody>\n",
       "</table>\n",
       "</div>"
      ],
      "text/plain": [
       "     Country                       Sector  \\\n",
       "0  Australia                         Hubs   \n",
       "1  Australia  Electrolyser manufacturing    \n",
       "2  Australia                     Industry   \n",
       "3  Australia                     Industry   \n",
       "4  Australia                     Industry   \n",
       "\n",
       "                                          Programme Instrument_type  \\\n",
       "0                  Regional Hydrogen Hubs Programme           Grant   \n",
       "1  National Reconstruction Fund – H₂ equipment debt  Loan/guarantee   \n",
       "2                Future Made in Australia programme      Tax credit   \n",
       "3                the Australian Headstart programme             CfD   \n",
       "4          Future Made in Australia Innovation Fund           Grant   \n",
       "\n",
       "   Amount_USD_mn                                        Description  \\\n",
       "0          324.0  AUD 490 m (USD 324 m) for seven H₂ hubs (up to...   \n",
       "1         2000.0  Finance in the form of debt, equity and guaran...   \n",
       "2        10000.0  AUD 2/kg (USD 1.3/kg) incentive for up to 10 y...   \n",
       "3         2600.0  For projects with a cumulative electrolyser ca...   \n",
       "4         1200.0  Includes “green” metals and low-carbon liquid ...   \n",
       "\n",
       "   Status_In force  Policy_side_Push  \n",
       "0                1                 0  \n",
       "1                0                 1  \n",
       "2                0                 1  \n",
       "3                1                 0  \n",
       "4                0                 1  "
      ]
     },
     "execution_count": 453,
     "metadata": {},
     "output_type": "execute_result"
    }
   ],
   "source": [
    "gh_subset.head()"
   ]
  },
  {
   "cell_type": "code",
   "execution_count": 454,
   "id": "69f214ad-2ab5-4aaf-b018-e06c3134f659",
   "metadata": {},
   "outputs": [
    {
     "data": {
      "text/html": [
       "<div>\n",
       "<style scoped>\n",
       "    .dataframe tbody tr th:only-of-type {\n",
       "        vertical-align: middle;\n",
       "    }\n",
       "\n",
       "    .dataframe tbody tr th {\n",
       "        vertical-align: top;\n",
       "    }\n",
       "\n",
       "    .dataframe thead th {\n",
       "        text-align: right;\n",
       "    }\n",
       "</style>\n",
       "<table border=\"1\" class=\"dataframe\">\n",
       "  <thead>\n",
       "    <tr style=\"text-align: right;\">\n",
       "      <th></th>\n",
       "      <th>Country</th>\n",
       "      <th>Status</th>\n",
       "      <th>Sector</th>\n",
       "      <th>Programme</th>\n",
       "      <th>Instrument_type</th>\n",
       "      <th>Policy_side</th>\n",
       "      <th>Amount_USD_mn</th>\n",
       "      <th>Description</th>\n",
       "    </tr>\n",
       "  </thead>\n",
       "  <tbody>\n",
       "    <tr>\n",
       "      <th>0</th>\n",
       "      <td>Australia</td>\n",
       "      <td>In force</td>\n",
       "      <td>Hubs</td>\n",
       "      <td>Regional Hydrogen Hubs Programme</td>\n",
       "      <td>Grant</td>\n",
       "      <td>Pull</td>\n",
       "      <td>324.0</td>\n",
       "      <td>AUD 490 m (USD 324 m) for seven H₂ hubs (up to...</td>\n",
       "    </tr>\n",
       "    <tr>\n",
       "      <th>1</th>\n",
       "      <td>Australia</td>\n",
       "      <td>Announced</td>\n",
       "      <td>Electrolyser manufacturing</td>\n",
       "      <td>National Reconstruction Fund – H₂ equipment debt</td>\n",
       "      <td>Loan/guarantee</td>\n",
       "      <td>Push</td>\n",
       "      <td>2000.0</td>\n",
       "      <td>Finance in the form of debt, equity and guaran...</td>\n",
       "    </tr>\n",
       "    <tr>\n",
       "      <th>2</th>\n",
       "      <td>Australia</td>\n",
       "      <td>Announced</td>\n",
       "      <td>Industry</td>\n",
       "      <td>Future Made in Australia programme</td>\n",
       "      <td>Tax credit</td>\n",
       "      <td>Push</td>\n",
       "      <td>10000.0</td>\n",
       "      <td>AUD 2/kg (USD 1.3/kg) incentive for up to 10 y...</td>\n",
       "    </tr>\n",
       "    <tr>\n",
       "      <th>3</th>\n",
       "      <td>Australia</td>\n",
       "      <td>In force</td>\n",
       "      <td>Industry</td>\n",
       "      <td>the Australian Headstart programme</td>\n",
       "      <td>CfD</td>\n",
       "      <td>Pull</td>\n",
       "      <td>2600.0</td>\n",
       "      <td>For projects with a cumulative electrolyser ca...</td>\n",
       "    </tr>\n",
       "    <tr>\n",
       "      <th>4</th>\n",
       "      <td>Australia</td>\n",
       "      <td>Announced</td>\n",
       "      <td>Industry</td>\n",
       "      <td>Future Made in Australia Innovation Fund</td>\n",
       "      <td>Grant</td>\n",
       "      <td>Push</td>\n",
       "      <td>1200.0</td>\n",
       "      <td>Includes “green” metals and low-carbon liquid ...</td>\n",
       "    </tr>\n",
       "  </tbody>\n",
       "</table>\n",
       "</div>"
      ],
      "text/plain": [
       "     Country     Status                       Sector  \\\n",
       "0  Australia   In force                         Hubs   \n",
       "1  Australia  Announced  Electrolyser manufacturing    \n",
       "2  Australia  Announced                     Industry   \n",
       "3  Australia   In force                     Industry   \n",
       "4  Australia  Announced                     Industry   \n",
       "\n",
       "                                          Programme Instrument_type  \\\n",
       "0                  Regional Hydrogen Hubs Programme           Grant   \n",
       "1  National Reconstruction Fund – H₂ equipment debt  Loan/guarantee   \n",
       "2                Future Made in Australia programme      Tax credit   \n",
       "3                the Australian Headstart programme             CfD   \n",
       "4          Future Made in Australia Innovation Fund           Grant   \n",
       "\n",
       "  Policy_side  Amount_USD_mn  \\\n",
       "0        Pull          324.0   \n",
       "1        Push         2000.0   \n",
       "2        Push        10000.0   \n",
       "3        Pull         2600.0   \n",
       "4        Push         1200.0   \n",
       "\n",
       "                                         Description  \n",
       "0  AUD 490 m (USD 324 m) for seven H₂ hubs (up to...  \n",
       "1  Finance in the form of debt, equity and guaran...  \n",
       "2  AUD 2/kg (USD 1.3/kg) incentive for up to 10 y...  \n",
       "3  For projects with a cumulative electrolyser ca...  \n",
       "4  Includes “green” metals and low-carbon liquid ...  "
      ]
     },
     "execution_count": 454,
     "metadata": {},
     "output_type": "execute_result"
    }
   ],
   "source": [
    "gh.head()"
   ]
  },
  {
   "cell_type": "code",
   "execution_count": 455,
   "id": "8aee3a54-1080-4be7-b0d6-1cfaa45cbbef",
   "metadata": {},
   "outputs": [],
   "source": [
    "gh_subset = pd.get_dummies(gh_subset, drop_first=True, columns=['Instrument_type'])"
   ]
  },
  {
   "cell_type": "code",
   "execution_count": 456,
   "id": "cefc2c4d-8825-46e1-b6fb-95d750afb00b",
   "metadata": {},
   "outputs": [
    {
     "data": {
      "text/html": [
       "<div>\n",
       "<style scoped>\n",
       "    .dataframe tbody tr th:only-of-type {\n",
       "        vertical-align: middle;\n",
       "    }\n",
       "\n",
       "    .dataframe tbody tr th {\n",
       "        vertical-align: top;\n",
       "    }\n",
       "\n",
       "    .dataframe thead th {\n",
       "        text-align: right;\n",
       "    }\n",
       "</style>\n",
       "<table border=\"1\" class=\"dataframe\">\n",
       "  <thead>\n",
       "    <tr style=\"text-align: right;\">\n",
       "      <th></th>\n",
       "      <th>Country</th>\n",
       "      <th>Sector</th>\n",
       "      <th>Programme</th>\n",
       "      <th>Amount_USD_mn</th>\n",
       "      <th>Description</th>\n",
       "      <th>Status_In force</th>\n",
       "      <th>Policy_side_Push</th>\n",
       "      <th>Instrument_type_Competitve bidding</th>\n",
       "      <th>Instrument_type_Grant</th>\n",
       "      <th>Instrument_type_Loan/guarantee</th>\n",
       "      <th>Instrument_type_Tax credit</th>\n",
       "    </tr>\n",
       "  </thead>\n",
       "  <tbody>\n",
       "    <tr>\n",
       "      <th>0</th>\n",
       "      <td>Australia</td>\n",
       "      <td>Hubs</td>\n",
       "      <td>Regional Hydrogen Hubs Programme</td>\n",
       "      <td>324.0</td>\n",
       "      <td>AUD 490 m (USD 324 m) for seven H₂ hubs (up to...</td>\n",
       "      <td>1</td>\n",
       "      <td>0</td>\n",
       "      <td>False</td>\n",
       "      <td>True</td>\n",
       "      <td>False</td>\n",
       "      <td>False</td>\n",
       "    </tr>\n",
       "    <tr>\n",
       "      <th>1</th>\n",
       "      <td>Australia</td>\n",
       "      <td>Electrolyser manufacturing</td>\n",
       "      <td>National Reconstruction Fund – H₂ equipment debt</td>\n",
       "      <td>2000.0</td>\n",
       "      <td>Finance in the form of debt, equity and guaran...</td>\n",
       "      <td>0</td>\n",
       "      <td>1</td>\n",
       "      <td>False</td>\n",
       "      <td>False</td>\n",
       "      <td>True</td>\n",
       "      <td>False</td>\n",
       "    </tr>\n",
       "    <tr>\n",
       "      <th>2</th>\n",
       "      <td>Australia</td>\n",
       "      <td>Industry</td>\n",
       "      <td>Future Made in Australia programme</td>\n",
       "      <td>10000.0</td>\n",
       "      <td>AUD 2/kg (USD 1.3/kg) incentive for up to 10 y...</td>\n",
       "      <td>0</td>\n",
       "      <td>1</td>\n",
       "      <td>False</td>\n",
       "      <td>False</td>\n",
       "      <td>False</td>\n",
       "      <td>True</td>\n",
       "    </tr>\n",
       "    <tr>\n",
       "      <th>3</th>\n",
       "      <td>Australia</td>\n",
       "      <td>Industry</td>\n",
       "      <td>the Australian Headstart programme</td>\n",
       "      <td>2600.0</td>\n",
       "      <td>For projects with a cumulative electrolyser ca...</td>\n",
       "      <td>1</td>\n",
       "      <td>0</td>\n",
       "      <td>False</td>\n",
       "      <td>False</td>\n",
       "      <td>False</td>\n",
       "      <td>False</td>\n",
       "    </tr>\n",
       "    <tr>\n",
       "      <th>4</th>\n",
       "      <td>Australia</td>\n",
       "      <td>Industry</td>\n",
       "      <td>Future Made in Australia Innovation Fund</td>\n",
       "      <td>1200.0</td>\n",
       "      <td>Includes “green” metals and low-carbon liquid ...</td>\n",
       "      <td>0</td>\n",
       "      <td>1</td>\n",
       "      <td>False</td>\n",
       "      <td>True</td>\n",
       "      <td>False</td>\n",
       "      <td>False</td>\n",
       "    </tr>\n",
       "  </tbody>\n",
       "</table>\n",
       "</div>"
      ],
      "text/plain": [
       "     Country                       Sector  \\\n",
       "0  Australia                         Hubs   \n",
       "1  Australia  Electrolyser manufacturing    \n",
       "2  Australia                     Industry   \n",
       "3  Australia                     Industry   \n",
       "4  Australia                     Industry   \n",
       "\n",
       "                                          Programme  Amount_USD_mn  \\\n",
       "0                  Regional Hydrogen Hubs Programme          324.0   \n",
       "1  National Reconstruction Fund – H₂ equipment debt         2000.0   \n",
       "2                Future Made in Australia programme        10000.0   \n",
       "3                the Australian Headstart programme         2600.0   \n",
       "4          Future Made in Australia Innovation Fund         1200.0   \n",
       "\n",
       "                                         Description  Status_In force  \\\n",
       "0  AUD 490 m (USD 324 m) for seven H₂ hubs (up to...                1   \n",
       "1  Finance in the form of debt, equity and guaran...                0   \n",
       "2  AUD 2/kg (USD 1.3/kg) incentive for up to 10 y...                0   \n",
       "3  For projects with a cumulative electrolyser ca...                1   \n",
       "4  Includes “green” metals and low-carbon liquid ...                0   \n",
       "\n",
       "   Policy_side_Push  Instrument_type_Competitve bidding  \\\n",
       "0                 0                               False   \n",
       "1                 1                               False   \n",
       "2                 1                               False   \n",
       "3                 0                               False   \n",
       "4                 1                               False   \n",
       "\n",
       "   Instrument_type_Grant  Instrument_type_Loan/guarantee  \\\n",
       "0                   True                           False   \n",
       "1                  False                            True   \n",
       "2                  False                           False   \n",
       "3                  False                           False   \n",
       "4                   True                           False   \n",
       "\n",
       "   Instrument_type_Tax credit  \n",
       "0                       False  \n",
       "1                       False  \n",
       "2                        True  \n",
       "3                       False  \n",
       "4                       False  "
      ]
     },
     "execution_count": 456,
     "metadata": {},
     "output_type": "execute_result"
    }
   ],
   "source": [
    "gh_subset.head()"
   ]
  },
  {
   "cell_type": "code",
   "execution_count": 457,
   "id": "ed5e3e51-f8e5-40d3-9ce5-b1db9800aefc",
   "metadata": {},
   "outputs": [],
   "source": [
    "gh_subset['Instrument_type_Competitve bidding'] = gh_subset['Instrument_type_Competitve bidding'].astype(int)\n",
    "gh_subset['Instrument_type_Grant'] = gh_subset['Instrument_type_Grant'].astype(int)\n",
    "gh_subset['Instrument_type_Loan/guarantee'] = gh_subset['Instrument_type_Loan/guarantee'].astype(int)\n",
    "gh_subset['Instrument_type_Tax credit'] = gh_subset['Instrument_type_Tax credit'].astype(int)\n",
    "\n"
   ]
  },
  {
   "cell_type": "code",
   "execution_count": 458,
   "id": "38ccdf29-8d22-4930-a6ed-e915d6f3d41c",
   "metadata": {},
   "outputs": [
    {
     "data": {
      "text/html": [
       "<div>\n",
       "<style scoped>\n",
       "    .dataframe tbody tr th:only-of-type {\n",
       "        vertical-align: middle;\n",
       "    }\n",
       "\n",
       "    .dataframe tbody tr th {\n",
       "        vertical-align: top;\n",
       "    }\n",
       "\n",
       "    .dataframe thead th {\n",
       "        text-align: right;\n",
       "    }\n",
       "</style>\n",
       "<table border=\"1\" class=\"dataframe\">\n",
       "  <thead>\n",
       "    <tr style=\"text-align: right;\">\n",
       "      <th></th>\n",
       "      <th>Country</th>\n",
       "      <th>Sector</th>\n",
       "      <th>Programme</th>\n",
       "      <th>Amount_USD_mn</th>\n",
       "      <th>Description</th>\n",
       "      <th>Status_In force</th>\n",
       "      <th>Policy_side_Push</th>\n",
       "      <th>Instrument_type_Competitve bidding</th>\n",
       "      <th>Instrument_type_Grant</th>\n",
       "      <th>Instrument_type_Loan/guarantee</th>\n",
       "      <th>Instrument_type_Tax credit</th>\n",
       "    </tr>\n",
       "  </thead>\n",
       "  <tbody>\n",
       "    <tr>\n",
       "      <th>0</th>\n",
       "      <td>Australia</td>\n",
       "      <td>Hubs</td>\n",
       "      <td>Regional Hydrogen Hubs Programme</td>\n",
       "      <td>324.0</td>\n",
       "      <td>AUD 490 m (USD 324 m) for seven H₂ hubs (up to...</td>\n",
       "      <td>1</td>\n",
       "      <td>0</td>\n",
       "      <td>0</td>\n",
       "      <td>1</td>\n",
       "      <td>0</td>\n",
       "      <td>0</td>\n",
       "    </tr>\n",
       "    <tr>\n",
       "      <th>1</th>\n",
       "      <td>Australia</td>\n",
       "      <td>Electrolyser manufacturing</td>\n",
       "      <td>National Reconstruction Fund – H₂ equipment debt</td>\n",
       "      <td>2000.0</td>\n",
       "      <td>Finance in the form of debt, equity and guaran...</td>\n",
       "      <td>0</td>\n",
       "      <td>1</td>\n",
       "      <td>0</td>\n",
       "      <td>0</td>\n",
       "      <td>1</td>\n",
       "      <td>0</td>\n",
       "    </tr>\n",
       "    <tr>\n",
       "      <th>2</th>\n",
       "      <td>Australia</td>\n",
       "      <td>Industry</td>\n",
       "      <td>Future Made in Australia programme</td>\n",
       "      <td>10000.0</td>\n",
       "      <td>AUD 2/kg (USD 1.3/kg) incentive for up to 10 y...</td>\n",
       "      <td>0</td>\n",
       "      <td>1</td>\n",
       "      <td>0</td>\n",
       "      <td>0</td>\n",
       "      <td>0</td>\n",
       "      <td>1</td>\n",
       "    </tr>\n",
       "    <tr>\n",
       "      <th>3</th>\n",
       "      <td>Australia</td>\n",
       "      <td>Industry</td>\n",
       "      <td>the Australian Headstart programme</td>\n",
       "      <td>2600.0</td>\n",
       "      <td>For projects with a cumulative electrolyser ca...</td>\n",
       "      <td>1</td>\n",
       "      <td>0</td>\n",
       "      <td>0</td>\n",
       "      <td>0</td>\n",
       "      <td>0</td>\n",
       "      <td>0</td>\n",
       "    </tr>\n",
       "    <tr>\n",
       "      <th>4</th>\n",
       "      <td>Australia</td>\n",
       "      <td>Industry</td>\n",
       "      <td>Future Made in Australia Innovation Fund</td>\n",
       "      <td>1200.0</td>\n",
       "      <td>Includes “green” metals and low-carbon liquid ...</td>\n",
       "      <td>0</td>\n",
       "      <td>1</td>\n",
       "      <td>0</td>\n",
       "      <td>1</td>\n",
       "      <td>0</td>\n",
       "      <td>0</td>\n",
       "    </tr>\n",
       "  </tbody>\n",
       "</table>\n",
       "</div>"
      ],
      "text/plain": [
       "     Country                       Sector  \\\n",
       "0  Australia                         Hubs   \n",
       "1  Australia  Electrolyser manufacturing    \n",
       "2  Australia                     Industry   \n",
       "3  Australia                     Industry   \n",
       "4  Australia                     Industry   \n",
       "\n",
       "                                          Programme  Amount_USD_mn  \\\n",
       "0                  Regional Hydrogen Hubs Programme          324.0   \n",
       "1  National Reconstruction Fund – H₂ equipment debt         2000.0   \n",
       "2                Future Made in Australia programme        10000.0   \n",
       "3                the Australian Headstart programme         2600.0   \n",
       "4          Future Made in Australia Innovation Fund         1200.0   \n",
       "\n",
       "                                         Description  Status_In force  \\\n",
       "0  AUD 490 m (USD 324 m) for seven H₂ hubs (up to...                1   \n",
       "1  Finance in the form of debt, equity and guaran...                0   \n",
       "2  AUD 2/kg (USD 1.3/kg) incentive for up to 10 y...                0   \n",
       "3  For projects with a cumulative electrolyser ca...                1   \n",
       "4  Includes “green” metals and low-carbon liquid ...                0   \n",
       "\n",
       "   Policy_side_Push  Instrument_type_Competitve bidding  \\\n",
       "0                 0                                   0   \n",
       "1                 1                                   0   \n",
       "2                 1                                   0   \n",
       "3                 0                                   0   \n",
       "4                 1                                   0   \n",
       "\n",
       "   Instrument_type_Grant  Instrument_type_Loan/guarantee  \\\n",
       "0                      1                               0   \n",
       "1                      0                               1   \n",
       "2                      0                               0   \n",
       "3                      0                               0   \n",
       "4                      1                               0   \n",
       "\n",
       "   Instrument_type_Tax credit  \n",
       "0                           0  \n",
       "1                           0  \n",
       "2                           1  \n",
       "3                           0  \n",
       "4                           0  "
      ]
     },
     "execution_count": 458,
     "metadata": {},
     "output_type": "execute_result"
    }
   ],
   "source": [
    "gh_subset.head()"
   ]
  },
  {
   "cell_type": "code",
   "execution_count": 459,
   "id": "f21e80ab-e79e-4afe-8510-8472e75cb76f",
   "metadata": {},
   "outputs": [],
   "source": [
    "X = gh_subset.drop(['Country', 'Sector', 'Programme', 'Description'], axis=1)"
   ]
  },
  {
   "cell_type": "code",
   "execution_count": 460,
   "id": "1f07ed15-53b7-470f-ae5a-3079184f9551",
   "metadata": {},
   "outputs": [
    {
     "data": {
      "text/html": [
       "<div>\n",
       "<style scoped>\n",
       "    .dataframe tbody tr th:only-of-type {\n",
       "        vertical-align: middle;\n",
       "    }\n",
       "\n",
       "    .dataframe tbody tr th {\n",
       "        vertical-align: top;\n",
       "    }\n",
       "\n",
       "    .dataframe thead th {\n",
       "        text-align: right;\n",
       "    }\n",
       "</style>\n",
       "<table border=\"1\" class=\"dataframe\">\n",
       "  <thead>\n",
       "    <tr style=\"text-align: right;\">\n",
       "      <th></th>\n",
       "      <th>Amount_USD_mn</th>\n",
       "      <th>Status_In force</th>\n",
       "      <th>Policy_side_Push</th>\n",
       "      <th>Instrument_type_Competitve bidding</th>\n",
       "      <th>Instrument_type_Grant</th>\n",
       "      <th>Instrument_type_Loan/guarantee</th>\n",
       "      <th>Instrument_type_Tax credit</th>\n",
       "    </tr>\n",
       "  </thead>\n",
       "  <tbody>\n",
       "    <tr>\n",
       "      <th>0</th>\n",
       "      <td>324.0</td>\n",
       "      <td>1</td>\n",
       "      <td>0</td>\n",
       "      <td>0</td>\n",
       "      <td>1</td>\n",
       "      <td>0</td>\n",
       "      <td>0</td>\n",
       "    </tr>\n",
       "    <tr>\n",
       "      <th>1</th>\n",
       "      <td>2000.0</td>\n",
       "      <td>0</td>\n",
       "      <td>1</td>\n",
       "      <td>0</td>\n",
       "      <td>0</td>\n",
       "      <td>1</td>\n",
       "      <td>0</td>\n",
       "    </tr>\n",
       "    <tr>\n",
       "      <th>2</th>\n",
       "      <td>10000.0</td>\n",
       "      <td>0</td>\n",
       "      <td>1</td>\n",
       "      <td>0</td>\n",
       "      <td>0</td>\n",
       "      <td>0</td>\n",
       "      <td>1</td>\n",
       "    </tr>\n",
       "    <tr>\n",
       "      <th>3</th>\n",
       "      <td>2600.0</td>\n",
       "      <td>1</td>\n",
       "      <td>0</td>\n",
       "      <td>0</td>\n",
       "      <td>0</td>\n",
       "      <td>0</td>\n",
       "      <td>0</td>\n",
       "    </tr>\n",
       "    <tr>\n",
       "      <th>4</th>\n",
       "      <td>1200.0</td>\n",
       "      <td>0</td>\n",
       "      <td>1</td>\n",
       "      <td>0</td>\n",
       "      <td>1</td>\n",
       "      <td>0</td>\n",
       "      <td>0</td>\n",
       "    </tr>\n",
       "  </tbody>\n",
       "</table>\n",
       "</div>"
      ],
      "text/plain": [
       "   Amount_USD_mn  Status_In force  Policy_side_Push  \\\n",
       "0          324.0                1                 0   \n",
       "1         2000.0                0                 1   \n",
       "2        10000.0                0                 1   \n",
       "3         2600.0                1                 0   \n",
       "4         1200.0                0                 1   \n",
       "\n",
       "   Instrument_type_Competitve bidding  Instrument_type_Grant  \\\n",
       "0                                   0                      1   \n",
       "1                                   0                      0   \n",
       "2                                   0                      0   \n",
       "3                                   0                      0   \n",
       "4                                   0                      1   \n",
       "\n",
       "   Instrument_type_Loan/guarantee  Instrument_type_Tax credit  \n",
       "0                               0                           0  \n",
       "1                               1                           0  \n",
       "2                               0                           1  \n",
       "3                               0                           0  \n",
       "4                               0                           0  "
      ]
     },
     "execution_count": 460,
     "metadata": {},
     "output_type": "execute_result"
    }
   ],
   "source": [
    "X.head()"
   ]
  },
  {
   "cell_type": "code",
   "execution_count": 461,
   "id": "e1bb1fe6-95a0-4211-89d7-3e1dd6e5c310",
   "metadata": {},
   "outputs": [],
   "source": [
    "X_scaled = StandardScaler().fit_transform(X)"
   ]
  },
  {
   "cell_type": "code",
   "execution_count": 462,
   "id": "9ea3e598-b5b4-4d48-957a-2de84d6e3fe4",
   "metadata": {},
   "outputs": [
    {
     "data": {
      "text/html": [
       "<div>\n",
       "<style scoped>\n",
       "    .dataframe tbody tr th:only-of-type {\n",
       "        vertical-align: middle;\n",
       "    }\n",
       "\n",
       "    .dataframe tbody tr th {\n",
       "        vertical-align: top;\n",
       "    }\n",
       "\n",
       "    .dataframe thead th {\n",
       "        text-align: right;\n",
       "    }\n",
       "</style>\n",
       "<table border=\"1\" class=\"dataframe\">\n",
       "  <thead>\n",
       "    <tr style=\"text-align: right;\">\n",
       "      <th></th>\n",
       "      <th>0</th>\n",
       "      <th>1</th>\n",
       "      <th>2</th>\n",
       "      <th>3</th>\n",
       "      <th>4</th>\n",
       "      <th>5</th>\n",
       "      <th>6</th>\n",
       "    </tr>\n",
       "  </thead>\n",
       "  <tbody>\n",
       "    <tr>\n",
       "      <th>0</th>\n",
       "      <td>-0.245290</td>\n",
       "      <td>0.68313</td>\n",
       "      <td>-1.632993</td>\n",
       "      <td>-0.39736</td>\n",
       "      <td>0.755929</td>\n",
       "      <td>-0.254000</td>\n",
       "      <td>-0.286299</td>\n",
       "    </tr>\n",
       "    <tr>\n",
       "      <th>1</th>\n",
       "      <td>-0.110843</td>\n",
       "      <td>-1.46385</td>\n",
       "      <td>0.612372</td>\n",
       "      <td>-0.39736</td>\n",
       "      <td>-1.322876</td>\n",
       "      <td>3.937004</td>\n",
       "      <td>-0.286299</td>\n",
       "    </tr>\n",
       "    <tr>\n",
       "      <th>2</th>\n",
       "      <td>0.530905</td>\n",
       "      <td>-1.46385</td>\n",
       "      <td>0.612372</td>\n",
       "      <td>-0.39736</td>\n",
       "      <td>-1.322876</td>\n",
       "      <td>-0.254000</td>\n",
       "      <td>3.492850</td>\n",
       "    </tr>\n",
       "    <tr>\n",
       "      <th>3</th>\n",
       "      <td>-0.062712</td>\n",
       "      <td>0.68313</td>\n",
       "      <td>-1.632993</td>\n",
       "      <td>-0.39736</td>\n",
       "      <td>-1.322876</td>\n",
       "      <td>-0.254000</td>\n",
       "      <td>-0.286299</td>\n",
       "    </tr>\n",
       "    <tr>\n",
       "      <th>4</th>\n",
       "      <td>-0.175018</td>\n",
       "      <td>-1.46385</td>\n",
       "      <td>0.612372</td>\n",
       "      <td>-0.39736</td>\n",
       "      <td>0.755929</td>\n",
       "      <td>-0.254000</td>\n",
       "      <td>-0.286299</td>\n",
       "    </tr>\n",
       "  </tbody>\n",
       "</table>\n",
       "</div>"
      ],
      "text/plain": [
       "          0        1         2        3         4         5         6\n",
       "0 -0.245290  0.68313 -1.632993 -0.39736  0.755929 -0.254000 -0.286299\n",
       "1 -0.110843 -1.46385  0.612372 -0.39736 -1.322876  3.937004 -0.286299\n",
       "2  0.530905 -1.46385  0.612372 -0.39736 -1.322876 -0.254000  3.492850\n",
       "3 -0.062712  0.68313 -1.632993 -0.39736 -1.322876 -0.254000 -0.286299\n",
       "4 -0.175018 -1.46385  0.612372 -0.39736  0.755929 -0.254000 -0.286299"
      ]
     },
     "execution_count": 462,
     "metadata": {},
     "output_type": "execute_result"
    }
   ],
   "source": [
    "df2 = pd.DataFrame(X_scaled)\n",
    "df2.head()"
   ]
  },
  {
   "cell_type": "code",
   "execution_count": 463,
   "id": "eebb7339-758f-449d-a372-49b52d0c3a5a",
   "metadata": {},
   "outputs": [],
   "source": [
    "num_clusters = [i for i in range(2, 13)]\n",
    "\n",
    "def kmeans_inertia(num_clusters, x_vals):\n",
    "    \"\"\"\n",
    "    Accepts as arguments list of ints and data array. \n",
    "    Fits a KMeans model where k = each value in the list of ints. \n",
    "    Returns each k-value's inertia appended to a list.\n",
    "    \"\"\"\n",
    "    inertia = []\n",
    "    for num in num_clusters:\n",
    "        kms = KMeans(n_clusters=num, random_state=42)\n",
    "        kms.fit(x_vals)\n",
    "        inertia.append(kms.inertia_)\n",
    "\n",
    "    return inertia"
   ]
  },
  {
   "cell_type": "code",
   "execution_count": 464,
   "id": "2acdbea9-e36d-47f1-9ec4-2ae2f32f601e",
   "metadata": {},
   "outputs": [],
   "source": [
    "inertia = kmeans_inertia(num_clusters, X_scaled)"
   ]
  },
  {
   "cell_type": "code",
   "execution_count": 465,
   "id": "e05ad134-caac-4a9a-b756-35f67a6a1d1e",
   "metadata": {},
   "outputs": [
    {
     "data": {
      "text/plain": [
       "[379.7041249169205,\n",
       " 327.898195831211,\n",
       " 252.1360767218709,\n",
       " 176.45205174242201,\n",
       " 108.71568320664795,\n",
       " 73.49748636571175,\n",
       " 44.62078359270127,\n",
       " 38.84018658718767,\n",
       " 24.991095172189404,\n",
       " 18.074064562762256,\n",
       " 13.283951496078002]"
      ]
     },
     "execution_count": 465,
     "metadata": {},
     "output_type": "execute_result"
    }
   ],
   "source": [
    "inertia"
   ]
  },
  {
   "cell_type": "code",
   "execution_count": 466,
   "id": "30110b75-2046-4f04-8609-36e45b4bd75d",
   "metadata": {},
   "outputs": [
    {
     "data": {
      "image/png": "[encoded data removed]",
      "text/plain": [
       "<Figure size 640x480 with 1 Axes>"
      ]
     },
     "metadata": {},
     "output_type": "display_data"
    }
   ],
   "source": [
    "plot = sns.lineplot(x=num_clusters, y=inertia, marker='o')\n",
    "plot.set_xlabel('Number of clusters');\n",
    "plot.set_ylabel('Inertia');"
   ]
  },
  {
   "cell_type": "code",
   "execution_count": 467,
   "id": "1b34db5f-ddbf-4694-aac6-fb08695b366d",
   "metadata": {},
   "outputs": [
    {
     "data": {
      "text/plain": [
       "[0.32745946728511116,\n",
       " 0.32309652498884406,\n",
       " 0.35355606019633756,\n",
       " 0.4409332363784453,\n",
       " 0.5353741213056737,\n",
       " 0.6767301376921128,\n",
       " 0.7416343641106488,\n",
       " 0.7715328882598952,\n",
       " 0.8073771406256366,\n",
       " 0.8442997810682958,\n",
       " 0.8699010348973645]"
      ]
     },
     "execution_count": 467,
     "metadata": {},
     "output_type": "execute_result"
    }
   ],
   "source": [
    "def kmeans_sil(num_clusters, x_vals):\n",
    "    \"\"\"\n",
    "    Accepts as arguments list of ints and data array. \n",
    "    Fits a KMeans model where k = each value in the list of ints.\n",
    "    Calculates a silhouette score for each k value. \n",
    "    Returns each k-value's silhouette score appended to a list.\n",
    "    \"\"\"\n",
    "    sil_score = []\n",
    "    for num in num_clusters:\n",
    "        kms = KMeans(n_clusters=num, random_state=42)\n",
    "        kms.fit(x_vals)\n",
    "        sil_score.append(silhouette_score(x_vals, kms.labels_))\n",
    "\n",
    "    return sil_score\n",
    "\n",
    "\n",
    "sil_score = kmeans_sil(num_clusters, X_scaled)\n",
    "sil_score"
   ]
  },
  {
   "cell_type": "code",
   "execution_count": 468,
   "id": "7a6902d8-509b-4faf-925a-bcaf94c4f6eb",
   "metadata": {},
   "outputs": [
    {
     "data": {
      "image/png": "[encoded data removed]",
      "text/plain": [
       "<Figure size 640x480 with 1 Axes>"
      ]
     },
     "metadata": {},
     "output_type": "display_data"
    }
   ],
   "source": [
    "plot = sns.lineplot(x=num_clusters, y=sil_score, marker='o')\n",
    "plot.set_xlabel('Number of clusters');\n",
    "plot.set_ylabel('Silhouette score');"
   ]
  },
  {
   "cell_type": "code",
   "execution_count": 469,
   "id": "d1ce256b-9e3d-400e-b4cd-e1871ed49e86",
   "metadata": {},
   "outputs": [
    {
     "data": {
      "text/plain": [
       "(66, 8)"
      ]
     },
     "execution_count": 469,
     "metadata": {},
     "output_type": "execute_result"
    }
   ],
   "source": [
    "gh.shape"
   ]
  },
  {
   "cell_type": "code",
   "execution_count": 470,
   "id": "79b4cf48-1955-4fb2-a2b9-63504139738b",
   "metadata": {},
   "outputs": [
    {
     "data": {
      "text/html": [
       "<style>#sk-container-id-3 {\n",
       "  /* Definition of color scheme common for light and dark mode */\n",
       "  --sklearn-color-text: black;\n",
       "  --sklearn-color-line: gray;\n",
       "  /* Definition of color scheme for unfitted estimators */\n",
       "  --sklearn-color-unfitted-level-0: #fff5e6;\n",
       "  --sklearn-color-unfitted-level-1: #f6e4d2;\n",
       "  --sklearn-color-unfitted-level-2: #ffe0b3;\n",
       "  --sklearn-color-unfitted-level-3: chocolate;\n",
       "  /* Definition of color scheme for fitted estimators */\n",
       "  --sklearn-color-fitted-level-0: #f0f8ff;\n",
       "  --sklearn-color-fitted-level-1: #d4ebff;\n",
       "  --sklearn-color-fitted-level-2: #b3dbfd;\n",
       "  --sklearn-color-fitted-level-3: cornflowerblue;\n",
       "\n",
       "  /* Specific color for light theme */\n",
       "  --sklearn-color-text-on-default-background: var(--sg-text-color, var(--theme-code-foreground, var(--jp-content-font-color1, black)));\n",
       "  --sklearn-color-background: var(--sg-background-color, var(--theme-background, var(--jp-layout-color0, white)));\n",
       "  --sklearn-color-border-box: var(--sg-text-color, var(--theme-code-foreground, var(--jp-content-font-color1, black)));\n",
       "  --sklearn-color-icon: #696969;\n",
       "\n",
       "  @media (prefers-color-scheme: dark) {\n",
       "    /* Redefinition of color scheme for dark theme */\n",
       "    --sklearn-color-text-on-default-background: var(--sg-text-color, var(--theme-code-foreground, var(--jp-content-font-color1, white)));\n",
       "    --sklearn-color-background: var(--sg-background-color, var(--theme-background, var(--jp-layout-color0, #111)));\n",
       "    --sklearn-color-border-box: var(--sg-text-color, var(--theme-code-foreground, var(--jp-content-font-color1, white)));\n",
       "    --sklearn-color-icon: #878787;\n",
       "  }\n",
       "}\n",
       "\n",
       "#sk-container-id-3 {\n",
       "  color: var(--sklearn-color-text);\n",
       "}\n",
       "\n",
       "#sk-container-id-3 pre {\n",
       "  padding: 0;\n",
       "}\n",
       "\n",
       "#sk-container-id-3 input.sk-hidden--visually {\n",
       "  border: 0;\n",
       "  clip: rect(1px 1px 1px 1px);\n",
       "  clip: rect(1px, 1px, 1px, 1px);\n",
       "  height: 1px;\n",
       "  margin: -1px;\n",
       "  overflow: hidden;\n",
       "  padding: 0;\n",
       "  position: absolute;\n",
       "  width: 1px;\n",
       "}\n",
       "\n",
       "#sk-container-id-3 div.sk-dashed-wrapped {\n",
       "  border: 1px dashed var(--sklearn-color-line);\n",
       "  margin: 0 0.4em 0.5em 0.4em;\n",
       "  box-sizing: border-box;\n",
       "  padding-bottom: 0.4em;\n",
       "  background-color: var(--sklearn-color-background);\n",
       "}\n",
       "\n",
       "#sk-container-id-3 div.sk-container {\n",
       "  /* jupyter's `normalize.less` sets `[hidden] { display: none; }`\n",
       "     but bootstrap.min.css set `[hidden] { display: none !important; }`\n",
       "     so we also need the `!important` here to be able to override the\n",
       "     default hidden behavior on the sphinx rendered scikit-learn.org.\n",
       "     See: https://github.com/scikit-learn/scikit-learn/issues/21755 */\n",
       "  display: inline-block !important;\n",
       "  position: relative;\n",
       "}\n",
       "\n",
       "#sk-container-id-3 div.sk-text-repr-fallback {\n",
       "  display: none;\n",
       "}\n",
       "\n",
       "div.sk-parallel-item,\n",
       "div.sk-serial,\n",
       "div.sk-item {\n",
       "  /* draw centered vertical line to link estimators */\n",
       "  background-image: linear-gradient(var(--sklearn-color-text-on-default-background), var(--sklearn-color-text-on-default-background));\n",
       "  background-size: 2px 100%;\n",
       "  background-repeat: no-repeat;\n",
       "  background-position: center center;\n",
       "}\n",
       "\n",
       "/* Parallel-specific style estimator block */\n",
       "\n",
       "#sk-container-id-3 div.sk-parallel-item::after {\n",
       "  content: \"\";\n",
       "  width: 100%;\n",
       "  border-bottom: 2px solid var(--sklearn-color-text-on-default-background);\n",
       "  flex-grow: 1;\n",
       "}\n",
       "\n",
       "#sk-container-id-3 div.sk-parallel {\n",
       "  display: flex;\n",
       "  align-items: stretch;\n",
       "  justify-content: center;\n",
       "  background-color: var(--sklearn-color-background);\n",
       "  position: relative;\n",
       "}\n",
       "\n",
       "#sk-container-id-3 div.sk-parallel-item {\n",
       "  display: flex;\n",
       "  flex-direction: column;\n",
       "}\n",
       "\n",
       "#sk-container-id-3 div.sk-parallel-item:first-child::after {\n",
       "  align-self: flex-end;\n",
       "  width: 50%;\n",
       "}\n",
       "\n",
       "#sk-container-id-3 div.sk-parallel-item:last-child::after {\n",
       "  align-self: flex-start;\n",
       "  width: 50%;\n",
       "}\n",
       "\n",
       "#sk-container-id-3 div.sk-parallel-item:only-child::after {\n",
       "  width: 0;\n",
       "}\n",
       "\n",
       "/* Serial-specific style estimator block */\n",
       "\n",
       "#sk-container-id-3 div.sk-serial {\n",
       "  display: flex;\n",
       "  flex-direction: column;\n",
       "  align-items: center;\n",
       "  background-color: var(--sklearn-color-background);\n",
       "  padding-right: 1em;\n",
       "  padding-left: 1em;\n",
       "}\n",
       "\n",
       "\n",
       "/* Toggleable style: style used for estimator/Pipeline/ColumnTransformer box that is\n",
       "clickable and can be expanded/collapsed.\n",
       "- Pipeline and ColumnTransformer use this feature and define the default style\n",
       "- Estimators will overwrite some part of the style using the `sk-estimator` class\n",
       "*/\n",
       "\n",
       "/* Pipeline and ColumnTransformer style (default) */\n",
       "\n",
       "#sk-container-id-3 div.sk-toggleable {\n",
       "  /* Default theme specific background. It is overwritten whether we have a\n",
       "  specific estimator or a Pipeline/ColumnTransformer */\n",
       "  background-color: var(--sklearn-color-background);\n",
       "}\n",
       "\n",
       "/* Toggleable label */\n",
       "#sk-container-id-3 label.sk-toggleable__label {\n",
       "  cursor: pointer;\n",
       "  display: block;\n",
       "  width: 100%;\n",
       "  margin-bottom: 0;\n",
       "  padding: 0.5em;\n",
       "  box-sizing: border-box;\n",
       "  text-align: center;\n",
       "}\n",
       "\n",
       "#sk-container-id-3 label.sk-toggleable__label-arrow:before {\n",
       "  /* Arrow on the left of the label */\n",
       "  content: \"▸\";\n",
       "  float: left;\n",
       "  margin-right: 0.25em;\n",
       "  color: var(--sklearn-color-icon);\n",
       "}\n",
       "\n",
       "#sk-container-id-3 label.sk-toggleable__label-arrow:hover:before {\n",
       "  color: var(--sklearn-color-text);\n",
       "}\n",
       "\n",
       "/* Toggleable content - dropdown */\n",
       "\n",
       "#sk-container-id-3 div.sk-toggleable__content {\n",
       "  max-height: 0;\n",
       "  max-width: 0;\n",
       "  overflow: hidden;\n",
       "  text-align: left;\n",
       "  /* unfitted */\n",
       "  background-color: var(--sklearn-color-unfitted-level-0);\n",
       "}\n",
       "\n",
       "#sk-container-id-3 div.sk-toggleable__content.fitted {\n",
       "  /* fitted */\n",
       "  background-color: var(--sklearn-color-fitted-level-0);\n",
       "}\n",
       "\n",
       "#sk-container-id-3 div.sk-toggleable__content pre {\n",
       "  margin: 0.2em;\n",
       "  border-radius: 0.25em;\n",
       "  color: var(--sklearn-color-text);\n",
       "  /* unfitted */\n",
       "  background-color: var(--sklearn-color-unfitted-level-0);\n",
       "}\n",
       "\n",
       "#sk-container-id-3 div.sk-toggleable__content.fitted pre {\n",
       "  /* unfitted */\n",
       "  background-color: var(--sklearn-color-fitted-level-0);\n",
       "}\n",
       "\n",
       "#sk-container-id-3 input.sk-toggleable__control:checked~div.sk-toggleable__content {\n",
       "  /* Expand drop-down */\n",
       "  max-height: 200px;\n",
       "  max-width: 100%;\n",
       "  overflow: auto;\n",
       "}\n",
       "\n",
       "#sk-container-id-3 input.sk-toggleable__control:checked~label.sk-toggleable__label-arrow:before {\n",
       "  content: \"▾\";\n",
       "}\n",
       "\n",
       "/* Pipeline/ColumnTransformer-specific style */\n",
       "\n",
       "#sk-container-id-3 div.sk-label input.sk-toggleable__control:checked~label.sk-toggleable__label {\n",
       "  color: var(--sklearn-color-text);\n",
       "  background-color: var(--sklearn-color-unfitted-level-2);\n",
       "}\n",
       "\n",
       "#sk-container-id-3 div.sk-label.fitted input.sk-toggleable__control:checked~label.sk-toggleable__label {\n",
       "  background-color: var(--sklearn-color-fitted-level-2);\n",
       "}\n",
       "\n",
       "/* Estimator-specific style */\n",
       "\n",
       "/* Colorize estimator box */\n",
       "#sk-container-id-3 div.sk-estimator input.sk-toggleable__control:checked~label.sk-toggleable__label {\n",
       "  /* unfitted */\n",
       "  background-color: var(--sklearn-color-unfitted-level-2);\n",
       "}\n",
       "\n",
       "#sk-container-id-3 div.sk-estimator.fitted input.sk-toggleable__control:checked~label.sk-toggleable__label {\n",
       "  /* fitted */\n",
       "  background-color: var(--sklearn-color-fitted-level-2);\n",
       "}\n",
       "\n",
       "#sk-container-id-3 div.sk-label label.sk-toggleable__label,\n",
       "#sk-container-id-3 div.sk-label label {\n",
       "  /* The background is the default theme color */\n",
       "  color: var(--sklearn-color-text-on-default-background);\n",
       "}\n",
       "\n",
       "/* On hover, darken the color of the background */\n",
       "#sk-container-id-3 div.sk-label:hover label.sk-toggleable__label {\n",
       "  color: var(--sklearn-color-text);\n",
       "  background-color: var(--sklearn-color-unfitted-level-2);\n",
       "}\n",
       "\n",
       "/* Label box, darken color on hover, fitted */\n",
       "#sk-container-id-3 div.sk-label.fitted:hover label.sk-toggleable__label.fitted {\n",
       "  color: var(--sklearn-color-text);\n",
       "  background-color: var(--sklearn-color-fitted-level-2);\n",
       "}\n",
       "\n",
       "/* Estimator label */\n",
       "\n",
       "#sk-container-id-3 div.sk-label label {\n",
       "  font-family: monospace;\n",
       "  font-weight: bold;\n",
       "  display: inline-block;\n",
       "  line-height: 1.2em;\n",
       "}\n",
       "\n",
       "#sk-container-id-3 div.sk-label-container {\n",
       "  text-align: center;\n",
       "}\n",
       "\n",
       "/* Estimator-specific */\n",
       "#sk-container-id-3 div.sk-estimator {\n",
       "  font-family: monospace;\n",
       "  border: 1px dotted var(--sklearn-color-border-box);\n",
       "  border-radius: 0.25em;\n",
       "  box-sizing: border-box;\n",
       "  margin-bottom: 0.5em;\n",
       "  /* unfitted */\n",
       "  background-color: var(--sklearn-color-unfitted-level-0);\n",
       "}\n",
       "\n",
       "#sk-container-id-3 div.sk-estimator.fitted {\n",
       "  /* fitted */\n",
       "  background-color: var(--sklearn-color-fitted-level-0);\n",
       "}\n",
       "\n",
       "/* on hover */\n",
       "#sk-container-id-3 div.sk-estimator:hover {\n",
       "  /* unfitted */\n",
       "  background-color: var(--sklearn-color-unfitted-level-2);\n",
       "}\n",
       "\n",
       "#sk-container-id-3 div.sk-estimator.fitted:hover {\n",
       "  /* fitted */\n",
       "  background-color: var(--sklearn-color-fitted-level-2);\n",
       "}\n",
       "\n",
       "/* Specification for estimator info (e.g. \"i\" and \"?\") */\n",
       "\n",
       "/* Common style for \"i\" and \"?\" */\n",
       "\n",
       ".sk-estimator-doc-link,\n",
       "a:link.sk-estimator-doc-link,\n",
       "a:visited.sk-estimator-doc-link {\n",
       "  float: right;\n",
       "  font-size: smaller;\n",
       "  line-height: 1em;\n",
       "  font-family: monospace;\n",
       "  background-color: var(--sklearn-color-background);\n",
       "  border-radius: 1em;\n",
       "  height: 1em;\n",
       "  width: 1em;\n",
       "  text-decoration: none !important;\n",
       "  margin-left: 1ex;\n",
       "  /* unfitted */\n",
       "  border: var(--sklearn-color-unfitted-level-1) 1pt solid;\n",
       "  color: var(--sklearn-color-unfitted-level-1);\n",
       "}\n",
       "\n",
       ".sk-estimator-doc-link.fitted,\n",
       "a:link.sk-estimator-doc-link.fitted,\n",
       "a:visited.sk-estimator-doc-link.fitted {\n",
       "  /* fitted */\n",
       "  border: var(--sklearn-color-fitted-level-1) 1pt solid;\n",
       "  color: var(--sklearn-color-fitted-level-1);\n",
       "}\n",
       "\n",
       "/* On hover */\n",
       "div.sk-estimator:hover .sk-estimator-doc-link:hover,\n",
       ".sk-estimator-doc-link:hover,\n",
       "div.sk-label-container:hover .sk-estimator-doc-link:hover,\n",
       ".sk-estimator-doc-link:hover {\n",
       "  /* unfitted */\n",
       "  background-color: var(--sklearn-color-unfitted-level-3);\n",
       "  color: var(--sklearn-color-background);\n",
       "  text-decoration: none;\n",
       "}\n",
       "\n",
       "div.sk-estimator.fitted:hover .sk-estimator-doc-link.fitted:hover,\n",
       ".sk-estimator-doc-link.fitted:hover,\n",
       "div.sk-label-container:hover .sk-estimator-doc-link.fitted:hover,\n",
       ".sk-estimator-doc-link.fitted:hover {\n",
       "  /* fitted */\n",
       "  background-color: var(--sklearn-color-fitted-level-3);\n",
       "  color: var(--sklearn-color-background);\n",
       "  text-decoration: none;\n",
       "}\n",
       "\n",
       "/* Span, style for the box shown on hovering the info icon */\n",
       ".sk-estimator-doc-link span {\n",
       "  display: none;\n",
       "  z-index: 9999;\n",
       "  position: relative;\n",
       "  font-weight: normal;\n",
       "  right: .2ex;\n",
       "  padding: .5ex;\n",
       "  margin: .5ex;\n",
       "  width: min-content;\n",
       "  min-width: 20ex;\n",
       "  max-width: 50ex;\n",
       "  color: var(--sklearn-color-text);\n",
       "  box-shadow: 2pt 2pt 4pt #999;\n",
       "  /* unfitted */\n",
       "  background: var(--sklearn-color-unfitted-level-0);\n",
       "  border: .5pt solid var(--sklearn-color-unfitted-level-3);\n",
       "}\n",
       "\n",
       ".sk-estimator-doc-link.fitted span {\n",
       "  /* fitted */\n",
       "  background: var(--sklearn-color-fitted-level-0);\n",
       "  border: var(--sklearn-color-fitted-level-3);\n",
       "}\n",
       "\n",
       ".sk-estimator-doc-link:hover span {\n",
       "  display: block;\n",
       "}\n",
       "\n",
       "/* \"?\"-specific style due to the `<a>` HTML tag */\n",
       "\n",
       "#sk-container-id-3 a.estimator_doc_link {\n",
       "  float: right;\n",
       "  font-size: 1rem;\n",
       "  line-height: 1em;\n",
       "  font-family: monospace;\n",
       "  background-color: var(--sklearn-color-background);\n",
       "  border-radius: 1rem;\n",
       "  height: 1rem;\n",
       "  width: 1rem;\n",
       "  text-decoration: none;\n",
       "  /* unfitted */\n",
       "  color: var(--sklearn-color-unfitted-level-1);\n",
       "  border: var(--sklearn-color-unfitted-level-1) 1pt solid;\n",
       "}\n",
       "\n",
       "#sk-container-id-3 a.estimator_doc_link.fitted {\n",
       "  /* fitted */\n",
       "  border: var(--sklearn-color-fitted-level-1) 1pt solid;\n",
       "  color: var(--sklearn-color-fitted-level-1);\n",
       "}\n",
       "\n",
       "/* On hover */\n",
       "#sk-container-id-3 a.estimator_doc_link:hover {\n",
       "  /* unfitted */\n",
       "  background-color: var(--sklearn-color-unfitted-level-3);\n",
       "  color: var(--sklearn-color-background);\n",
       "  text-decoration: none;\n",
       "}\n",
       "\n",
       "#sk-container-id-3 a.estimator_doc_link.fitted:hover {\n",
       "  /* fitted */\n",
       "  background-color: var(--sklearn-color-fitted-level-3);\n",
       "}\n",
       "</style><div id=\"sk-container-id-3\" class=\"sk-top-container\"><div class=\"sk-text-repr-fallback\"><pre>KMeans(random_state=42)</pre><b>In a Jupyter environment, please rerun this cell to show the HTML representation or trust the notebook. <br />On GitHub, the HTML representation is unable to render, please try loading this page with nbviewer.org.</b></div><div class=\"sk-container\" hidden><div class=\"sk-item\"><div class=\"sk-estimator fitted sk-toggleable\"><input class=\"sk-toggleable__control sk-hidden--visually\" id=\"sk-estimator-id-3\" type=\"checkbox\" checked><label for=\"sk-estimator-id-3\" class=\"sk-toggleable__label fitted sk-toggleable__label-arrow fitted\">&nbsp;&nbsp;KMeans<a class=\"sk-estimator-doc-link fitted\" rel=\"noreferrer\" target=\"_blank\" href=\"https://scikit-learn.org/1.4/modules/generated/sklearn.cluster.KMeans.html\">?<span>Documentation for KMeans</span></a><span class=\"sk-estimator-doc-link fitted\">i<span>Fitted</span></span></label><div class=\"sk-toggleable__content fitted\"><pre>KMeans(random_state=42)</pre></div> </div></div></div></div>"
      ],
      "text/plain": [
       "KMeans(random_state=42)"
      ]
     },
     "execution_count": 470,
     "metadata": {},
     "output_type": "execute_result"
    }
   ],
   "source": [
    "kmeans8 = KMeans(n_clusters=8, random_state=42)\n",
    "kmeans8.fit(X_scaled)"
   ]
  },
  {
   "cell_type": "code",
   "execution_count": 471,
   "id": "b177b229-e2f1-45a0-b61d-e3d4b10ffeb5",
   "metadata": {},
   "outputs": [
    {
     "name": "stdout",
     "output_type": "stream",
     "text": [
      "Unique labels: [0 1 2 3 4 5 6 7]\n"
     ]
    }
   ],
   "source": [
    "print('Unique labels:', np.unique(kmeans8.labels_))"
   ]
  },
  {
   "cell_type": "code",
   "execution_count": 472,
   "id": "b85db98d-6248-4349-8f12-219ed05fb7f9",
   "metadata": {},
   "outputs": [
    {
     "data": {
      "text/html": [
       "<div>\n",
       "<style scoped>\n",
       "    .dataframe tbody tr th:only-of-type {\n",
       "        vertical-align: middle;\n",
       "    }\n",
       "\n",
       "    .dataframe tbody tr th {\n",
       "        vertical-align: top;\n",
       "    }\n",
       "\n",
       "    .dataframe thead th {\n",
       "        text-align: right;\n",
       "    }\n",
       "</style>\n",
       "<table border=\"1\" class=\"dataframe\">\n",
       "  <thead>\n",
       "    <tr style=\"text-align: right;\">\n",
       "      <th></th>\n",
       "      <th>Country</th>\n",
       "      <th>Status</th>\n",
       "      <th>Sector</th>\n",
       "      <th>Programme</th>\n",
       "      <th>Instrument_type</th>\n",
       "      <th>Policy_side</th>\n",
       "      <th>Amount_USD_mn</th>\n",
       "      <th>Description</th>\n",
       "      <th>cluster</th>\n",
       "    </tr>\n",
       "  </thead>\n",
       "  <tbody>\n",
       "    <tr>\n",
       "      <th>0</th>\n",
       "      <td>Australia</td>\n",
       "      <td>In force</td>\n",
       "      <td>Hubs</td>\n",
       "      <td>Regional Hydrogen Hubs Programme</td>\n",
       "      <td>Grant</td>\n",
       "      <td>Pull</td>\n",
       "      <td>324.0</td>\n",
       "      <td>AUD 490 m (USD 324 m) for seven H₂ hubs (up to...</td>\n",
       "      <td>7</td>\n",
       "    </tr>\n",
       "    <tr>\n",
       "      <th>1</th>\n",
       "      <td>Australia</td>\n",
       "      <td>Announced</td>\n",
       "      <td>Electrolyser manufacturing</td>\n",
       "      <td>National Reconstruction Fund – H₂ equipment debt</td>\n",
       "      <td>Loan/guarantee</td>\n",
       "      <td>Push</td>\n",
       "      <td>2000.0</td>\n",
       "      <td>Finance in the form of debt, equity and guaran...</td>\n",
       "      <td>5</td>\n",
       "    </tr>\n",
       "    <tr>\n",
       "      <th>2</th>\n",
       "      <td>Australia</td>\n",
       "      <td>Announced</td>\n",
       "      <td>Industry</td>\n",
       "      <td>Future Made in Australia programme</td>\n",
       "      <td>Tax credit</td>\n",
       "      <td>Push</td>\n",
       "      <td>10000.0</td>\n",
       "      <td>AUD 2/kg (USD 1.3/kg) incentive for up to 10 y...</td>\n",
       "      <td>4</td>\n",
       "    </tr>\n",
       "    <tr>\n",
       "      <th>3</th>\n",
       "      <td>Australia</td>\n",
       "      <td>In force</td>\n",
       "      <td>Industry</td>\n",
       "      <td>the Australian Headstart programme</td>\n",
       "      <td>CfD</td>\n",
       "      <td>Pull</td>\n",
       "      <td>2600.0</td>\n",
       "      <td>For projects with a cumulative electrolyser ca...</td>\n",
       "      <td>7</td>\n",
       "    </tr>\n",
       "    <tr>\n",
       "      <th>4</th>\n",
       "      <td>Australia</td>\n",
       "      <td>Announced</td>\n",
       "      <td>Industry</td>\n",
       "      <td>Future Made in Australia Innovation Fund</td>\n",
       "      <td>Grant</td>\n",
       "      <td>Push</td>\n",
       "      <td>1200.0</td>\n",
       "      <td>Includes “green” metals and low-carbon liquid ...</td>\n",
       "      <td>6</td>\n",
       "    </tr>\n",
       "  </tbody>\n",
       "</table>\n",
       "</div>"
      ],
      "text/plain": [
       "     Country     Status                       Sector  \\\n",
       "0  Australia   In force                         Hubs   \n",
       "1  Australia  Announced  Electrolyser manufacturing    \n",
       "2  Australia  Announced                     Industry   \n",
       "3  Australia   In force                     Industry   \n",
       "4  Australia  Announced                     Industry   \n",
       "\n",
       "                                          Programme Instrument_type  \\\n",
       "0                  Regional Hydrogen Hubs Programme           Grant   \n",
       "1  National Reconstruction Fund – H₂ equipment debt  Loan/guarantee   \n",
       "2                Future Made in Australia programme      Tax credit   \n",
       "3                the Australian Headstart programme             CfD   \n",
       "4          Future Made in Australia Innovation Fund           Grant   \n",
       "\n",
       "  Policy_side  Amount_USD_mn  \\\n",
       "0        Pull          324.0   \n",
       "1        Push         2000.0   \n",
       "2        Push        10000.0   \n",
       "3        Pull         2600.0   \n",
       "4        Push         1200.0   \n",
       "\n",
       "                                         Description  cluster  \n",
       "0  AUD 490 m (USD 324 m) for seven H₂ hubs (up to...        7  \n",
       "1  Finance in the form of debt, equity and guaran...        5  \n",
       "2  AUD 2/kg (USD 1.3/kg) incentive for up to 10 y...        4  \n",
       "3  For projects with a cumulative electrolyser ca...        7  \n",
       "4  Includes “green” metals and low-carbon liquid ...        6  "
      ]
     },
     "execution_count": 472,
     "metadata": {},
     "output_type": "execute_result"
    }
   ],
   "source": [
    "gh['cluster'] = kmeans8.labels_\n",
    "gh.head()"
   ]
  },
  {
   "cell_type": "code",
   "execution_count": 473,
   "id": "4cc656dd-66cb-4fd3-962a-2822d87e1248",
   "metadata": {},
   "outputs": [
    {
     "data": {
      "text/plain": [
       "cluster  Instrument_type   \n",
       "0        CfD                    2\n",
       "         Grant                  4\n",
       "1        Grant                 25\n",
       "2        Competitve bidding     9\n",
       "3        Tax credit             1\n",
       "4        Tax credit             4\n",
       "5        Loan/guarantee         4\n",
       "6        Grant                 11\n",
       "7        CfD                    4\n",
       "         Grant                  2\n",
       "dtype: int64"
      ]
     },
     "execution_count": 473,
     "metadata": {},
     "output_type": "execute_result"
    }
   ],
   "source": [
    "gh.groupby(by=['cluster', 'Instrument_type']).size()"
   ]
  },
  {
   "cell_type": "code",
   "execution_count": 474,
   "id": "4fc0b8d0-99d8-49f7-b4ed-e69c1a3454c4",
   "metadata": {},
   "outputs": [
    {
     "data": {
      "image/png": "[encoded data removed]",
      "text/plain": [
       "<Figure size 600x500 with 1 Axes>"
      ]
     },
     "metadata": {},
     "output_type": "display_data"
    }
   ],
   "source": [
    "gh.groupby(by=['cluster', 'Instrument_type']).size().plot.bar(title='Clusters differentiated by instrument',\n",
    "                                                                   figsize=(6, 5),\n",
    "                                                                   ylabel='Size',\n",
    "                                                                   xlabel='(Cluster, Instrument)');"
   ]
  },
  {
   "cell_type": "code",
   "execution_count": 475,
   "id": "a9744405-3dd4-43b3-87a7-78258f2f97e8",
   "metadata": {},
   "outputs": [
    {
     "data": {
      "text/plain": [
       "cluster  Instrument_type     Status   \n",
       "0        CfD                 Announced     2\n",
       "         Grant               Announced     4\n",
       "1        Grant               In force     25\n",
       "2        Competitve bidding  Announced     2\n",
       "                             In force      7\n",
       "3        Tax credit          In force      1\n",
       "4        Tax credit          Announced     1\n",
       "                             In force      3\n",
       "5        Loan/guarantee      Announced     1\n",
       "                             In force      3\n",
       "6        Grant               Announced    11\n",
       "7        CfD                 In force      4\n",
       "         Grant               In force      2\n",
       "dtype: int64"
      ]
     },
     "execution_count": 475,
     "metadata": {},
     "output_type": "execute_result"
    }
   ],
   "source": [
    "gh.groupby(by=['cluster', 'Instrument_type', 'Status']).size()"
   ]
  },
  {
   "cell_type": "code",
   "execution_count": 476,
   "id": "a8b8c069-d465-4f28-9d2b-9a4be2ea913e",
   "metadata": {},
   "outputs": [
    {
     "data": {
      "text/plain": [
       "<matplotlib.legend.Legend at 0x327b56bd0>"
      ]
     },
     "execution_count": 476,
     "metadata": {},
     "output_type": "execute_result"
    },
    {
     "data": {
      "image/png": "[encoded data removed]",
      "text/plain": [
       "<Figure size 600x500 with 1 Axes>"
      ]
     },
     "metadata": {},
     "output_type": "display_data"
    }
   ],
   "source": [
    "gh.groupby(by=['cluster','Instrument_type','Status']).size().unstack(level = 'Instrument_type', fill_value=0).plot.bar(title='Clusters differentiated by instrument and status',\n",
    "                                                                                                                      figsize=(6, 5),\n",
    "                                                                                                                      ylabel='Size',\n",
    "                                                                                                                      xlabel='(Cluster, Status)')\n",
    "plt.legend(bbox_to_anchor=(1.3, 1.0))"
   ]
  },
  {
   "cell_type": "code",
   "execution_count": 565,
   "id": "115ba927-a73e-45e2-8f70-3def881d0fee",
   "metadata": {},
   "outputs": [
    {
     "data": {
      "text/html": [
       "<style>#sk-container-id-5 {\n",
       "  /* Definition of color scheme common for light and dark mode */\n",
       "  --sklearn-color-text: black;\n",
       "  --sklearn-color-line: gray;\n",
       "  /* Definition of color scheme for unfitted estimators */\n",
       "  --sklearn-color-unfitted-level-0: #fff5e6;\n",
       "  --sklearn-color-unfitted-level-1: #f6e4d2;\n",
       "  --sklearn-color-unfitted-level-2: #ffe0b3;\n",
       "  --sklearn-color-unfitted-level-3: chocolate;\n",
       "  /* Definition of color scheme for fitted estimators */\n",
       "  --sklearn-color-fitted-level-0: #f0f8ff;\n",
       "  --sklearn-color-fitted-level-1: #d4ebff;\n",
       "  --sklearn-color-fitted-level-2: #b3dbfd;\n",
       "  --sklearn-color-fitted-level-3: cornflowerblue;\n",
       "\n",
       "  /* Specific color for light theme */\n",
       "  --sklearn-color-text-on-default-background: var(--sg-text-color, var(--theme-code-foreground, var(--jp-content-font-color1, black)));\n",
       "  --sklearn-color-background: var(--sg-background-color, var(--theme-background, var(--jp-layout-color0, white)));\n",
       "  --sklearn-color-border-box: var(--sg-text-color, var(--theme-code-foreground, var(--jp-content-font-color1, black)));\n",
       "  --sklearn-color-icon: #696969;\n",
       "\n",
       "  @media (prefers-color-scheme: dark) {\n",
       "    /* Redefinition of color scheme for dark theme */\n",
       "    --sklearn-color-text-on-default-background: var(--sg-text-color, var(--theme-code-foreground, var(--jp-content-font-color1, white)));\n",
       "    --sklearn-color-background: var(--sg-background-color, var(--theme-background, var(--jp-layout-color0, #111)));\n",
       "    --sklearn-color-border-box: var(--sg-text-color, var(--theme-code-foreground, var(--jp-content-font-color1, white)));\n",
       "    --sklearn-color-icon: #878787;\n",
       "  }\n",
       "}\n",
       "\n",
       "#sk-container-id-5 {\n",
       "  color: var(--sklearn-color-text);\n",
       "}\n",
       "\n",
       "#sk-container-id-5 pre {\n",
       "  padding: 0;\n",
       "}\n",
       "\n",
       "#sk-container-id-5 input.sk-hidden--visually {\n",
       "  border: 0;\n",
       "  clip: rect(1px 1px 1px 1px);\n",
       "  clip: rect(1px, 1px, 1px, 1px);\n",
       "  height: 1px;\n",
       "  margin: -1px;\n",
       "  overflow: hidden;\n",
       "  padding: 0;\n",
       "  position: absolute;\n",
       "  width: 1px;\n",
       "}\n",
       "\n",
       "#sk-container-id-5 div.sk-dashed-wrapped {\n",
       "  border: 1px dashed var(--sklearn-color-line);\n",
       "  margin: 0 0.4em 0.5em 0.4em;\n",
       "  box-sizing: border-box;\n",
       "  padding-bottom: 0.4em;\n",
       "  background-color: var(--sklearn-color-background);\n",
       "}\n",
       "\n",
       "#sk-container-id-5 div.sk-container {\n",
       "  /* jupyter's `normalize.less` sets `[hidden] { display: none; }`\n",
       "     but bootstrap.min.css set `[hidden] { display: none !important; }`\n",
       "     so we also need the `!important` here to be able to override the\n",
       "     default hidden behavior on the sphinx rendered scikit-learn.org.\n",
       "     See: https://github.com/scikit-learn/scikit-learn/issues/21755 */\n",
       "  display: inline-block !important;\n",
       "  position: relative;\n",
       "}\n",
       "\n",
       "#sk-container-id-5 div.sk-text-repr-fallback {\n",
       "  display: none;\n",
       "}\n",
       "\n",
       "div.sk-parallel-item,\n",
       "div.sk-serial,\n",
       "div.sk-item {\n",
       "  /* draw centered vertical line to link estimators */\n",
       "  background-image: linear-gradient(var(--sklearn-color-text-on-default-background), var(--sklearn-color-text-on-default-background));\n",
       "  background-size: 2px 100%;\n",
       "  background-repeat: no-repeat;\n",
       "  background-position: center center;\n",
       "}\n",
       "\n",
       "/* Parallel-specific style estimator block */\n",
       "\n",
       "#sk-container-id-5 div.sk-parallel-item::after {\n",
       "  content: \"\";\n",
       "  width: 100%;\n",
       "  border-bottom: 2px solid var(--sklearn-color-text-on-default-background);\n",
       "  flex-grow: 1;\n",
       "}\n",
       "\n",
       "#sk-container-id-5 div.sk-parallel {\n",
       "  display: flex;\n",
       "  align-items: stretch;\n",
       "  justify-content: center;\n",
       "  background-color: var(--sklearn-color-background);\n",
       "  position: relative;\n",
       "}\n",
       "\n",
       "#sk-container-id-5 div.sk-parallel-item {\n",
       "  display: flex;\n",
       "  flex-direction: column;\n",
       "}\n",
       "\n",
       "#sk-container-id-5 div.sk-parallel-item:first-child::after {\n",
       "  align-self: flex-end;\n",
       "  width: 50%;\n",
       "}\n",
       "\n",
       "#sk-container-id-5 div.sk-parallel-item:last-child::after {\n",
       "  align-self: flex-start;\n",
       "  width: 50%;\n",
       "}\n",
       "\n",
       "#sk-container-id-5 div.sk-parallel-item:only-child::after {\n",
       "  width: 0;\n",
       "}\n",
       "\n",
       "/* Serial-specific style estimator block */\n",
       "\n",
       "#sk-container-id-5 div.sk-serial {\n",
       "  display: flex;\n",
       "  flex-direction: column;\n",
       "  align-items: center;\n",
       "  background-color: var(--sklearn-color-background);\n",
       "  padding-right: 1em;\n",
       "  padding-left: 1em;\n",
       "}\n",
       "\n",
       "\n",
       "/* Toggleable style: style used for estimator/Pipeline/ColumnTransformer box that is\n",
       "clickable and can be expanded/collapsed.\n",
       "- Pipeline and ColumnTransformer use this feature and define the default style\n",
       "- Estimators will overwrite some part of the style using the `sk-estimator` class\n",
       "*/\n",
       "\n",
       "/* Pipeline and ColumnTransformer style (default) */\n",
       "\n",
       "#sk-container-id-5 div.sk-toggleable {\n",
       "  /* Default theme specific background. It is overwritten whether we have a\n",
       "  specific estimator or a Pipeline/ColumnTransformer */\n",
       "  background-color: var(--sklearn-color-background);\n",
       "}\n",
       "\n",
       "/* Toggleable label */\n",
       "#sk-container-id-5 label.sk-toggleable__label {\n",
       "  cursor: pointer;\n",
       "  display: block;\n",
       "  width: 100%;\n",
       "  margin-bottom: 0;\n",
       "  padding: 0.5em;\n",
       "  box-sizing: border-box;\n",
       "  text-align: center;\n",
       "}\n",
       "\n",
       "#sk-container-id-5 label.sk-toggleable__label-arrow:before {\n",
       "  /* Arrow on the left of the label */\n",
       "  content: \"▸\";\n",
       "  float: left;\n",
       "  margin-right: 0.25em;\n",
       "  color: var(--sklearn-color-icon);\n",
       "}\n",
       "\n",
       "#sk-container-id-5 label.sk-toggleable__label-arrow:hover:before {\n",
       "  color: var(--sklearn-color-text);\n",
       "}\n",
       "\n",
       "/* Toggleable content - dropdown */\n",
       "\n",
       "#sk-container-id-5 div.sk-toggleable__content {\n",
       "  max-height: 0;\n",
       "  max-width: 0;\n",
       "  overflow: hidden;\n",
       "  text-align: left;\n",
       "  /* unfitted */\n",
       "  background-color: var(--sklearn-color-unfitted-level-0);\n",
       "}\n",
       "\n",
       "#sk-container-id-5 div.sk-toggleable__content.fitted {\n",
       "  /* fitted */\n",
       "  background-color: var(--sklearn-color-fitted-level-0);\n",
       "}\n",
       "\n",
       "#sk-container-id-5 div.sk-toggleable__content pre {\n",
       "  margin: 0.2em;\n",
       "  border-radius: 0.25em;\n",
       "  color: var(--sklearn-color-text);\n",
       "  /* unfitted */\n",
       "  background-color: var(--sklearn-color-unfitted-level-0);\n",
       "}\n",
       "\n",
       "#sk-container-id-5 div.sk-toggleable__content.fitted pre {\n",
       "  /* unfitted */\n",
       "  background-color: var(--sklearn-color-fitted-level-0);\n",
       "}\n",
       "\n",
       "#sk-container-id-5 input.sk-toggleable__control:checked~div.sk-toggleable__content {\n",
       "  /* Expand drop-down */\n",
       "  max-height: 200px;\n",
       "  max-width: 100%;\n",
       "  overflow: auto;\n",
       "}\n",
       "\n",
       "#sk-container-id-5 input.sk-toggleable__control:checked~label.sk-toggleable__label-arrow:before {\n",
       "  content: \"▾\";\n",
       "}\n",
       "\n",
       "/* Pipeline/ColumnTransformer-specific style */\n",
       "\n",
       "#sk-container-id-5 div.sk-label input.sk-toggleable__control:checked~label.sk-toggleable__label {\n",
       "  color: var(--sklearn-color-text);\n",
       "  background-color: var(--sklearn-color-unfitted-level-2);\n",
       "}\n",
       "\n",
       "#sk-container-id-5 div.sk-label.fitted input.sk-toggleable__control:checked~label.sk-toggleable__label {\n",
       "  background-color: var(--sklearn-color-fitted-level-2);\n",
       "}\n",
       "\n",
       "/* Estimator-specific style */\n",
       "\n",
       "/* Colorize estimator box */\n",
       "#sk-container-id-5 div.sk-estimator input.sk-toggleable__control:checked~label.sk-toggleable__label {\n",
       "  /* unfitted */\n",
       "  background-color: var(--sklearn-color-unfitted-level-2);\n",
       "}\n",
       "\n",
       "#sk-container-id-5 div.sk-estimator.fitted input.sk-toggleable__control:checked~label.sk-toggleable__label {\n",
       "  /* fitted */\n",
       "  background-color: var(--sklearn-color-fitted-level-2);\n",
       "}\n",
       "\n",
       "#sk-container-id-5 div.sk-label label.sk-toggleable__label,\n",
       "#sk-container-id-5 div.sk-label label {\n",
       "  /* The background is the default theme color */\n",
       "  color: var(--sklearn-color-text-on-default-background);\n",
       "}\n",
       "\n",
       "/* On hover, darken the color of the background */\n",
       "#sk-container-id-5 div.sk-label:hover label.sk-toggleable__label {\n",
       "  color: var(--sklearn-color-text);\n",
       "  background-color: var(--sklearn-color-unfitted-level-2);\n",
       "}\n",
       "\n",
       "/* Label box, darken color on hover, fitted */\n",
       "#sk-container-id-5 div.sk-label.fitted:hover label.sk-toggleable__label.fitted {\n",
       "  color: var(--sklearn-color-text);\n",
       "  background-color: var(--sklearn-color-fitted-level-2);\n",
       "}\n",
       "\n",
       "/* Estimator label */\n",
       "\n",
       "#sk-container-id-5 div.sk-label label {\n",
       "  font-family: monospace;\n",
       "  font-weight: bold;\n",
       "  display: inline-block;\n",
       "  line-height: 1.2em;\n",
       "}\n",
       "\n",
       "#sk-container-id-5 div.sk-label-container {\n",
       "  text-align: center;\n",
       "}\n",
       "\n",
       "/* Estimator-specific */\n",
       "#sk-container-id-5 div.sk-estimator {\n",
       "  font-family: monospace;\n",
       "  border: 1px dotted var(--sklearn-color-border-box);\n",
       "  border-radius: 0.25em;\n",
       "  box-sizing: border-box;\n",
       "  margin-bottom: 0.5em;\n",
       "  /* unfitted */\n",
       "  background-color: var(--sklearn-color-unfitted-level-0);\n",
       "}\n",
       "\n",
       "#sk-container-id-5 div.sk-estimator.fitted {\n",
       "  /* fitted */\n",
       "  background-color: var(--sklearn-color-fitted-level-0);\n",
       "}\n",
       "\n",
       "/* on hover */\n",
       "#sk-container-id-5 div.sk-estimator:hover {\n",
       "  /* unfitted */\n",
       "  background-color: var(--sklearn-color-unfitted-level-2);\n",
       "}\n",
       "\n",
       "#sk-container-id-5 div.sk-estimator.fitted:hover {\n",
       "  /* fitted */\n",
       "  background-color: var(--sklearn-color-fitted-level-2);\n",
       "}\n",
       "\n",
       "/* Specification for estimator info (e.g. \"i\" and \"?\") */\n",
       "\n",
       "/* Common style for \"i\" and \"?\" */\n",
       "\n",
       ".sk-estimator-doc-link,\n",
       "a:link.sk-estimator-doc-link,\n",
       "a:visited.sk-estimator-doc-link {\n",
       "  float: right;\n",
       "  font-size: smaller;\n",
       "  line-height: 1em;\n",
       "  font-family: monospace;\n",
       "  background-color: var(--sklearn-color-background);\n",
       "  border-radius: 1em;\n",
       "  height: 1em;\n",
       "  width: 1em;\n",
       "  text-decoration: none !important;\n",
       "  margin-left: 1ex;\n",
       "  /* unfitted */\n",
       "  border: var(--sklearn-color-unfitted-level-1) 1pt solid;\n",
       "  color: var(--sklearn-color-unfitted-level-1);\n",
       "}\n",
       "\n",
       ".sk-estimator-doc-link.fitted,\n",
       "a:link.sk-estimator-doc-link.fitted,\n",
       "a:visited.sk-estimator-doc-link.fitted {\n",
       "  /* fitted */\n",
       "  border: var(--sklearn-color-fitted-level-1) 1pt solid;\n",
       "  color: var(--sklearn-color-fitted-level-1);\n",
       "}\n",
       "\n",
       "/* On hover */\n",
       "div.sk-estimator:hover .sk-estimator-doc-link:hover,\n",
       ".sk-estimator-doc-link:hover,\n",
       "div.sk-label-container:hover .sk-estimator-doc-link:hover,\n",
       ".sk-estimator-doc-link:hover {\n",
       "  /* unfitted */\n",
       "  background-color: var(--sklearn-color-unfitted-level-3);\n",
       "  color: var(--sklearn-color-background);\n",
       "  text-decoration: none;\n",
       "}\n",
       "\n",
       "div.sk-estimator.fitted:hover .sk-estimator-doc-link.fitted:hover,\n",
       ".sk-estimator-doc-link.fitted:hover,\n",
       "div.sk-label-container:hover .sk-estimator-doc-link.fitted:hover,\n",
       ".sk-estimator-doc-link.fitted:hover {\n",
       "  /* fitted */\n",
       "  background-color: var(--sklearn-color-fitted-level-3);\n",
       "  color: var(--sklearn-color-background);\n",
       "  text-decoration: none;\n",
       "}\n",
       "\n",
       "/* Span, style for the box shown on hovering the info icon */\n",
       ".sk-estimator-doc-link span {\n",
       "  display: none;\n",
       "  z-index: 9999;\n",
       "  position: relative;\n",
       "  font-weight: normal;\n",
       "  right: .2ex;\n",
       "  padding: .5ex;\n",
       "  margin: .5ex;\n",
       "  width: min-content;\n",
       "  min-width: 20ex;\n",
       "  max-width: 50ex;\n",
       "  color: var(--sklearn-color-text);\n",
       "  box-shadow: 2pt 2pt 4pt #999;\n",
       "  /* unfitted */\n",
       "  background: var(--sklearn-color-unfitted-level-0);\n",
       "  border: .5pt solid var(--sklearn-color-unfitted-level-3);\n",
       "}\n",
       "\n",
       ".sk-estimator-doc-link.fitted span {\n",
       "  /* fitted */\n",
       "  background: var(--sklearn-color-fitted-level-0);\n",
       "  border: var(--sklearn-color-fitted-level-3);\n",
       "}\n",
       "\n",
       ".sk-estimator-doc-link:hover span {\n",
       "  display: block;\n",
       "}\n",
       "\n",
       "/* \"?\"-specific style due to the `<a>` HTML tag */\n",
       "\n",
       "#sk-container-id-5 a.estimator_doc_link {\n",
       "  float: right;\n",
       "  font-size: 1rem;\n",
       "  line-height: 1em;\n",
       "  font-family: monospace;\n",
       "  background-color: var(--sklearn-color-background);\n",
       "  border-radius: 1rem;\n",
       "  height: 1rem;\n",
       "  width: 1rem;\n",
       "  text-decoration: none;\n",
       "  /* unfitted */\n",
       "  color: var(--sklearn-color-unfitted-level-1);\n",
       "  border: var(--sklearn-color-unfitted-level-1) 1pt solid;\n",
       "}\n",
       "\n",
       "#sk-container-id-5 a.estimator_doc_link.fitted {\n",
       "  /* fitted */\n",
       "  border: var(--sklearn-color-fitted-level-1) 1pt solid;\n",
       "  color: var(--sklearn-color-fitted-level-1);\n",
       "}\n",
       "\n",
       "/* On hover */\n",
       "#sk-container-id-5 a.estimator_doc_link:hover {\n",
       "  /* unfitted */\n",
       "  background-color: var(--sklearn-color-unfitted-level-3);\n",
       "  color: var(--sklearn-color-background);\n",
       "  text-decoration: none;\n",
       "}\n",
       "\n",
       "#sk-container-id-5 a.estimator_doc_link.fitted:hover {\n",
       "  /* fitted */\n",
       "  background-color: var(--sklearn-color-fitted-level-3);\n",
       "}\n",
       "</style><div id=\"sk-container-id-5\" class=\"sk-top-container\"><div class=\"sk-text-repr-fallback\"><pre>KMeans(n_clusters=5, random_state=42)</pre><b>In a Jupyter environment, please rerun this cell to show the HTML representation or trust the notebook. <br />On GitHub, the HTML representation is unable to render, please try loading this page with nbviewer.org.</b></div><div class=\"sk-container\" hidden><div class=\"sk-item\"><div class=\"sk-estimator fitted sk-toggleable\"><input class=\"sk-toggleable__control sk-hidden--visually\" id=\"sk-estimator-id-5\" type=\"checkbox\" checked><label for=\"sk-estimator-id-5\" class=\"sk-toggleable__label fitted sk-toggleable__label-arrow fitted\">&nbsp;&nbsp;KMeans<a class=\"sk-estimator-doc-link fitted\" rel=\"noreferrer\" target=\"_blank\" href=\"https://scikit-learn.org/1.4/modules/generated/sklearn.cluster.KMeans.html\">?<span>Documentation for KMeans</span></a><span class=\"sk-estimator-doc-link fitted\">i<span>Fitted</span></span></label><div class=\"sk-toggleable__content fitted\"><pre>KMeans(n_clusters=5, random_state=42)</pre></div> </div></div></div></div>"
      ],
      "text/plain": [
       "KMeans(n_clusters=5, random_state=42)"
      ]
     },
     "execution_count": 565,
     "metadata": {},
     "output_type": "execute_result"
    }
   ],
   "source": [
    "# Clustering with 5 clusters (which seems to be the best)\n",
    "\n",
    "kmeans5 = KMeans(n_clusters=5, random_state=42)\n",
    "kmeans5.fit(X_scaled)"
   ]
  },
  {
   "cell_type": "code",
   "execution_count": 567,
   "id": "0e0187c9-168b-4680-8300-580072d2af22",
   "metadata": {},
   "outputs": [
    {
     "name": "stdout",
     "output_type": "stream",
     "text": [
      "Unique labels: [0 1 2 3 4]\n"
     ]
    }
   ],
   "source": [
    "print('Unique labels:', np.unique(kmeans5.labels_))"
   ]
  },
  {
   "cell_type": "code",
   "execution_count": 569,
   "id": "b68a4917-2ad0-4cd3-a10a-ca5a69a394df",
   "metadata": {},
   "outputs": [
    {
     "data": {
      "text/html": [
       "<div>\n",
       "<style scoped>\n",
       "    .dataframe tbody tr th:only-of-type {\n",
       "        vertical-align: middle;\n",
       "    }\n",
       "\n",
       "    .dataframe tbody tr th {\n",
       "        vertical-align: top;\n",
       "    }\n",
       "\n",
       "    .dataframe thead th {\n",
       "        text-align: right;\n",
       "    }\n",
       "</style>\n",
       "<table border=\"1\" class=\"dataframe\">\n",
       "  <thead>\n",
       "    <tr style=\"text-align: right;\">\n",
       "      <th></th>\n",
       "      <th>Country</th>\n",
       "      <th>Status</th>\n",
       "      <th>Sector</th>\n",
       "      <th>Programme</th>\n",
       "      <th>Instrument_type</th>\n",
       "      <th>Policy_side</th>\n",
       "      <th>Amount_USD_mn</th>\n",
       "      <th>Description</th>\n",
       "      <th>cluster</th>\n",
       "      <th>cluster2</th>\n",
       "      <th>cluster5</th>\n",
       "    </tr>\n",
       "  </thead>\n",
       "  <tbody>\n",
       "    <tr>\n",
       "      <th>0</th>\n",
       "      <td>Australia</td>\n",
       "      <td>In force</td>\n",
       "      <td>Hubs</td>\n",
       "      <td>Regional Hydrogen Hubs Programme</td>\n",
       "      <td>Grant</td>\n",
       "      <td>Pull</td>\n",
       "      <td>324.0</td>\n",
       "      <td>AUD 490 m (USD 324 m) for seven H₂ hubs (up to...</td>\n",
       "      <td>7</td>\n",
       "      <td>0</td>\n",
       "      <td>0</td>\n",
       "    </tr>\n",
       "    <tr>\n",
       "      <th>1</th>\n",
       "      <td>Australia</td>\n",
       "      <td>Announced</td>\n",
       "      <td>Electrolyser manufacturing</td>\n",
       "      <td>National Reconstruction Fund – H₂ equipment debt</td>\n",
       "      <td>Loan/guarantee</td>\n",
       "      <td>Push</td>\n",
       "      <td>2000.0</td>\n",
       "      <td>Finance in the form of debt, equity and guaran...</td>\n",
       "      <td>5</td>\n",
       "      <td>4</td>\n",
       "      <td>4</td>\n",
       "    </tr>\n",
       "    <tr>\n",
       "      <th>2</th>\n",
       "      <td>Australia</td>\n",
       "      <td>Announced</td>\n",
       "      <td>Industry</td>\n",
       "      <td>Future Made in Australia programme</td>\n",
       "      <td>Tax credit</td>\n",
       "      <td>Push</td>\n",
       "      <td>10000.0</td>\n",
       "      <td>AUD 2/kg (USD 1.3/kg) incentive for up to 10 y...</td>\n",
       "      <td>4</td>\n",
       "      <td>5</td>\n",
       "      <td>1</td>\n",
       "    </tr>\n",
       "    <tr>\n",
       "      <th>3</th>\n",
       "      <td>Australia</td>\n",
       "      <td>In force</td>\n",
       "      <td>Industry</td>\n",
       "      <td>the Australian Headstart programme</td>\n",
       "      <td>CfD</td>\n",
       "      <td>Pull</td>\n",
       "      <td>2600.0</td>\n",
       "      <td>For projects with a cumulative electrolyser ca...</td>\n",
       "      <td>7</td>\n",
       "      <td>2</td>\n",
       "      <td>2</td>\n",
       "    </tr>\n",
       "    <tr>\n",
       "      <th>4</th>\n",
       "      <td>Australia</td>\n",
       "      <td>Announced</td>\n",
       "      <td>Industry</td>\n",
       "      <td>Future Made in Australia Innovation Fund</td>\n",
       "      <td>Grant</td>\n",
       "      <td>Push</td>\n",
       "      <td>1200.0</td>\n",
       "      <td>Includes “green” metals and low-carbon liquid ...</td>\n",
       "      <td>6</td>\n",
       "      <td>1</td>\n",
       "      <td>1</td>\n",
       "    </tr>\n",
       "  </tbody>\n",
       "</table>\n",
       "</div>"
      ],
      "text/plain": [
       "     Country     Status                       Sector  \\\n",
       "0  Australia   In force                         Hubs   \n",
       "1  Australia  Announced  Electrolyser manufacturing    \n",
       "2  Australia  Announced                     Industry   \n",
       "3  Australia   In force                     Industry   \n",
       "4  Australia  Announced                     Industry   \n",
       "\n",
       "                                          Programme Instrument_type  \\\n",
       "0                  Regional Hydrogen Hubs Programme           Grant   \n",
       "1  National Reconstruction Fund – H₂ equipment debt  Loan/guarantee   \n",
       "2                Future Made in Australia programme      Tax credit   \n",
       "3                the Australian Headstart programme             CfD   \n",
       "4          Future Made in Australia Innovation Fund           Grant   \n",
       "\n",
       "  Policy_side  Amount_USD_mn  \\\n",
       "0        Pull          324.0   \n",
       "1        Push         2000.0   \n",
       "2        Push        10000.0   \n",
       "3        Pull         2600.0   \n",
       "4        Push         1200.0   \n",
       "\n",
       "                                         Description  cluster  cluster2  \\\n",
       "0  AUD 490 m (USD 324 m) for seven H₂ hubs (up to...        7         0   \n",
       "1  Finance in the form of debt, equity and guaran...        5         4   \n",
       "2  AUD 2/kg (USD 1.3/kg) incentive for up to 10 y...        4         5   \n",
       "3  For projects with a cumulative electrolyser ca...        7         2   \n",
       "4  Includes “green” metals and low-carbon liquid ...        6         1   \n",
       "\n",
       "   cluster5  \n",
       "0         0  \n",
       "1         4  \n",
       "2         1  \n",
       "3         2  \n",
       "4         1  "
      ]
     },
     "execution_count": 569,
     "metadata": {},
     "output_type": "execute_result"
    }
   ],
   "source": [
    "gh['cluster5'] = kmeans5.labels_\n",
    "gh.head()"
   ]
  },
  {
   "cell_type": "code",
   "execution_count": 571,
   "id": "b8ba576f-be7f-4bf4-9c22-6b03c33d6e92",
   "metadata": {},
   "outputs": [
    {
     "data": {
      "text/plain": [
       "cluster5  Instrument_type   \n",
       "0         CfD                    2\n",
       "          Grant                  6\n",
       "1         Grant                 36\n",
       "          Tax credit             4\n",
       "2         CfD                    4\n",
       "          Competitve bidding     9\n",
       "3         Tax credit             1\n",
       "4         Loan/guarantee         4\n",
       "dtype: int64"
      ]
     },
     "execution_count": 571,
     "metadata": {},
     "output_type": "execute_result"
    }
   ],
   "source": [
    "gh.groupby(by=['cluster5', 'Instrument_type']).size()"
   ]
  },
  {
   "cell_type": "code",
   "execution_count": 573,
   "id": "cff7701f-0c85-4ce3-b39a-af219de6d165",
   "metadata": {},
   "outputs": [
    {
     "data": {
      "image/png": "[encoded data removed]",
      "text/plain": [
       "<Figure size 600x500 with 1 Axes>"
      ]
     },
     "metadata": {},
     "output_type": "display_data"
    }
   ],
   "source": [
    "gh.groupby(by=['cluster5', 'Instrument_type']).size().plot.bar(title='Clusters differentiated by instrument',\n",
    "                                                                   figsize=(6, 5),\n",
    "                                                                   ylabel='Size',\n",
    "                                                                   xlabel='(Cluster, Instrument)');"
   ]
  },
  {
   "cell_type": "code",
   "execution_count": 575,
   "id": "57fb9260-1edf-4a00-ba3f-96c4d817c3f0",
   "metadata": {},
   "outputs": [
    {
     "data": {
      "text/plain": [
       "<matplotlib.legend.Legend at 0x32dcd6510>"
      ]
     },
     "execution_count": 575,
     "metadata": {},
     "output_type": "execute_result"
    },
    {
     "data": {
      "image/png": "[encoded data removed]",
      "text/plain": [
       "<Figure size 600x500 with 1 Axes>"
      ]
     },
     "metadata": {},
     "output_type": "display_data"
    }
   ],
   "source": [
    "gh.groupby(by=['cluster5','Instrument_type','Status']).size().unstack(level = 'Instrument_type', fill_value=0).plot.bar(title='Clusters differentiated by instrument and status',\n",
    "                                                                                                                      figsize=(6, 5),\n",
    "                                                                                                                      ylabel='Size',\n",
    "                                                                                                                      xlabel='(Cluster, Status)')\n",
    "plt.legend(bbox_to_anchor=(1.3, 1.0))\n",
    "\n",
    "# The mixed colours in the same bar may suggest that the two instruments within the same cluster may\n",
    "# share some similarities"
   ]
  },
  {
   "cell_type": "code",
   "execution_count": 577,
   "id": "967edb8c-e9e4-488d-b369-6123012b54fb",
   "metadata": {},
   "outputs": [
    {
     "data": {
      "image/png": "[encoded data removed]",
      "text/plain": [
       "<Figure size 800x600 with 1 Axes>"
      ]
     },
     "metadata": {},
     "output_type": "display_data"
    }
   ],
   "source": [
    "from sklearn.decomposition import PCA\n",
    "\n",
    "\n",
    "# Reduce to 2 dimensions\n",
    "pca = PCA(n_components=2)\n",
    "reduced_data = pca.fit_transform(X_scaled)  # use your scaled feature data\n",
    "\n",
    "# Predict cluster labels (if not already done)\n",
    "labels = kmeans5.labels_\n",
    "\n",
    "# Plot\n",
    "plt.figure(figsize=(8, 6))\n",
    "sns.scatterplot(x=reduced_data[:, 0], y=reduced_data[:, 1], hue=labels, palette='tab10', s=70)\n",
    "plt.title('K-Means Clusters (k=5) - PCA Projection')\n",
    "plt.xlabel('Principal Component 1')\n",
    "plt.ylabel('Principal Component 2')\n",
    "plt.legend(title='Cluster')\n",
    "plt.grid(True)\n",
    "plt.show()\n"
   ]
  },
  {
   "cell_type": "code",
   "execution_count": 547,
   "id": "fb9cf317-c8f1-4972-ae01-77bd48af9e17",
   "metadata": {},
   "outputs": [],
   "source": [
    "import plotly.express as px\n"
   ]
  },
  {
   "cell_type": "code",
   "execution_count": 579,
   "id": "0d2fc607-aab5-4b91-97f2-66fadce22e5d",
   "metadata": {},
   "outputs": [
    {
     "data": {
      "application/vnd.plotly.v1+json": {
       "config": {
        "plotlyServerURL": "https://plot.ly"
       },
       "data": [
        {
         "hovertemplate": "Principal Component 1=%{x}<br>Principal Component 2=%{y}<br>Cluster=%{marker.color}<extra></extra>",
         "legendgroup": "",
         "marker": {
          "color": [
           0,
           4,
           1,
           2,
           1,
           2,
           1,
           1,
           2,
           4,
           0,
           4,
           1,
           1,
           2,
           1,
           1,
           1,
           2,
           1,
           1,
           0,
           2,
           2,
           0,
           1,
           0,
           2,
           1,
           1,
           1,
           1,
           1,
           1,
           0,
           0,
           1,
           0,
           1,
           1,
           2,
           1,
           1,
           1,
           2,
           1,
           4,
           2,
           2,
           1,
           1,
           1,
           1,
           1,
           1,
           2,
           1,
           1,
           1,
           1,
           1,
           1,
           1,
           1,
           1,
           3
          ],
          "coloraxis": "coloraxis",
          "symbol": "circle"
         },
         "mode": "markers",
         "name": "",
         "orientation": "v",
         "showlegend": false,
         "type": "scatter",
         "x": [
          -0.2902896844467247,
          0.7977742475697477,
          1.6898318052029704,
          1.1743421311224131,
          -1.2949157479905242,
          2.3051290337679995,
          1.8655363665741784,
          2.1193681140064426,
          1.2592219123523205,
          1.1003412443944693,
          -0.6482988787369142,
          1.799087138831274,
          -0.9773325993703368,
          -0.9746874053707794,
          2.286238607932777,
          -1.1265852207459701,
          -1.2869000085979267,
          -0.9482087462438977,
          2.302243367586664,
          -0.9717483009268268,
          -0.9515219185261717,
          0.8703857394696413,
          1.219764654347134,
          2.291528995931891,
          -0.6109188140360994,
          -0.8440041341401258,
          -0.647684338716815,
          1.6064632967251196,
          -0.9642402250290936,
          -1.2994580003129967,
          -1.3182949878856014,
          -1.3240930393795804,
          -1.2681966166818652,
          -1.3224364532384438,
          -0.258867986027741,
          1.281860361622997,
          -0.9027862230191769,
          -0.643970379464911,
          -0.9703589060987766,
          -0.9482087462438977,
          1.2620274211397293,
          -1.3240930393795804,
          -0.9666182277155643,
          -0.9768516550067807,
          1.896633062737162,
          -0.9590567135552136,
          1.1017306392225192,
          1.1089336976788147,
          2.28717377752858,
          -0.9545946186266675,
          -0.9732445722801117,
          -1.2922438348596588,
          -0.9558771369294832,
          -0.9699313999978381,
          -0.9713207948258885,
          1.171670217991547,
          -0.9643471015543282,
          -0.9740461462193717,
          -0.9321772674587023,
          -0.7905658715228071,
          -1.3243602306926674,
          -0.9575604422019285,
          1.7807298438004922,
          -0.9661105642206996,
          -0.9749412371182115,
          4.443932537859813
         ],
         "xaxis": "x",
         "y": [
          -0.7285588738060375,
          -0.3491499684939784,
          2.5621667787351163,
          -0.8562061699599746,
          0.22175372636314708,
          -2.1232470603836107,
          2.3799206613533106,
          2.7781646079741193,
          -1.237701502059599,
          -0.33235795339624724,
          -0.8323357509288402,
          -1.3046607001769506,
          0.2621050149346573,
          0.26625513606260043,
          -2.152884794095285,
          0.4858523435958944,
          0.23432985099327816,
          0.30779826775746577,
          -2.1277744652504573,
          0.2708663817603151,
          0.30260013624367843,
          -0.8751780466602619,
          -0.7849414637225662,
          -2.1445845518393987,
          -0.7736890897369971,
          0.47128788794916643,
          -0.8313715813738636,
          -1.150818552356605,
          0.2826460184972041,
          0.2146272557394065,
          0.18507336285859904,
          0.17597663270947117,
          0.2636741417969167,
          0.17857569846636495,
          -0.6792604652559244,
          -0.2296036489802133,
          0.3790629739948739,
          -0.8255446436285695,
          0.27304624336287103,
          0.30779826775746577,
          -1.2332998584390533,
          0.17597663270947117,
          0.27891510152359883,
          0.2628595824124651,
          -0.6955628407458699,
          0.2907785790913557,
          -0.33017809179369123,
          -0.9588273469418417,
          -2.1514175795551034,
          0.2977792884687951,
          0.26851883849602415,
          0.22594576790652424,
          0.295767108527974,
          0.2737169700098115,
          0.2715371084072555,
          -0.860398211503351,
          0.2824783368354691,
          0.2672612260330109,
          0.33295051701772765,
          0.5551287188167051,
          0.17555742855513334,
          0.2931261223556465,
          2.246865262766526,
          0.27971158941684043,
          0.26585689211597957,
          6.425240750712056
         ],
         "yaxis": "y"
        }
       ],
       "layout": {
        "autosize": true,
        "coloraxis": {
         "colorbar": {
          "title": {
           "text": "Cluster"
          }
         },
         "colorscale": [
          [
           0,
           "#0d0887"
          ],
          [
           0.1111111111111111,
           "#46039f"
          ],
          [
           0.2222222222222222,
           "#7201a8"
          ],
          [
           0.3333333333333333,
           "#9c179e"
          ],
          [
           0.4444444444444444,
           "#bd3786"
          ],
          [
           0.5555555555555556,
           "#d8576b"
          ],
          [
           0.6666666666666666,
           "#ed7953"
          ],
          [
           0.7777777777777778,
           "#fb9f3a"
          ],
          [
           0.8888888888888888,
           "#fdca26"
          ],
          [
           1,
           "#f0f921"
          ]
         ]
        },
        "legend": {
         "tracegroupgap": 0
        },
        "template": {
         "data": {
          "bar": [
           {
            "error_x": {
             "color": "#2a3f5f"
            },
            "error_y": {
             "color": "#2a3f5f"
            },
            "marker": {
             "line": {
              "color": "#E5ECF6",
              "width": 0.5
             },
             "pattern": {
              "fillmode": "overlay",
              "size": 10,
              "solidity": 0.2
             }
            },
            "type": "bar"
           }
          ],
          "barpolar": [
           {
            "marker": {
             "line": {
              "color": "#E5ECF6",
              "width": 0.5
             },
             "pattern": {
              "fillmode": "overlay",
              "size": 10,
              "solidity": 0.2
             }
            },
            "type": "barpolar"
           }
          ],
          "carpet": [
           {
            "aaxis": {
             "endlinecolor": "#2a3f5f",
             "gridcolor": "white",
             "linecolor": "white",
             "minorgridcolor": "white",
             "startlinecolor": "#2a3f5f"
            },
            "baxis": {
             "endlinecolor": "#2a3f5f",
             "gridcolor": "white",
             "linecolor": "white",
             "minorgridcolor": "white",
             "startlinecolor": "#2a3f5f"
            },
            "type": "carpet"
           }
          ],
          "choropleth": [
           {
            "colorbar": {
             "outlinewidth": 0,
             "ticks": ""
            },
            "type": "choropleth"
           }
          ],
          "contour": [
           {
            "colorbar": {
             "outlinewidth": 0,
             "ticks": ""
            },
            "colorscale": [
             [
              0,
              "#0d0887"
             ],
             [
              0.1111111111111111,
              "#46039f"
             ],
             [
              0.2222222222222222,
              "#7201a8"
             ],
             [
              0.3333333333333333,
              "#9c179e"
             ],
             [
              0.4444444444444444,
              "#bd3786"
             ],
             [
              0.5555555555555556,
              "#d8576b"
             ],
             [
              0.6666666666666666,
              "#ed7953"
             ],
             [
              0.7777777777777778,
              "#fb9f3a"
             ],
             [
              0.8888888888888888,
              "#fdca26"
             ],
             [
              1,
              "#f0f921"
             ]
            ],
            "type": "contour"
           }
          ],
          "contourcarpet": [
           {
            "colorbar": {
             "outlinewidth": 0,
             "ticks": ""
            },
            "type": "contourcarpet"
           }
          ],
          "heatmap": [
           {
            "colorbar": {
             "outlinewidth": 0,
             "ticks": ""
            },
            "colorscale": [
             [
              0,
              "#0d0887"
             ],
             [
              0.1111111111111111,
              "#46039f"
             ],
             [
              0.2222222222222222,
              "#7201a8"
             ],
             [
              0.3333333333333333,
              "#9c179e"
             ],
             [
              0.4444444444444444,
              "#bd3786"
             ],
             [
              0.5555555555555556,
              "#d8576b"
             ],
             [
              0.6666666666666666,
              "#ed7953"
             ],
             [
              0.7777777777777778,
              "#fb9f3a"
             ],
             [
              0.8888888888888888,
              "#fdca26"
             ],
             [
              1,
              "#f0f921"
             ]
            ],
            "type": "heatmap"
           }
          ],
          "heatmapgl": [
           {
            "colorbar": {
             "outlinewidth": 0,
             "ticks": ""
            },
            "colorscale": [
             [
              0,
              "#0d0887"
             ],
             [
              0.1111111111111111,
              "#46039f"
             ],
             [
              0.2222222222222222,
              "#7201a8"
             ],
             [
              0.3333333333333333,
              "#9c179e"
             ],
             [
              0.4444444444444444,
              "#bd3786"
             ],
             [
              0.5555555555555556,
              "#d8576b"
             ],
             [
              0.6666666666666666,
              "#ed7953"
             ],
             [
              0.7777777777777778,
              "#fb9f3a"
             ],
             [
              0.8888888888888888,
              "#fdca26"
             ],
             [
              1,
              "#f0f921"
             ]
            ],
            "type": "heatmapgl"
           }
          ],
          "histogram": [
           {
            "marker": {
             "pattern": {
              "fillmode": "overlay",
              "size": 10,
              "solidity": 0.2
             }
            },
            "type": "histogram"
           }
          ],
          "histogram2d": [
           {
            "colorbar": {
             "outlinewidth": 0,
             "ticks": ""
            },
            "colorscale": [
             [
              0,
              "#0d0887"
             ],
             [
              0.1111111111111111,
              "#46039f"
             ],
             [
              0.2222222222222222,
              "#7201a8"
             ],
             [
              0.3333333333333333,
              "#9c179e"
             ],
             [
              0.4444444444444444,
              "#bd3786"
             ],
             [
              0.5555555555555556,
              "#d8576b"
             ],
             [
              0.6666666666666666,
              "#ed7953"
             ],
             [
              0.7777777777777778,
              "#fb9f3a"
             ],
             [
              0.8888888888888888,
              "#fdca26"
             ],
             [
              1,
              "#f0f921"
             ]
            ],
            "type": "histogram2d"
           }
          ],
          "histogram2dcontour": [
           {
            "colorbar": {
             "outlinewidth": 0,
             "ticks": ""
            },
            "colorscale": [
             [
              0,
              "#0d0887"
             ],
             [
              0.1111111111111111,
              "#46039f"
             ],
             [
              0.2222222222222222,
              "#7201a8"
             ],
             [
              0.3333333333333333,
              "#9c179e"
             ],
             [
              0.4444444444444444,
              "#bd3786"
             ],
             [
              0.5555555555555556,
              "#d8576b"
             ],
             [
              0.6666666666666666,
              "#ed7953"
             ],
             [
              0.7777777777777778,
              "#fb9f3a"
             ],
             [
              0.8888888888888888,
              "#fdca26"
             ],
             [
              1,
              "#f0f921"
             ]
            ],
            "type": "histogram2dcontour"
           }
          ],
          "mesh3d": [
           {
            "colorbar": {
             "outlinewidth": 0,
             "ticks": ""
            },
            "type": "mesh3d"
           }
          ],
          "parcoords": [
           {
            "line": {
             "colorbar": {
              "outlinewidth": 0,
              "ticks": ""
             }
            },
            "type": "parcoords"
           }
          ],
          "pie": [
           {
            "automargin": true,
            "type": "pie"
           }
          ],
          "scatter": [
           {
            "fillpattern": {
             "fillmode": "overlay",
             "size": 10,
             "solidity": 0.2
            },
            "type": "scatter"
           }
          ],
          "scatter3d": [
           {
            "line": {
             "colorbar": {
              "outlinewidth": 0,
              "ticks": ""
             }
            },
            "marker": {
             "colorbar": {
              "outlinewidth": 0,
              "ticks": ""
             }
            },
            "type": "scatter3d"
           }
          ],
          "scattercarpet": [
           {
            "marker": {
             "colorbar": {
              "outlinewidth": 0,
              "ticks": ""
             }
            },
            "type": "scattercarpet"
           }
          ],
          "scattergeo": [
           {
            "marker": {
             "colorbar": {
              "outlinewidth": 0,
              "ticks": ""
             }
            },
            "type": "scattergeo"
           }
          ],
          "scattergl": [
           {
            "marker": {
             "colorbar": {
              "outlinewidth": 0,
              "ticks": ""
             }
            },
            "type": "scattergl"
           }
          ],
          "scattermapbox": [
           {
            "marker": {
             "colorbar": {
              "outlinewidth": 0,
              "ticks": ""
             }
            },
            "type": "scattermapbox"
           }
          ],
          "scatterpolar": [
           {
            "marker": {
             "colorbar": {
              "outlinewidth": 0,
              "ticks": ""
             }
            },
            "type": "scatterpolar"
           }
          ],
          "scatterpolargl": [
           {
            "marker": {
             "colorbar": {
              "outlinewidth": 0,
              "ticks": ""
             }
            },
            "type": "scatterpolargl"
           }
          ],
          "scatterternary": [
           {
            "marker": {
             "colorbar": {
              "outlinewidth": 0,
              "ticks": ""
             }
            },
            "type": "scatterternary"
           }
          ],
          "surface": [
           {
            "colorbar": {
             "outlinewidth": 0,
             "ticks": ""
            },
            "colorscale": [
             [
              0,
              "#0d0887"
             ],
             [
              0.1111111111111111,
              "#46039f"
             ],
             [
              0.2222222222222222,
              "#7201a8"
             ],
             [
              0.3333333333333333,
              "#9c179e"
             ],
             [
              0.4444444444444444,
              "#bd3786"
             ],
             [
              0.5555555555555556,
              "#d8576b"
             ],
             [
              0.6666666666666666,
              "#ed7953"
             ],
             [
              0.7777777777777778,
              "#fb9f3a"
             ],
             [
              0.8888888888888888,
              "#fdca26"
             ],
             [
              1,
              "#f0f921"
             ]
            ],
            "type": "surface"
           }
          ],
          "table": [
           {
            "cells": {
             "fill": {
              "color": "#EBF0F8"
             },
             "line": {
              "color": "white"
             }
            },
            "header": {
             "fill": {
              "color": "#C8D4E3"
             },
             "line": {
              "color": "white"
             }
            },
            "type": "table"
           }
          ]
         },
         "layout": {
          "annotationdefaults": {
           "arrowcolor": "#2a3f5f",
           "arrowhead": 0,
           "arrowwidth": 1
          },
          "autotypenumbers": "strict",
          "coloraxis": {
           "colorbar": {
            "outlinewidth": 0,
            "ticks": ""
           }
          },
          "colorscale": {
           "diverging": [
            [
             0,
             "#8e0152"
            ],
            [
             0.1,
             "#c51b7d"
            ],
            [
             0.2,
             "#de77ae"
            ],
            [
             0.3,
             "#f1b6da"
            ],
            [
             0.4,
             "#fde0ef"
            ],
            [
             0.5,
             "#f7f7f7"
            ],
            [
             0.6,
             "#e6f5d0"
            ],
            [
             0.7,
             "#b8e186"
            ],
            [
             0.8,
             "#7fbc41"
            ],
            [
             0.9,
             "#4d9221"
            ],
            [
             1,
             "#276419"
            ]
           ],
           "sequential": [
            [
             0,
             "#0d0887"
            ],
            [
             0.1111111111111111,
             "#46039f"
            ],
            [
             0.2222222222222222,
             "#7201a8"
            ],
            [
             0.3333333333333333,
             "#9c179e"
            ],
            [
             0.4444444444444444,
             "#bd3786"
            ],
            [
             0.5555555555555556,
             "#d8576b"
            ],
            [
             0.6666666666666666,
             "#ed7953"
            ],
            [
             0.7777777777777778,
             "#fb9f3a"
            ],
            [
             0.8888888888888888,
             "#fdca26"
            ],
            [
             1,
             "#f0f921"
            ]
           ],
           "sequentialminus": [
            [
             0,
             "#0d0887"
            ],
            [
             0.1111111111111111,
             "#46039f"
            ],
            [
             0.2222222222222222,
             "#7201a8"
            ],
            [
             0.3333333333333333,
             "#9c179e"
            ],
            [
             0.4444444444444444,
             "#bd3786"
            ],
            [
             0.5555555555555556,
             "#d8576b"
            ],
            [
             0.6666666666666666,
             "#ed7953"
            ],
            [
             0.7777777777777778,
             "#fb9f3a"
            ],
            [
             0.8888888888888888,
             "#fdca26"
            ],
            [
             1,
             "#f0f921"
            ]
           ]
          },
          "colorway": [
           "#636efa",
           "#EF553B",
           "#00cc96",
           "#ab63fa",
           "#FFA15A",
           "#19d3f3",
           "#FF6692",
           "#B6E880",
           "#FF97FF",
           "#FECB52"
          ],
          "font": {
           "color": "#2a3f5f"
          },
          "geo": {
           "bgcolor": "white",
           "lakecolor": "white",
           "landcolor": "#E5ECF6",
           "showlakes": true,
           "showland": true,
           "subunitcolor": "white"
          },
          "hoverlabel": {
           "align": "left"
          },
          "hovermode": "closest",
          "mapbox": {
           "style": "light"
          },
          "paper_bgcolor": "white",
          "plot_bgcolor": "#E5ECF6",
          "polar": {
           "angularaxis": {
            "gridcolor": "white",
            "linecolor": "white",
            "ticks": ""
           },
           "bgcolor": "#E5ECF6",
           "radialaxis": {
            "gridcolor": "white",
            "linecolor": "white",
            "ticks": ""
           }
          },
          "scene": {
           "xaxis": {
            "backgroundcolor": "#E5ECF6",
            "gridcolor": "white",
            "gridwidth": 2,
            "linecolor": "white",
            "showbackground": true,
            "ticks": "",
            "zerolinecolor": "white"
           },
           "yaxis": {
            "backgroundcolor": "#E5ECF6",
            "gridcolor": "white",
            "gridwidth": 2,
            "linecolor": "white",
            "showbackground": true,
            "ticks": "",
            "zerolinecolor": "white"
           },
           "zaxis": {
            "backgroundcolor": "#E5ECF6",
            "gridcolor": "white",
            "gridwidth": 2,
            "linecolor": "white",
            "showbackground": true,
            "ticks": "",
            "zerolinecolor": "white"
           }
          },
          "shapedefaults": {
           "line": {
            "color": "#2a3f5f"
           }
          },
          "ternary": {
           "aaxis": {
            "gridcolor": "white",
            "linecolor": "white",
            "ticks": ""
           },
           "baxis": {
            "gridcolor": "white",
            "linecolor": "white",
            "ticks": ""
           },
           "bgcolor": "#E5ECF6",
           "caxis": {
            "gridcolor": "white",
            "linecolor": "white",
            "ticks": ""
           }
          },
          "title": {
           "x": 0.05
          },
          "xaxis": {
           "automargin": true,
           "gridcolor": "white",
           "linecolor": "white",
           "ticks": "",
           "title": {
            "standoff": 15
           },
           "zerolinecolor": "white",
           "zerolinewidth": 2
          },
          "yaxis": {
           "automargin": true,
           "gridcolor": "white",
           "linecolor": "white",
           "ticks": "",
           "title": {
            "standoff": 15
           },
           "zerolinecolor": "white",
           "zerolinewidth": 2
          }
         }
        },
        "title": {
         "text": "PCA Projection of Clusters (Interactive)"
        },
        "xaxis": {
         "anchor": "y",
         "autorange": true,
         "domain": [
          0,
          1
         ],
         "range": [
          -1.6740493885576087,
          4.793621695724754
         ],
         "title": {
          "text": "Principal Component 1"
         },
         "type": "linear"
        },
        "yaxis": {
         "anchor": "x",
         "autorange": true,
         "domain": [
          0,
          1
         ],
         "range": [
          -2.8607883584725897,
          7.1331443150893605
         ],
         "title": {
          "text": "Principal Component 2"
         },
         "type": "linear"
        }
       }
      },
      "image/png": "[encoded data removed]",
      "text/html": [
       "<div>                            <div id=\"75278491-ec20-48c5-8a8c-4df73ee55375\" class=\"plotly-graph-div\" style=\"height:525px; width:100%;\"></div>            <script type=\"text/javascript\">                require([\"plotly\"], function(Plotly) {                    window.PLOTLYENV=window.PLOTLYENV || {};                                    if (document.getElementById(\"75278491-ec20-48c5-8a8c-4df73ee55375\")) {                    Plotly.newPlot(                        \"75278491-ec20-48c5-8a8c-4df73ee55375\",                        [{\"hovertemplate\":\"Principal Component 1=%{x}\\u003cbr\\u003ePrincipal Component 2=%{y}\\u003cbr\\u003eCluster=%{marker.color}\\u003cextra\\u003e\\u003c\\u002fextra\\u003e\",\"legendgroup\":\"\",\"marker\":{\"color\":[0,4,1,2,1,2,1,1,2,4,0,4,1,1,2,1,1,1,2,1,1,0,2,2,0,1,0,2,1,1,1,1,1,1,0,0,1,0,1,1,2,1,1,1,2,1,4,2,2,1,1,1,1,1,1,2,1,1,1,1,1,1,1,1,1,3],\"coloraxis\":\"coloraxis\",\"symbol\":\"circle\"},\"mode\":\"markers\",\"name\":\"\",\"orientation\":\"v\",\"showlegend\":false,\"x\":[-0.2902896844467247,0.7977742475697477,1.6898318052029704,1.1743421311224131,-1.2949157479905242,2.3051290337679995,1.8655363665741784,2.1193681140064426,1.2592219123523205,1.1003412443944693,-0.6482988787369142,1.799087138831274,-0.9773325993703368,-0.9746874053707794,2.286238607932777,-1.1265852207459701,-1.2869000085979267,-0.9482087462438977,2.302243367586664,-0.9717483009268268,-0.9515219185261717,0.8703857394696413,1.219764654347134,2.291528995931891,-0.6109188140360994,-0.8440041341401258,-0.647684338716815,1.6064632967251196,-0.9642402250290936,-1.2994580003129967,-1.3182949878856014,-1.3240930393795804,-1.2681966166818652,-1.3224364532384438,-0.258867986027741,1.281860361622997,-0.9027862230191769,-0.643970379464911,-0.9703589060987766,-0.9482087462438977,1.2620274211397293,-1.3240930393795804,-0.9666182277155643,-0.9768516550067807,1.896633062737162,-0.9590567135552136,1.1017306392225192,1.1089336976788147,2.28717377752858,-0.9545946186266675,-0.9732445722801117,-1.2922438348596588,-0.9558771369294832,-0.9699313999978381,-0.9713207948258885,1.171670217991547,-0.9643471015543282,-0.9740461462193717,-0.9321772674587023,-0.7905658715228071,-1.3243602306926674,-0.9575604422019285,1.7807298438004922,-0.9661105642206996,-0.9749412371182115,4.443932537859813],\"xaxis\":\"x\",\"y\":[-0.7285588738060375,-0.3491499684939784,2.5621667787351163,-0.8562061699599746,0.22175372636314708,-2.1232470603836107,2.3799206613533106,2.7781646079741193,-1.237701502059599,-0.33235795339624724,-0.8323357509288402,-1.3046607001769506,0.2621050149346573,0.26625513606260043,-2.152884794095285,0.4858523435958944,0.23432985099327816,0.30779826775746577,-2.1277744652504573,0.2708663817603151,0.30260013624367843,-0.8751780466602619,-0.7849414637225662,-2.1445845518393987,-0.7736890897369971,0.47128788794916643,-0.8313715813738636,-1.150818552356605,0.2826460184972041,0.2146272557394065,0.18507336285859904,0.17597663270947117,0.2636741417969167,0.17857569846636495,-0.6792604652559244,-0.2296036489802133,0.3790629739948739,-0.8255446436285695,0.27304624336287103,0.30779826775746577,-1.2332998584390533,0.17597663270947117,0.27891510152359883,0.2628595824124651,-0.6955628407458699,0.2907785790913557,-0.33017809179369123,-0.9588273469418417,-2.1514175795551034,0.2977792884687951,0.26851883849602415,0.22594576790652424,0.295767108527974,0.2737169700098115,0.2715371084072555,-0.860398211503351,0.2824783368354691,0.2672612260330109,0.33295051701772765,0.5551287188167051,0.17555742855513334,0.2931261223556465,2.246865262766526,0.27971158941684043,0.26585689211597957,6.425240750712056],\"yaxis\":\"y\",\"type\":\"scatter\"}],                        {\"template\":{\"data\":{\"histogram2dcontour\":[{\"type\":\"histogram2dcontour\",\"colorbar\":{\"outlinewidth\":0,\"ticks\":\"\"},\"colorscale\":[[0.0,\"#0d0887\"],[0.1111111111111111,\"#46039f\"],[0.2222222222222222,\"#7201a8\"],[0.3333333333333333,\"#9c179e\"],[0.4444444444444444,\"#bd3786\"],[0.5555555555555556,\"#d8576b\"],[0.6666666666666666,\"#ed7953\"],[0.7777777777777778,\"#fb9f3a\"],[0.8888888888888888,\"#fdca26\"],[1.0,\"#f0f921\"]]}],\"choropleth\":[{\"type\":\"choropleth\",\"colorbar\":{\"outlinewidth\":0,\"ticks\":\"\"}}],\"histogram2d\":[{\"type\":\"histogram2d\",\"colorbar\":{\"outlinewidth\":0,\"ticks\":\"\"},\"colorscale\":[[0.0,\"#0d0887\"],[0.1111111111111111,\"#46039f\"],[0.2222222222222222,\"#7201a8\"],[0.3333333333333333,\"#9c179e\"],[0.4444444444444444,\"#bd3786\"],[0.5555555555555556,\"#d8576b\"],[0.6666666666666666,\"#ed7953\"],[0.7777777777777778,\"#fb9f3a\"],[0.8888888888888888,\"#fdca26\"],[1.0,\"#f0f921\"]]}],\"heatmap\":[{\"type\":\"heatmap\",\"colorbar\":{\"outlinewidth\":0,\"ticks\":\"\"},\"colorscale\":[[0.0,\"#0d0887\"],[0.1111111111111111,\"#46039f\"],[0.2222222222222222,\"#7201a8\"],[0.3333333333333333,\"#9c179e\"],[0.4444444444444444,\"#bd3786\"],[0.5555555555555556,\"#d8576b\"],[0.6666666666666666,\"#ed7953\"],[0.7777777777777778,\"#fb9f3a\"],[0.8888888888888888,\"#fdca26\"],[1.0,\"#f0f921\"]]}],\"heatmapgl\":[{\"type\":\"heatmapgl\",\"colorbar\":{\"outlinewidth\":0,\"ticks\":\"\"},\"colorscale\":[[0.0,\"#0d0887\"],[0.1111111111111111,\"#46039f\"],[0.2222222222222222,\"#7201a8\"],[0.3333333333333333,\"#9c179e\"],[0.4444444444444444,\"#bd3786\"],[0.5555555555555556,\"#d8576b\"],[0.6666666666666666,\"#ed7953\"],[0.7777777777777778,\"#fb9f3a\"],[0.8888888888888888,\"#fdca26\"],[1.0,\"#f0f921\"]]}],\"contourcarpet\":[{\"type\":\"contourcarpet\",\"colorbar\":{\"outlinewidth\":0,\"ticks\":\"\"}}],\"contour\":[{\"type\":\"contour\",\"colorbar\":{\"outlinewidth\":0,\"ticks\":\"\"},\"colorscale\":[[0.0,\"#0d0887\"],[0.1111111111111111,\"#46039f\"],[0.2222222222222222,\"#7201a8\"],[0.3333333333333333,\"#9c179e\"],[0.4444444444444444,\"#bd3786\"],[0.5555555555555556,\"#d8576b\"],[0.6666666666666666,\"#ed7953\"],[0.7777777777777778,\"#fb9f3a\"],[0.8888888888888888,\"#fdca26\"],[1.0,\"#f0f921\"]]}],\"surface\":[{\"type\":\"surface\",\"colorbar\":{\"outlinewidth\":0,\"ticks\":\"\"},\"colorscale\":[[0.0,\"#0d0887\"],[0.1111111111111111,\"#46039f\"],[0.2222222222222222,\"#7201a8\"],[0.3333333333333333,\"#9c179e\"],[0.4444444444444444,\"#bd3786\"],[0.5555555555555556,\"#d8576b\"],[0.6666666666666666,\"#ed7953\"],[0.7777777777777778,\"#fb9f3a\"],[0.8888888888888888,\"#fdca26\"],[1.0,\"#f0f921\"]]}],\"mesh3d\":[{\"type\":\"mesh3d\",\"colorbar\":{\"outlinewidth\":0,\"ticks\":\"\"}}],\"scatter\":[{\"fillpattern\":{\"fillmode\":\"overlay\",\"size\":10,\"solidity\":0.2},\"type\":\"scatter\"}],\"parcoords\":[{\"type\":\"parcoords\",\"line\":{\"colorbar\":{\"outlinewidth\":0,\"ticks\":\"\"}}}],\"scatterpolargl\":[{\"type\":\"scatterpolargl\",\"marker\":{\"colorbar\":{\"outlinewidth\":0,\"ticks\":\"\"}}}],\"bar\":[{\"error_x\":{\"color\":\"#2a3f5f\"},\"error_y\":{\"color\":\"#2a3f5f\"},\"marker\":{\"line\":{\"color\":\"#E5ECF6\",\"width\":0.5},\"pattern\":{\"fillmode\":\"overlay\",\"size\":10,\"solidity\":0.2}},\"type\":\"bar\"}],\"scattergeo\":[{\"type\":\"scattergeo\",\"marker\":{\"colorbar\":{\"outlinewidth\":0,\"ticks\":\"\"}}}],\"scatterpolar\":[{\"type\":\"scatterpolar\",\"marker\":{\"colorbar\":{\"outlinewidth\":0,\"ticks\":\"\"}}}],\"histogram\":[{\"marker\":{\"pattern\":{\"fillmode\":\"overlay\",\"size\":10,\"solidity\":0.2}},\"type\":\"histogram\"}],\"scattergl\":[{\"type\":\"scattergl\",\"marker\":{\"colorbar\":{\"outlinewidth\":0,\"ticks\":\"\"}}}],\"scatter3d\":[{\"type\":\"scatter3d\",\"line\":{\"colorbar\":{\"outlinewidth\":0,\"ticks\":\"\"}},\"marker\":{\"colorbar\":{\"outlinewidth\":0,\"ticks\":\"\"}}}],\"scattermapbox\":[{\"type\":\"scattermapbox\",\"marker\":{\"colorbar\":{\"outlinewidth\":0,\"ticks\":\"\"}}}],\"scatterternary\":[{\"type\":\"scatterternary\",\"marker\":{\"colorbar\":{\"outlinewidth\":0,\"ticks\":\"\"}}}],\"scattercarpet\":[{\"type\":\"scattercarpet\",\"marker\":{\"colorbar\":{\"outlinewidth\":0,\"ticks\":\"\"}}}],\"carpet\":[{\"aaxis\":{\"endlinecolor\":\"#2a3f5f\",\"gridcolor\":\"white\",\"linecolor\":\"white\",\"minorgridcolor\":\"white\",\"startlinecolor\":\"#2a3f5f\"},\"baxis\":{\"endlinecolor\":\"#2a3f5f\",\"gridcolor\":\"white\",\"linecolor\":\"white\",\"minorgridcolor\":\"white\",\"startlinecolor\":\"#2a3f5f\"},\"type\":\"carpet\"}],\"table\":[{\"cells\":{\"fill\":{\"color\":\"#EBF0F8\"},\"line\":{\"color\":\"white\"}},\"header\":{\"fill\":{\"color\":\"#C8D4E3\"},\"line\":{\"color\":\"white\"}},\"type\":\"table\"}],\"barpolar\":[{\"marker\":{\"line\":{\"color\":\"#E5ECF6\",\"width\":0.5},\"pattern\":{\"fillmode\":\"overlay\",\"size\":10,\"solidity\":0.2}},\"type\":\"barpolar\"}],\"pie\":[{\"automargin\":true,\"type\":\"pie\"}]},\"layout\":{\"autotypenumbers\":\"strict\",\"colorway\":[\"#636efa\",\"#EF553B\",\"#00cc96\",\"#ab63fa\",\"#FFA15A\",\"#19d3f3\",\"#FF6692\",\"#B6E880\",\"#FF97FF\",\"#FECB52\"],\"font\":{\"color\":\"#2a3f5f\"},\"hovermode\":\"closest\",\"hoverlabel\":{\"align\":\"left\"},\"paper_bgcolor\":\"white\",\"plot_bgcolor\":\"#E5ECF6\",\"polar\":{\"bgcolor\":\"#E5ECF6\",\"angularaxis\":{\"gridcolor\":\"white\",\"linecolor\":\"white\",\"ticks\":\"\"},\"radialaxis\":{\"gridcolor\":\"white\",\"linecolor\":\"white\",\"ticks\":\"\"}},\"ternary\":{\"bgcolor\":\"#E5ECF6\",\"aaxis\":{\"gridcolor\":\"white\",\"linecolor\":\"white\",\"ticks\":\"\"},\"baxis\":{\"gridcolor\":\"white\",\"linecolor\":\"white\",\"ticks\":\"\"},\"caxis\":{\"gridcolor\":\"white\",\"linecolor\":\"white\",\"ticks\":\"\"}},\"coloraxis\":{\"colorbar\":{\"outlinewidth\":0,\"ticks\":\"\"}},\"colorscale\":{\"sequential\":[[0.0,\"#0d0887\"],[0.1111111111111111,\"#46039f\"],[0.2222222222222222,\"#7201a8\"],[0.3333333333333333,\"#9c179e\"],[0.4444444444444444,\"#bd3786\"],[0.5555555555555556,\"#d8576b\"],[0.6666666666666666,\"#ed7953\"],[0.7777777777777778,\"#fb9f3a\"],[0.8888888888888888,\"#fdca26\"],[1.0,\"#f0f921\"]],\"sequentialminus\":[[0.0,\"#0d0887\"],[0.1111111111111111,\"#46039f\"],[0.2222222222222222,\"#7201a8\"],[0.3333333333333333,\"#9c179e\"],[0.4444444444444444,\"#bd3786\"],[0.5555555555555556,\"#d8576b\"],[0.6666666666666666,\"#ed7953\"],[0.7777777777777778,\"#fb9f3a\"],[0.8888888888888888,\"#fdca26\"],[1.0,\"#f0f921\"]],\"diverging\":[[0,\"#8e0152\"],[0.1,\"#c51b7d\"],[0.2,\"#de77ae\"],[0.3,\"#f1b6da\"],[0.4,\"#fde0ef\"],[0.5,\"#f7f7f7\"],[0.6,\"#e6f5d0\"],[0.7,\"#b8e186\"],[0.8,\"#7fbc41\"],[0.9,\"#4d9221\"],[1,\"#276419\"]]},\"xaxis\":{\"gridcolor\":\"white\",\"linecolor\":\"white\",\"ticks\":\"\",\"title\":{\"standoff\":15},\"zerolinecolor\":\"white\",\"automargin\":true,\"zerolinewidth\":2},\"yaxis\":{\"gridcolor\":\"white\",\"linecolor\":\"white\",\"ticks\":\"\",\"title\":{\"standoff\":15},\"zerolinecolor\":\"white\",\"automargin\":true,\"zerolinewidth\":2},\"scene\":{\"xaxis\":{\"backgroundcolor\":\"#E5ECF6\",\"gridcolor\":\"white\",\"linecolor\":\"white\",\"showbackground\":true,\"ticks\":\"\",\"zerolinecolor\":\"white\",\"gridwidth\":2},\"yaxis\":{\"backgroundcolor\":\"#E5ECF6\",\"gridcolor\":\"white\",\"linecolor\":\"white\",\"showbackground\":true,\"ticks\":\"\",\"zerolinecolor\":\"white\",\"gridwidth\":2},\"zaxis\":{\"backgroundcolor\":\"#E5ECF6\",\"gridcolor\":\"white\",\"linecolor\":\"white\",\"showbackground\":true,\"ticks\":\"\",\"zerolinecolor\":\"white\",\"gridwidth\":2}},\"shapedefaults\":{\"line\":{\"color\":\"#2a3f5f\"}},\"annotationdefaults\":{\"arrowcolor\":\"#2a3f5f\",\"arrowhead\":0,\"arrowwidth\":1},\"geo\":{\"bgcolor\":\"white\",\"landcolor\":\"#E5ECF6\",\"subunitcolor\":\"white\",\"showland\":true,\"showlakes\":true,\"lakecolor\":\"white\"},\"title\":{\"x\":0.05},\"mapbox\":{\"style\":\"light\"}}},\"xaxis\":{\"anchor\":\"y\",\"domain\":[0.0,1.0],\"title\":{\"text\":\"Principal Component 1\"}},\"yaxis\":{\"anchor\":\"x\",\"domain\":[0.0,1.0],\"title\":{\"text\":\"Principal Component 2\"}},\"coloraxis\":{\"colorbar\":{\"title\":{\"text\":\"Cluster\"}},\"colorscale\":[[0.0,\"#0d0887\"],[0.1111111111111111,\"#46039f\"],[0.2222222222222222,\"#7201a8\"],[0.3333333333333333,\"#9c179e\"],[0.4444444444444444,\"#bd3786\"],[0.5555555555555556,\"#d8576b\"],[0.6666666666666666,\"#ed7953\"],[0.7777777777777778,\"#fb9f3a\"],[0.8888888888888888,\"#fdca26\"],[1.0,\"#f0f921\"]]},\"legend\":{\"tracegroupgap\":0},\"title\":{\"text\":\"PCA Projection of Clusters (Interactive)\"}},                        {\"responsive\": true}                    ).then(function(){\n",
       "                            \n",
       "var gd = document.getElementById('75278491-ec20-48c5-8a8c-4df73ee55375');\n",
       "var x = new MutationObserver(function (mutations, observer) {{\n",
       "        var display = window.getComputedStyle(gd).display;\n",
       "        if (!display || display === 'none') {{\n",
       "            console.log([gd, 'removed!']);\n",
       "            Plotly.purge(gd);\n",
       "            observer.disconnect();\n",
       "        }}\n",
       "}});\n",
       "\n",
       "// Listen for the removal of the full notebook cells\n",
       "var notebookContainer = gd.closest('#notebook-container');\n",
       "if (notebookContainer) {{\n",
       "    x.observe(notebookContainer, {childList: true});\n",
       "}}\n",
       "\n",
       "// Listen for the clearing of the current output cell\n",
       "var outputEl = gd.closest('.output');\n",
       "if (outputEl) {{\n",
       "    x.observe(outputEl, {childList: true});\n",
       "}}\n",
       "\n",
       "                        })                };                });            </script>        </div>"
      ]
     },
     "metadata": {},
     "output_type": "display_data"
    },
    {
     "data": {
      "text/plain": [
       "<Figure size 640x480 with 0 Axes>"
      ]
     },
     "metadata": {},
     "output_type": "display_data"
    }
   ],
   "source": [
    "pca = PCA(n_components=2)\n",
    "pca_components = pca.fit_transform(X_scaled)\n",
    "\n",
    "# Step 2: Create a DataFrame for plotting\n",
    "pca_df = pd.DataFrame({\n",
    "    'PC1': pca_components[:, 0],\n",
    "    'PC2': pca_components[:, 1],\n",
    "    'Cluster': kmeans5.labels_\n",
    "})\n",
    "\n",
    "# Step 3: Plot with Plotly\n",
    "fig = px.scatter(\n",
    "    pca_df, x='PC1', y='PC2',\n",
    "    color='Cluster',\n",
    "    title='PCA Projection of Clusters (Interactive)',\n",
    "    labels={'PC1': 'Principal Component 1', 'PC2': 'Principal Component 2'},\n",
    "    color_discrete_sequence=px.colors.qualitative.Set2_r\n",
    ")\n",
    "fig.show()\n",
    "plt.savefig('whateer')"
   ]
  },
  {
   "cell_type": "code",
   "execution_count": null,
   "id": "a9b90436-21ec-4562-b642-b29a86280b7c",
   "metadata": {},
   "outputs": [],
   "source": []
  }
 ],
 "metadata": {
  "kernelspec": {
   "display_name": "Python 3 (ipykernel)",
   "language": "python",
   "name": "python3"
  },
  "language_info": {
   "codemirror_mode": {
    "name": "ipython",
    "version": 3
   },
   "file_extension": ".py",
   "mimetype": "text/x-python",
   "name": "python",
   "nbconvert_exporter": "python",
   "pygments_lexer": "ipython3",
   "version": "3.12.4"
  }
 },
 "nbformat": 4,
 "nbformat_minor": 5
}
